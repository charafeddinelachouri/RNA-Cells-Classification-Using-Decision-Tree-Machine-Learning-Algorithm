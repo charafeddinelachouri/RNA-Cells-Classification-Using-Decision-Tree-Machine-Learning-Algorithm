{
 "cells": [
  {
   "cell_type": "markdown",
   "id": "29a294fd",
   "metadata": {},
   "source": [
    "# Decision Tree Algorithm to classify Neoplastic Astrocytes cells from the neoplastic periphery and the tumor core using the database \"S1_Originaldata.csv\" with Appling Up-sampling Minority Class technique to solve the class imbalance problem."
   ]
  },
  {
   "cell_type": "code",
   "execution_count": 1,
   "id": "bb48dae9",
   "metadata": {},
   "outputs": [
    {
     "name": "stdout",
     "output_type": "stream",
     "text": [
      "       1/2-SBSRNA4        A1BG    A1BG-AS1        A1CF       A2LD1  \\\n",
      "count   444.000000  444.000000  444.000000  444.000000  444.000000   \n",
      "mean      0.281286    1.300646    0.218221    0.043053    0.169951   \n",
      "std       1.448833    2.474125    1.103586    0.567969    1.023480   \n",
      "min       0.000000    0.000000    0.000000    0.000000    0.000000   \n",
      "25%       0.000000    0.000000    0.000000    0.000000    0.000000   \n",
      "50%       0.000000    0.000000    0.000000    0.000000    0.000000   \n",
      "75%       0.000000    0.000000    0.000000    0.000000    0.000000   \n",
      "max       9.515390    9.235368    8.587576    8.715006    9.315997   \n",
      "\n",
      "              A2M       A2ML1       A2MP1  A4GALT       A4GNT  ...  \\\n",
      "count  444.000000  444.000000  444.000000   444.0  444.000000  ...   \n",
      "mean     0.966699    0.308724    0.034910     0.0    0.019368  ...   \n",
      "std      2.856530    1.524655    0.468207     0.0    0.342199  ...   \n",
      "min      0.000000    0.000000    0.000000     0.0    0.000000  ...   \n",
      "25%      0.000000    0.000000    0.000000     0.0    0.000000  ...   \n",
      "50%      0.000000    0.000000    0.000000     0.0    0.000000  ...   \n",
      "75%      0.000000    0.000000    0.000000     0.0    0.000000  ...   \n",
      "max     14.432504    9.786054    7.939351     0.0    7.044394  ...   \n",
      "\n",
      "         PPP1R2P3  PPP1R2P9     PPP1R32     PPP1R35     PPP1R36     PPP1R37  \\\n",
      "count  444.000000     444.0  444.000000  444.000000  444.000000  444.000000   \n",
      "mean     0.129347       0.0    0.186652    1.500870    0.168991    0.059058   \n",
      "std      0.482201       0.0    1.083458    2.676177    1.034354    0.502183   \n",
      "min      0.000000       0.0    0.000000    0.000000    0.000000    0.000000   \n",
      "25%      0.000000       0.0    0.000000    0.000000    0.000000    0.000000   \n",
      "50%      0.000000       0.0    0.000000    0.000000    0.000000    0.000000   \n",
      "75%      0.000000       0.0    0.000000    2.762115    0.000000    0.000000   \n",
      "max      3.053072       0.0    8.149755   10.759567    8.607547    7.653209   \n",
      "\n",
      "       PPP1R3A     PPP1R3B     PPP1R3C     PPP1R3D  \n",
      "count    444.0  444.000000  444.000000  444.000000  \n",
      "mean       0.0    0.274012    0.578264    0.138385  \n",
      "std        0.0    1.252474    2.071382    0.950394  \n",
      "min        0.0    0.000000    0.000000    0.000000  \n",
      "25%        0.0    0.000000    0.000000    0.000000  \n",
      "50%        0.0    0.000000    0.000000    0.000000  \n",
      "75%        0.0    0.000000    0.000000    0.000000  \n",
      "max        0.0   10.029919   11.223894    9.566267  \n",
      "\n",
      "[8 rows x 16383 columns]\n",
      "class\n",
      "Neoplastic_Core         386\n",
      "Neoplastic_Periphery     58\n",
      "dtype: int64\n"
     ]
    }
   ],
   "source": [
    "import numpy as np\n",
    "import pandas as pd\n",
    "from time import time\n",
    "import time\n",
    "\n",
    "%matplotlib inline\n",
    "import pandas as pd\n",
    "import numpy as np\n",
    "import matplotlib as mpl\n",
    "import matplotlib.pyplot as plt\n",
    "import matplotlib.colors as colors\n",
    "from mpl_toolkits.axes_grid1 import make_axes_locatable\n",
    "from pandas import set_option\n",
    "from sklearn.metrics import confusion_matrix\n",
    "\n",
    "from sklearn.metrics import accuracy_score\n",
    "from sklearn.metrics import f1_score\n",
    "from sklearn.metrics import recall_score\n",
    "from sklearn.metrics import precision_score\n",
    "from sklearn.metrics import classification_report\n",
    "\n",
    "from sklearn import model_selection\n",
    "from sklearn.linear_model import LogisticRegression\n",
    "from sklearn.neighbors import KNeighborsClassifier\n",
    "from sklearn.discriminant_analysis import LinearDiscriminantAnalysis\n",
    "from sklearn.naive_bayes import GaussianNB\n",
    "from sklearn.svm import SVC\n",
    "from sklearn.preprocessing import StandardScaler\n",
    "from sklearn.neural_network import MLPClassifier\n",
    "from sklearn.ensemble import RandomForestRegressor\n",
    "from sklearn.cluster import KMeans\n",
    "from sklearn.ensemble import RandomForestClassifier\n",
    "from sklearn.tree import DecisionTreeClassifier\n",
    "from sklearn.model_selection import train_test_split\n",
    "from sklearn.model_selection import GridSearchCV\n",
    "from sklearn.metrics import plot_confusion_matrix\n",
    "\n",
    "import seaborn as sns; sns.set() \n",
    "\n",
    "import pandas as pd\n",
    "from sklearn.cluster import KMeans\n",
    "from sklearn import metrics\n",
    "import re\n",
    "from numpy import random\n",
    "import seaborn as sb\n",
    "import matplotlib.pyplot as plt\n",
    "from sklearn.tree import export_graphviz\n",
    "import graphviz\n",
    "\n",
    "### Set path to the data set\n",
    "#dataset_path = \"GSE75688_GEO_processed_Breast_Cancer_TestPG_T1.csv\"\n",
    "## Load data\n",
    "#data = pd.read_csv(dataset_path,header=0,index_col=0)\n",
    "\n",
    "rc={'lines.linewidth': 2, 'axes.labelsize': 14, 'axes.titlesize': 14}\n",
    "sns.set(rc=rc)\n",
    "\n",
    "set_option(\"display.max_rows\", 10)\n",
    "pd.options.mode.chained_assignment = None\n",
    "\n",
    "filename = 'S1_Originaldata.csv'\n",
    "df = pd.read_csv(filename)\n",
    "print(df.describe())\n",
    "print(df.groupby('class').size())"
   ]
  },
  {
   "cell_type": "code",
   "execution_count": 2,
   "id": "4289b9da",
   "metadata": {},
   "outputs": [
    {
     "data": {
      "text/html": [
       "<div>\n",
       "<style scoped>\n",
       "    .dataframe tbody tr th:only-of-type {\n",
       "        vertical-align: middle;\n",
       "    }\n",
       "\n",
       "    .dataframe tbody tr th {\n",
       "        vertical-align: top;\n",
       "    }\n",
       "\n",
       "    .dataframe thead th {\n",
       "        text-align: right;\n",
       "    }\n",
       "</style>\n",
       "<table border=\"1\" class=\"dataframe\">\n",
       "  <thead>\n",
       "    <tr style=\"text-align: right;\">\n",
       "      <th></th>\n",
       "      <th>class</th>\n",
       "      <th>1/2-SBSRNA4</th>\n",
       "      <th>A1BG</th>\n",
       "      <th>A1BG-AS1</th>\n",
       "      <th>A1CF</th>\n",
       "      <th>A2LD1</th>\n",
       "      <th>A2M</th>\n",
       "      <th>A2ML1</th>\n",
       "      <th>A2MP1</th>\n",
       "      <th>A4GALT</th>\n",
       "      <th>...</th>\n",
       "      <th>PPP1R2P3</th>\n",
       "      <th>PPP1R2P9</th>\n",
       "      <th>PPP1R32</th>\n",
       "      <th>PPP1R35</th>\n",
       "      <th>PPP1R36</th>\n",
       "      <th>PPP1R37</th>\n",
       "      <th>PPP1R3A</th>\n",
       "      <th>PPP1R3B</th>\n",
       "      <th>PPP1R3C</th>\n",
       "      <th>PPP1R3D</th>\n",
       "    </tr>\n",
       "  </thead>\n",
       "  <tbody>\n",
       "    <tr>\n",
       "      <th>133</th>\n",
       "      <td>Neoplastic_Core</td>\n",
       "      <td>0.000000</td>\n",
       "      <td>0.000000</td>\n",
       "      <td>0.0</td>\n",
       "      <td>0.0</td>\n",
       "      <td>0.000000</td>\n",
       "      <td>0.000000</td>\n",
       "      <td>0.00000</td>\n",
       "      <td>0.0</td>\n",
       "      <td>0</td>\n",
       "      <td>...</td>\n",
       "      <td>0.0</td>\n",
       "      <td>0</td>\n",
       "      <td>0.000000</td>\n",
       "      <td>0.000000</td>\n",
       "      <td>0.0</td>\n",
       "      <td>0.0</td>\n",
       "      <td>0</td>\n",
       "      <td>0.0</td>\n",
       "      <td>0.000000</td>\n",
       "      <td>0.0</td>\n",
       "    </tr>\n",
       "    <tr>\n",
       "      <th>325</th>\n",
       "      <td>Neoplastic_Core</td>\n",
       "      <td>5.678266</td>\n",
       "      <td>0.000000</td>\n",
       "      <td>0.0</td>\n",
       "      <td>0.0</td>\n",
       "      <td>0.000000</td>\n",
       "      <td>0.000000</td>\n",
       "      <td>7.36906</td>\n",
       "      <td>0.0</td>\n",
       "      <td>0</td>\n",
       "      <td>...</td>\n",
       "      <td>0.0</td>\n",
       "      <td>0</td>\n",
       "      <td>0.000000</td>\n",
       "      <td>0.000000</td>\n",
       "      <td>0.0</td>\n",
       "      <td>0.0</td>\n",
       "      <td>0</td>\n",
       "      <td>0.0</td>\n",
       "      <td>0.000000</td>\n",
       "      <td>0.0</td>\n",
       "    </tr>\n",
       "    <tr>\n",
       "      <th>423</th>\n",
       "      <td>Neoplastic_Periphery</td>\n",
       "      <td>0.000000</td>\n",
       "      <td>0.000000</td>\n",
       "      <td>0.0</td>\n",
       "      <td>0.0</td>\n",
       "      <td>0.000000</td>\n",
       "      <td>0.000000</td>\n",
       "      <td>0.00000</td>\n",
       "      <td>0.0</td>\n",
       "      <td>0</td>\n",
       "      <td>...</td>\n",
       "      <td>0.0</td>\n",
       "      <td>0</td>\n",
       "      <td>0.000000</td>\n",
       "      <td>0.000000</td>\n",
       "      <td>0.0</td>\n",
       "      <td>0.0</td>\n",
       "      <td>0</td>\n",
       "      <td>0.0</td>\n",
       "      <td>0.000000</td>\n",
       "      <td>0.0</td>\n",
       "    </tr>\n",
       "    <tr>\n",
       "      <th>164</th>\n",
       "      <td>Neoplastic_Core</td>\n",
       "      <td>0.000000</td>\n",
       "      <td>0.000000</td>\n",
       "      <td>0.0</td>\n",
       "      <td>0.0</td>\n",
       "      <td>0.000000</td>\n",
       "      <td>0.000000</td>\n",
       "      <td>0.00000</td>\n",
       "      <td>0.0</td>\n",
       "      <td>0</td>\n",
       "      <td>...</td>\n",
       "      <td>0.0</td>\n",
       "      <td>0</td>\n",
       "      <td>0.000000</td>\n",
       "      <td>0.000000</td>\n",
       "      <td>0.0</td>\n",
       "      <td>0.0</td>\n",
       "      <td>0</td>\n",
       "      <td>0.0</td>\n",
       "      <td>0.000000</td>\n",
       "      <td>0.0</td>\n",
       "    </tr>\n",
       "    <tr>\n",
       "      <th>119</th>\n",
       "      <td>Neoplastic_Core</td>\n",
       "      <td>0.000000</td>\n",
       "      <td>6.078416</td>\n",
       "      <td>0.0</td>\n",
       "      <td>0.0</td>\n",
       "      <td>2.912066</td>\n",
       "      <td>0.000000</td>\n",
       "      <td>0.00000</td>\n",
       "      <td>0.0</td>\n",
       "      <td>0</td>\n",
       "      <td>...</td>\n",
       "      <td>0.0</td>\n",
       "      <td>0</td>\n",
       "      <td>0.000000</td>\n",
       "      <td>0.000000</td>\n",
       "      <td>0.0</td>\n",
       "      <td>0.0</td>\n",
       "      <td>0</td>\n",
       "      <td>0.0</td>\n",
       "      <td>0.000000</td>\n",
       "      <td>0.0</td>\n",
       "    </tr>\n",
       "    <tr>\n",
       "      <th>...</th>\n",
       "      <td>...</td>\n",
       "      <td>...</td>\n",
       "      <td>...</td>\n",
       "      <td>...</td>\n",
       "      <td>...</td>\n",
       "      <td>...</td>\n",
       "      <td>...</td>\n",
       "      <td>...</td>\n",
       "      <td>...</td>\n",
       "      <td>...</td>\n",
       "      <td>...</td>\n",
       "      <td>...</td>\n",
       "      <td>...</td>\n",
       "      <td>...</td>\n",
       "      <td>...</td>\n",
       "      <td>...</td>\n",
       "      <td>...</td>\n",
       "      <td>...</td>\n",
       "      <td>...</td>\n",
       "      <td>...</td>\n",
       "      <td>...</td>\n",
       "    </tr>\n",
       "    <tr>\n",
       "      <th>274</th>\n",
       "      <td>Neoplastic_Core</td>\n",
       "      <td>0.000000</td>\n",
       "      <td>0.000000</td>\n",
       "      <td>0.0</td>\n",
       "      <td>0.0</td>\n",
       "      <td>0.000000</td>\n",
       "      <td>0.000000</td>\n",
       "      <td>0.00000</td>\n",
       "      <td>0.0</td>\n",
       "      <td>0</td>\n",
       "      <td>...</td>\n",
       "      <td>0.0</td>\n",
       "      <td>0</td>\n",
       "      <td>7.794885</td>\n",
       "      <td>0.000000</td>\n",
       "      <td>0.0</td>\n",
       "      <td>0.0</td>\n",
       "      <td>0</td>\n",
       "      <td>0.0</td>\n",
       "      <td>0.000000</td>\n",
       "      <td>0.0</td>\n",
       "    </tr>\n",
       "    <tr>\n",
       "      <th>288</th>\n",
       "      <td>Neoplastic_Core</td>\n",
       "      <td>0.000000</td>\n",
       "      <td>0.000000</td>\n",
       "      <td>0.0</td>\n",
       "      <td>0.0</td>\n",
       "      <td>0.000000</td>\n",
       "      <td>0.000000</td>\n",
       "      <td>0.00000</td>\n",
       "      <td>0.0</td>\n",
       "      <td>0</td>\n",
       "      <td>...</td>\n",
       "      <td>0.0</td>\n",
       "      <td>0</td>\n",
       "      <td>0.000000</td>\n",
       "      <td>5.929095</td>\n",
       "      <td>0.0</td>\n",
       "      <td>0.0</td>\n",
       "      <td>0</td>\n",
       "      <td>0.0</td>\n",
       "      <td>0.000000</td>\n",
       "      <td>0.0</td>\n",
       "    </tr>\n",
       "    <tr>\n",
       "      <th>378</th>\n",
       "      <td>Neoplastic_Core</td>\n",
       "      <td>0.000000</td>\n",
       "      <td>0.000000</td>\n",
       "      <td>0.0</td>\n",
       "      <td>0.0</td>\n",
       "      <td>0.000000</td>\n",
       "      <td>13.557137</td>\n",
       "      <td>0.00000</td>\n",
       "      <td>0.0</td>\n",
       "      <td>0</td>\n",
       "      <td>...</td>\n",
       "      <td>0.0</td>\n",
       "      <td>0</td>\n",
       "      <td>0.000000</td>\n",
       "      <td>0.000000</td>\n",
       "      <td>0.0</td>\n",
       "      <td>0.0</td>\n",
       "      <td>0</td>\n",
       "      <td>0.0</td>\n",
       "      <td>0.000000</td>\n",
       "      <td>0.0</td>\n",
       "    </tr>\n",
       "    <tr>\n",
       "      <th>42</th>\n",
       "      <td>Neoplastic_Core</td>\n",
       "      <td>8.822964</td>\n",
       "      <td>0.000000</td>\n",
       "      <td>0.0</td>\n",
       "      <td>0.0</td>\n",
       "      <td>0.000000</td>\n",
       "      <td>1.610686</td>\n",
       "      <td>0.00000</td>\n",
       "      <td>0.0</td>\n",
       "      <td>0</td>\n",
       "      <td>...</td>\n",
       "      <td>0.0</td>\n",
       "      <td>0</td>\n",
       "      <td>0.000000</td>\n",
       "      <td>9.012754</td>\n",
       "      <td>0.0</td>\n",
       "      <td>0.0</td>\n",
       "      <td>0</td>\n",
       "      <td>0.0</td>\n",
       "      <td>11.223894</td>\n",
       "      <td>0.0</td>\n",
       "    </tr>\n",
       "    <tr>\n",
       "      <th>26</th>\n",
       "      <td>Neoplastic_Core</td>\n",
       "      <td>0.000000</td>\n",
       "      <td>0.000000</td>\n",
       "      <td>0.0</td>\n",
       "      <td>0.0</td>\n",
       "      <td>0.000000</td>\n",
       "      <td>0.000000</td>\n",
       "      <td>0.00000</td>\n",
       "      <td>0.0</td>\n",
       "      <td>0</td>\n",
       "      <td>...</td>\n",
       "      <td>0.0</td>\n",
       "      <td>0</td>\n",
       "      <td>0.000000</td>\n",
       "      <td>0.000000</td>\n",
       "      <td>0.0</td>\n",
       "      <td>0.0</td>\n",
       "      <td>0</td>\n",
       "      <td>0.0</td>\n",
       "      <td>0.000000</td>\n",
       "      <td>0.0</td>\n",
       "    </tr>\n",
       "  </tbody>\n",
       "</table>\n",
       "<p>15 rows × 16384 columns</p>\n",
       "</div>"
      ],
      "text/plain": [
       "                    class  1/2-SBSRNA4      A1BG  A1BG-AS1  A1CF     A2LD1  \\\n",
       "133       Neoplastic_Core     0.000000  0.000000       0.0   0.0  0.000000   \n",
       "325       Neoplastic_Core     5.678266  0.000000       0.0   0.0  0.000000   \n",
       "423  Neoplastic_Periphery     0.000000  0.000000       0.0   0.0  0.000000   \n",
       "164       Neoplastic_Core     0.000000  0.000000       0.0   0.0  0.000000   \n",
       "119       Neoplastic_Core     0.000000  6.078416       0.0   0.0  2.912066   \n",
       "..                    ...          ...       ...       ...   ...       ...   \n",
       "274       Neoplastic_Core     0.000000  0.000000       0.0   0.0  0.000000   \n",
       "288       Neoplastic_Core     0.000000  0.000000       0.0   0.0  0.000000   \n",
       "378       Neoplastic_Core     0.000000  0.000000       0.0   0.0  0.000000   \n",
       "42        Neoplastic_Core     8.822964  0.000000       0.0   0.0  0.000000   \n",
       "26        Neoplastic_Core     0.000000  0.000000       0.0   0.0  0.000000   \n",
       "\n",
       "           A2M    A2ML1  A2MP1  A4GALT  ...  PPP1R2P3  PPP1R2P9   PPP1R32  \\\n",
       "133   0.000000  0.00000    0.0       0  ...       0.0         0  0.000000   \n",
       "325   0.000000  7.36906    0.0       0  ...       0.0         0  0.000000   \n",
       "423   0.000000  0.00000    0.0       0  ...       0.0         0  0.000000   \n",
       "164   0.000000  0.00000    0.0       0  ...       0.0         0  0.000000   \n",
       "119   0.000000  0.00000    0.0       0  ...       0.0         0  0.000000   \n",
       "..         ...      ...    ...     ...  ...       ...       ...       ...   \n",
       "274   0.000000  0.00000    0.0       0  ...       0.0         0  7.794885   \n",
       "288   0.000000  0.00000    0.0       0  ...       0.0         0  0.000000   \n",
       "378  13.557137  0.00000    0.0       0  ...       0.0         0  0.000000   \n",
       "42    1.610686  0.00000    0.0       0  ...       0.0         0  0.000000   \n",
       "26    0.000000  0.00000    0.0       0  ...       0.0         0  0.000000   \n",
       "\n",
       "      PPP1R35  PPP1R36  PPP1R37  PPP1R3A  PPP1R3B    PPP1R3C  PPP1R3D  \n",
       "133  0.000000      0.0      0.0        0      0.0   0.000000      0.0  \n",
       "325  0.000000      0.0      0.0        0      0.0   0.000000      0.0  \n",
       "423  0.000000      0.0      0.0        0      0.0   0.000000      0.0  \n",
       "164  0.000000      0.0      0.0        0      0.0   0.000000      0.0  \n",
       "119  0.000000      0.0      0.0        0      0.0   0.000000      0.0  \n",
       "..        ...      ...      ...      ...      ...        ...      ...  \n",
       "274  0.000000      0.0      0.0        0      0.0   0.000000      0.0  \n",
       "288  5.929095      0.0      0.0        0      0.0   0.000000      0.0  \n",
       "378  0.000000      0.0      0.0        0      0.0   0.000000      0.0  \n",
       "42   9.012754      0.0      0.0        0      0.0  11.223894      0.0  \n",
       "26   0.000000      0.0      0.0        0      0.0   0.000000      0.0  \n",
       "\n",
       "[15 rows x 16384 columns]"
      ]
     },
     "execution_count": 2,
     "metadata": {},
     "output_type": "execute_result"
    }
   ],
   "source": [
    "df.sample(15)"
   ]
  },
  {
   "cell_type": "markdown",
   "id": "6aa595c7",
   "metadata": {},
   "source": [
    "Whenever we have a lot of features that means the exploratory data analysis will be fuzzy and it won't be effective"
   ]
  },
  {
   "cell_type": "code",
   "execution_count": 3,
   "id": "40f666a8",
   "metadata": {},
   "outputs": [
    {
     "data": {
      "text/plain": [
       "Neoplastic_Core         386\n",
       "Neoplastic_Periphery     58\n",
       "Name: class, dtype: int64"
      ]
     },
     "execution_count": 3,
     "metadata": {},
     "output_type": "execute_result"
    }
   ],
   "source": [
    "#Counts of classes in data\n",
    "df['class'].value_counts()"
   ]
  },
  {
   "cell_type": "markdown",
   "id": "cc619d97",
   "metadata": {},
   "source": [
    "# Identify features and labels"
   ]
  },
  {
   "cell_type": "code",
   "execution_count": 4,
   "id": "1522364b",
   "metadata": {},
   "outputs": [],
   "source": [
    "features = df.columns[:-1]\n",
    "X = df[features].values\n",
    "labels = df.columns[-1]\n",
    "y = df[labels].values"
   ]
  },
  {
   "cell_type": "code",
   "execution_count": 5,
   "id": "dde28f12",
   "metadata": {
    "scrolled": true
   },
   "outputs": [
    {
     "data": {
      "image/png": "[encoded data removed]",
      "text/plain": [
       "<Figure size 432x288 with 1 Axes>"
      ]
     },
     "metadata": {},
     "output_type": "display_data"
    }
   ],
   "source": [
    "df['class'].value_counts().plot(kind='pie', title='Distribution of Samples by Class');"
   ]
  },
  {
   "cell_type": "markdown",
   "id": "cd88f08a",
   "metadata": {},
   "source": [
    "Abviously we have here class imbalance problem, the Neoplastic_Core Class Counts (386) equal almost seven times the Neoplastic_Periphery class Counts (58). "
   ]
  },
  {
   "cell_type": "markdown",
   "id": "a488d7b9",
   "metadata": {},
   "source": [
    "# Solving Imbalanced Data Problem using Up-sampling Minority Class Technique"
   ]
  },
  {
   "cell_type": "markdown",
   "id": "4222771e",
   "metadata": {},
   "source": [
    "Up-sampling is the process of randomly duplicating observations from the minority class in order to reinforce its signal.\n",
    "\n",
    "There are several heuristics for doing so, but the most common way is to simply resample with replacement.\n",
    "\n",
    "First, we'll import the resampling module from Scikit-Learn:\n",
    "\n",
    "Next, we'll create a new DataFrame with an up-sampled minority class. Here are the steps:\n",
    "\n",
    "First, we'll separate observations from each class into different DataFrames.\n",
    "Next, we'll resample the minority class with replacement, setting the number of samples to match that of the majority class.\n",
    "Finally, we'll combine the up-sampled minority class DataFrame with the original majority class DataFrame."
   ]
  },
  {
   "cell_type": "code",
   "execution_count": 6,
   "id": "04cf5be0",
   "metadata": {},
   "outputs": [
    {
     "data": {
      "text/plain": [
       "Neoplastic_Core         386\n",
       "Neoplastic_Periphery    386\n",
       "Name: class, dtype: int64"
      ]
     },
     "execution_count": 6,
     "metadata": {},
     "output_type": "execute_result"
    }
   ],
   "source": [
    "#Upsampling all the minorities classes to the equal value of the majority class i.e. sample ='386'\n",
    "\n",
    "from sklearn.utils import resample\n",
    "\n",
    "df_Neoplastic_Core = resample(df[df['class']=='Neoplastic_Core'],\n",
    "               replace=True,\n",
    "               n_samples=386,\n",
    "               random_state=123)\n",
    "\n",
    "df_Neoplastic_Periphery = resample(df[df['class']=='Neoplastic_Periphery'],\n",
    "               replace=True,\n",
    "               n_samples=386,\n",
    "               random_state=123)\n",
    "\n",
    "\n",
    "df_upsampled = pd.concat([df_Neoplastic_Core, df_Neoplastic_Periphery])\n",
    "\n",
    "\n",
    "# Display new class counts\n",
    "\n",
    "df_upsampled['class'].value_counts()"
   ]
  },
  {
   "cell_type": "code",
   "execution_count": 7,
   "id": "84d04e5f",
   "metadata": {},
   "outputs": [],
   "source": [
    "features = df_upsampled.columns[:-1] \n",
    "X = df_upsampled[features].values\n",
    "labels = df.columns[-1]\n",
    "y = df_upsampled[labels].values"
   ]
  },
  {
   "cell_type": "code",
   "execution_count": 8,
   "id": "f4a75b2e",
   "metadata": {
    "scrolled": true
   },
   "outputs": [
    {
     "data": {
      "image/png": "[encoded data removed]",
      "text/plain": [
       "<Figure size 432x288 with 1 Axes>"
      ]
     },
     "metadata": {},
     "output_type": "display_data"
    }
   ],
   "source": [
    "df_upsampled['class'].value_counts().plot(kind='pie', title='Distribution of Samples by Class');"
   ]
  },
  {
   "cell_type": "markdown",
   "id": "da6a005b",
   "metadata": {},
   "source": [
    "Now after upsampling the minority class (Neoplastic_Periphery) we obtained 50/50 sample classes."
   ]
  },
  {
   "cell_type": "code",
   "execution_count": 9,
   "id": "a58f4f92",
   "metadata": {},
   "outputs": [
    {
     "name": "stdout",
     "output_type": "stream",
     "text": [
      "Feature Columns: class, 1/2-SBSRNA4, A1BG, A1BG-AS1, A1CF, A2LD1, A2M, A2ML1, A2MP1, A4GALT, A4GNT, AA06, AAA1, AAAS, AACS, AACSP1, AADAC, AADACL2, AADACL3, AADACL4, AADAT, AAGAB, AAK1, AAMP, AANAT, AARS, AARS2, AARSD1, AASDH, AASDHPPT, AASS, AATF, AATK, AATK-AS1, ABAT, ABCA1, ABCA10, ABCA11P, ABCA12, ABCA13, ABCA17P, ABCA2, ABCA3, ABCA4, ABCA5, ABCA6, ABCA7, ABCA8, ABCA9, ABCB1, ABCB10, ABCB11, ABCB4, ABCB5, ABCB6, ABCB7, ABCB8, ABCB9, ABCC1, ABCC10, ABCC11, ABCC12, ABCC13, ABCC2, ABCC3, ABCC4, ABCC5, ABCC6, ABCC6P1, ABCC6P2, ABCC8, ABCC9, ABCD1, ABCD2, ABCD3, ABCD4, ABCE1, ABCF1, ABCF2, ABCF3, ABCG1, ABCG2, ABCG4, ABCG5, ABCG8, ABHD1, ABHD10, ABHD11, ABHD11-AS1, ABHD12, ABHD12B, ABHD13, ABHD14A, ABHD14A-ACY1, ABHD14B, ABHD15, ABHD16A, ABHD16B, ABHD2, ABHD3, ABHD4, ABHD5, ABHD6, ABHD8, ABI1, ABI2, ABI3, ABI3BP, ABL1, ABL2, ABLIM1, ABLIM2, ABLIM3, ABO, ABP1, ABR, ABRA, ABT1, ABTB1, ABTB2, ACAA1, ACAA2, ACACA, ACACB, ACAD10, ACAD11, ACAD8, ACAD9, ACADL, ACADM, ACADS, ACADSB, ACADVL, ACAN, ACAP1, ACAP2, ACAP3, ACAT1, ACAT2, ACBD3, ACBD4, ACBD5, ACBD6, ACBD7, ACCN1, ACCN2, ACCN3, ACCN4, ACCN5, ACCS, ACCSL, ACD, ACE, ACE2, ACER1, ACER2, ACER3, ACHE, ACIN1, ACLY, ACMSD, ACN9, ACO1, ACO2, ACOT1, ACOT11, ACOT12, ACOT13, ACOT2, ACOT4, ACOT6, ACOT7, ACOT8, ACOT9, ACOX1, ACOX2, ACOX3, ACOXL, ACP1, ACP2, ACP5, ACP6, ACPL2, ACPP, ACPT, ACR, ACRBP, ACRC, ACRV1, ACSBG1, ACSBG2, ACSF2, ACSF3, ACSL1, ACSL3, ACSL4, ACSL5, ACSL6, ACSM1, ACSM2A, ACSM2B, ACSM3, ACSM4, ACSM5, ACSS1, ACSS2, ACSS3, ACTA1, ACTA2, ACTB, ACTBL2, ACTC1, ACTG1, ACTG2, ACTL10, ACTL6A, ACTL6B, ACTL7A, ACTL7B, ACTL8, ACTL9, ACTN1, ACTN2, ACTN3, ACTN4, ACTR10, ACTR1A, ACTR1B, ACTR2, ACTR3, ACTR3B, ACTR3BP2, ACTR3BP5, ACTR3C, ACTR5, ACTR6, ACTR8, ACTRT1, ACTRT2, ACVR1, ACVR1B, ACVR1C, ACVR2A, ACVR2B, ACVRL1, ACY1, ACY3, ACYP1, ACYP2, ADA, ADAD1, ADAD2, ADAL, ADAM1, ADAM10, ADAM11, ADAM12, ADAM15, ADAM17, ADAM18, ADAM19, ADAM2, ADAM20, ADAM21, ADAM21P1, ADAM22, ADAM23, ADAM28, ADAM29, ADAM30, ADAM32, ADAM33, ADAM3A, ADAM5P, ADAM6, ADAM7, ADAM8, ADAM9, ADAMDEC1, ADAMTS1, ADAMTS10, ADAMTS12, ADAMTS13, ADAMTS14, ADAMTS15, ADAMTS16, ADAMTS17, ADAMTS18, ADAMTS19, ADAMTS2, ADAMTS20, ADAMTS3, ADAMTS4, ADAMTS5, ADAMTS6, ADAMTS7, ADAMTS8, ADAMTS9, ADAMTS9-AS2, ADAMTSL1, ADAMTSL2, ADAMTSL3, ADAMTSL4, ADAMTSL5, ADAP1, ADAP2, ADAR, ADARB1, ADARB2, ADARB2-AS1, ADAT1, ADAT2, ADAT3, ADC, ADCK1, ADCK2, ADCK3, ADCK4, ADCK5, ADCY1, ADCY10, ADCY2, ADCY3, ADCY4, ADCY5, ADCY6, ADCY7, ADCY8, ADCY9, ADCYAP1, ADCYAP1R1, ADD1, ADD2, ADD3, ADGB, ADH1A, ADH1B, ADH1C, ADH4, ADH5, ADH6, ADH7, ADHFE1, ADI1, ADIG, ADIPOQ, ADIPOR1, ADIPOR2, ADK, ADM, ADM2, ADNP, ADNP2, ADO, ADORA1, ADORA2A, ADORA2B, ADORA3, ADPGK, ADPRH, ADPRHL1, ADPRHL2, ADRA1A, ADRA1B, ADRA1D, ADRA2A, ADRA2B, ADRA2C, ADRB1, ADRB2, ADRB3, ADRBK1, ADRBK2, ADRM1, ADSL, ADSS, ADSSL1, ADTRP, AEBP1, AEBP2, AEN, AES, AFAP1, AFAP1-AS1, AFAP1L1, AFAP1L2, AFF1, AFF2, AFF3, AFF4, AFG3L1P, AFG3L2, AFM, AFMID, AFP, AFTPH, AGA, AGAP1, AGAP11, AGAP2, AGAP3, AGAP4, AGAP5, AGAP6, AGAP7, AGAP8, AGAP9, AGBL1, AGBL2, AGBL3, AGBL4, AGBL5, AGER, AGFG1, AGFG2, AGGF1, AGK, AGL, AGMAT, AGMO, AGPAT1, AGPAT2, AGPAT3, AGPAT4, AGPAT4-IT1, AGPAT5, AGPAT6, AGPAT9, AGPHD1, AGPS, AGR2, AGR3, AGRN, AGRP, AGSK1, AGT, AGTPBP1, AGTR1, AGTR2, AGTRAP, AGXT, AGXT2, AGXT2L1, AGXT2L2, AHCTF1, AHCY, AHCYL1, AHCYL2, AHDC1, AHI1, AHNAK, AHNAK2, AHR, AHRR, AHSA1, AHSA2, AHSG, AHSP, AICDA, AIDA, AIF1, AIF1L, AIFM1, AIFM2, AIFM3, AIG1, AIM1, AIM1L, AIM2, AIMP1, AIMP2, AIP, AIPL1, AIRE, AJAP1, AJUBA, AK1, AK2, AK3, AK4, AK5, AK7, AK8, AKAP1, AKAP10, AKAP11, AKAP12, AKAP13, AKAP14, AKAP17A, AKAP2, AKAP3, AKAP4, AKAP5, AKAP6, AKAP7, AKAP8, AKAP8L, AKAP9, AKD1, AKIP1, AKIRIN1, AKIRIN2, AKIRIN2-AS1, AKNA, AKNAD1, AKR1A1, AKR1B1, AKR1B10, AKR1B15, AKR1C1, AKR1C2, AKR1C3, AKR1C4, AKR1CL1, AKR1D1, AKR1E2, AKR7A2, AKR7A2P1, AKR7A3, AKR7L, AKT1, AKT1S1, AKT2, AKT3, AKTIP, ALAD, ALAS1, ALAS2, ALB, ALCAM, ALDH16A1, ALDH18A1, ALDH1A1, ALDH1A2, ALDH1A3, ALDH1B1, ALDH1L1, ALDH1L2, ALDH2, ALDH3A1, ALDH3A2, ALDH3B1, ALDH3B2, ALDH4A1, ALDH5A1, ALDH6A1, ALDH7A1, ALDH8A1, ALDH9A1, ALDOA, ALDOB, ALDOC, ALG1, ALG10, ALG10B, ALG11, ALG12, ALG13, ALG14, ALG1L, ALG1L2, ALG2, ALG3, ALG5, ALG6, ALG8, ALG9, ALK, ALKBH1, ALKBH2, ALKBH3, ALKBH4, ALKBH5, ALKBH6, ALKBH7, ALKBH8, ALLC, ALMS1, ALMS1P, ALOX12, ALOX12B, ALOX12P2, ALOX15, ALOX15B, ALOX15P1, ALOX5, ALOX5AP, ALOXE3, ALPI, ALPK1, ALPK2, ALPK3, ALPL, ALPP, ALPPL2, ALS2, ALS2CL, ALS2CR11, ALS2CR12, ALS2CR8, ALX1, ALX3, ALX4, ALYREF, AMACR, AMBN, AMBP, AMBRA1, AMD1, AMDHD1, AMDHD2, AMELX, AMELY, AMFR, AMH, AMHR2, AMICA1, AMIGO1, AMIGO2, AMIGO3, AMMECR1, AMMECR1L, AMN, AMN1, AMOT, AMOTL1, AMOTL2, AMPD1, AMPD2, AMPD3, AMPH, AMT, AMTN, AMY1A, AMY1B, AMY1C, AMY2A, AMY2B, AMZ1, AMZ2, AMZ2P1, ANAPC1, ANAPC10, ANAPC11, ANAPC13, ANAPC16, ANAPC2, ANAPC4, ANAPC5, ANAPC7, ANG, ANGEL1, ANGEL2, ANGPT1, ANGPT2, ANGPT4, ANGPTL1, ANGPTL2, ANGPTL3, ANGPTL4, ANGPTL5, ANGPTL6, ANGPTL7, ANK1, ANK2, ANK3, ANKAR, ANKDD1A, ANKFN1, ANKFY1, ANKH, ANKHD1, ANKHD1-EIF4EBP3, ANKIB1, ANKK1, ANKLE1, ANKLE2, ANKMY1, ANKMY2, ANKRA2, ANKRD1, ANKRD10, ANKRD11, ANKRD12, ANKRD13A, ANKRD13B, ANKRD13C, ANKRD13D, ANKRD16, ANKRD17, ANKRD18A, ANKRD18B, ANKRD18DP, ANKRD19P, ANKRD2, ANKRD20A1, ANKRD20A11P, ANKRD20A2, ANKRD20A3, ANKRD20A4, ANKRD20A5P, ANKRD20A8P, ANKRD20A9P, ANKRD22, ANKRD23, ANKRD24, ANKRD26, ANKRD26P1, ANKRD26P3, ANKRD27, ANKRD28, ANKRD29, ANKRD30A, ANKRD30B, ANKRD30BL, ANKRD30BP2, ANKRD31, ANKRD32, ANKRD33, ANKRD33B, ANKRD34A, ANKRD34B, ANKRD34C, ANKRD35, ANKRD36, ANKRD36B, ANKRD36BP1, ANKRD36BP2, ANKRD37, ANKRD39, ANKRD40, ANKRD42, ANKRD44, ANKRD45, ANKRD46, ANKRD49, ANKRD5, ANKRD50, ANKRD52, ANKRD53, ANKRD54, ANKRD55, ANKRD6, ANKRD62P1-PARP4P3, ANKRD63, ANKRD65, ANKRD7, ANKRD9, ANKS1A, ANKS1B, ANKS3, ANKS4B, ANKS6, ANKUB1, ANKZF1, ANLN, ANO1, ANO10, ANO2, ANO3, ANO4, ANO5, ANO6, ANO7, ANO8, ANO9, ANP32A, ANP32A-IT1, ANP32AP1, ANP32B, ANP32C, ANP32D, ANP32E, ANPEP, ANTXR1, ANTXR2, ANTXRL, ANXA1, ANXA10, ANXA11, ANXA13, ANXA2, ANXA2P1, ANXA2P2, ANXA2P3, ANXA3, ANXA4, ANXA5, ANXA6, ANXA7, ANXA8, ANXA8L1, ANXA8L2, ANXA9, AOAH, AOC2, AOC3, AOC4, AOX1, AOX2P, AP1AR, AP1B1, AP1B1P1, AP1G1, AP1G2, AP1M1, AP1M2, AP1S1, AP1S2, AP1S3, AP2A1, AP2A2, AP2B1, AP2M1, AP2S1, AP3B1, AP3B2, AP3D1, AP3M1, AP3M2, AP3S1, AP3S2, AP4B1, AP4E1, AP4M1, AP4S1, AP5B1, APAF1, APBA1, APBA2, APBA3, APBB1, APBB1IP, APBB2, APBB3, APC, APC2, APCDD1, APCDD1L, APCS, APEH, APEX1, APEX2, APH1A, APH1B, API5, APIP, APITD1, APITD1-CORT, APLF, APLN, APLNR, APLP1, APLP2, APOA1, APOA1BP, APOA2, APOA4, APOA5, APOB, APOBEC1, APOBEC2, APOBEC3A, APOBEC3B, APOBEC3C, APOBEC3D, APOBEC3F, APOBEC3G, APOBEC3H, APOBEC4, APOBR, APOC1, APOC1P1, APOC2, APOC3, APOC4, APOC4-APOC2, APOD, APOE, APOF, APOH, APOL1, APOL2, APOL3, APOL4, APOL5, APOL6, APOLD1, APOM, APOO, APOOL, APOPT1, APP, APPBP2, APPL1, APPL2, APRT, APTX, AQP1, AQP10, AQP11, AQP12A, AQP12B, AQP2, AQP3, AQP4, AQP5, AQP6, AQP7, AQP7P1, AQP7P3, AQP8, AQP9, AQPEP, AQR, AR, ARAF, ARAP1, ARAP2, ARAP3, ARC, ARCN1, AREG, ARF1, ARF3, ARF4, ARF5, ARF6, ARFGAP1, ARFGAP2, ARFGAP3, ARFGEF1, ARFGEF2, ARFIP1, ARFIP2, ARFRP1, ARG1, ARG2, ARGFX, ARGFXP2, ARGLU1, ARHGAP1, ARHGAP10, ARHGAP11A, ARHGAP11B, ARHGAP12, ARHGAP15, ARHGAP17, ARHGAP18, ARHGAP19, ARHGAP19-SLIT1, ARHGAP20, ARHGAP21, ARHGAP22, ARHGAP23, ARHGAP24, ARHGAP25, ARHGAP26, ARHGAP27, ARHGAP28, ARHGAP29, ARHGAP30, ARHGAP31, ARHGAP32, ARHGAP33, ARHGAP35, ARHGAP36, ARHGAP39, ARHGAP4, ARHGAP40, ARHGAP42, ARHGAP44, ARHGAP5, ARHGAP5-AS1, ARHGAP6, ARHGAP8, ARHGAP9, ARHGDIA, ARHGDIB, ARHGDIG, ARHGEF1, ARHGEF10, ARHGEF10L, ARHGEF11, ARHGEF12, ARHGEF15, ARHGEF16, ARHGEF17, ARHGEF18, ARHGEF19, ARHGEF2, ARHGEF25, ARHGEF26, ARHGEF26-AS1, ARHGEF3, ARHGEF33, ARHGEF35, ARHGEF37, ARHGEF38, ARHGEF4, ARHGEF40, ARHGEF5, ARHGEF6, ARHGEF7, ARHGEF9, ARID1A, ARID1B, ARID2, ARID3A, ARID3B, ARID3C, ARID4A, ARID4B, ARID5A, ARID5B, ARIH1, ARIH2, ARL1, ARL10, ARL11, ARL13A, ARL13B, ARL14, ARL15, ARL16, ARL17A, ARL17B, ARL2, ARL2-SNX15, ARL2BP, ARL3, ARL4A, ARL4C, ARL4D, ARL5A, ARL5B, ARL5C, ARL6, ARL6IP1, ARL6IP4, ARL6IP5, ARL6IP6, ARL8A, ARL8B, ARL9, ARMC1, ARMC10, ARMC12, ARMC2, ARMC3, ARMC4, ARMC5, ARMC6, ARMC7, ARMC8, ARMC9, ARMCX1, ARMCX2, ARMCX3, ARMCX4, ARMCX5, ARMCX5-GPRASP2, ARMCX6, ARMS2, ARNT, ARNT2, ARNTL, ARNTL2, ARPC1A, ARPC1B, ARPC2, ARPC3, ARPC4, ARPC4-TTLL3, ARPC5, ARPC5L, ARPM1, ARPP19, ARPP21, ARR3, ARRB1, ARRB2, ARRDC1, ARRDC2, ARRDC3, ARRDC4, ARRDC5, ARSA, ARSB, ARSD, ARSE, ARSF, ARSG, ARSH, ARSI, ARSJ, ARSK, ART1, ART3, ART4, ART5, ARTN, ARV1, ARVCF, ARX, AS3MT, ASAH1, ASAH2, ASAH2B, ASAP1, ASAP1-IT1, ASAP2, ASAP3, ASB1, ASB10, ASB11, ASB12, ASB13, ASB14, ASB15, ASB16, ASB17, ASB18, ASB2, ASB3, ASB4, ASB5, ASB6, ASB7, ASB8, ASB9, ASB9P1, ASCC1, ASCC2, ASCC3, ASCL1, ASCL2, ASCL3, ASCL4, ASF1A, ASF1B, ASGR1, ASGR2, ASH1L, ASH2L, ASIP, ASL, ASMT, ASMTL, ASMTL-AS1, ASNA1, ASNS, ASNSD1, ASPA, ASPDH, ASPG, ASPH, ASPHD1, ASPHD2, ASPM, ASPN, ASPRV1, ASPSCR1, ASRGL1, ASS1, ASTE1, ASTL, ASTN1, ASTN2, ASUN, ASXL1, ASXL2, ASXL3, ASZ1, ATAD1, ATAD2, ATAD2B, ATAD3A, ATAD3B, ATAD3C, ATAD5, ATAT1, ATCAY, ATE1, ATF1, ATF2, ATF3, ATF4, ATF5, ATF6, ATF6B, ATF7, ATF7IP, ATF7IP2, ATG10, ATG12, ATG13, ATG14, ATG16L1, ATG16L2, ATG2A, ATG2B, ATG3, ATG4A, ATG4B, ATG4C, ATG4D, ATG5, ATG7, ATG9A, ATG9B, ATHL1, ATIC, ATL1, ATL2, ATL3, ATM, ATMIN, ATN1, ATOH1, ATOH7, ATOH8, ATOX1, ATP10A, ATP10B, ATP10D, ATP11A, ATP11B, ATP11C, ATP12A, ATP13A1, ATP13A2, ATP13A3, ATP13A4, ATP13A5, ATP1A1, ATP1A1OS, ATP1A2, ATP1A3, ATP1A4, ATP1B1, ATP1B2, ATP1B3, ATP1B4, ATP2A1, ATP2A2, ATP2A3, ATP2B1, ATP2B2, ATP2B3, ATP2B4, ATP2C1, ATP2C2, ATP4A, ATP4B, ATP5A1, ATP5B, ATP5C1, ATP5D, ATP5E, ATP5EP2, ATP5F1, ATP5G1, ATP5G2, ATP5G3, ATP5H, ATP5I, ATP5J, ATP5J2, ATP5J2-PTCD1, ATP5L, ATP5L2, ATP5O, ATP5S, ATP5SL, ATP6AP1, ATP6AP1L, ATP6AP2, ATP6V0A1, ATP6V0A2, ATP6V0A4, ATP6V0B, ATP6V0C, ATP6V0CP3, ATP6V0D1, ATP6V0D2, ATP6V0E1, ATP6V0E2, ATP6V1A, ATP6V1B1, ATP6V1B2, ATP6V1C1, ATP6V1C2, ATP6V1D, ATP6V1E1, ATP6V1E2, ATP6V1F, ATP6V1G1, ATP6V1G2, ATP6V1G2-DDX39B, ATP6V1G3, ATP6V1H, ATP7A, ATP7B, ATP8A1, ATP8A2, ATP8B1, ATP8B2, ATP8B3, ATP8B4, ATP8B5P, ATP9A, ATP9B, ATPAF1, ATPAF1-AS1, ATPAF2, ATPBD4, ATPIF1, ATR, ATRIP, ATRN, ATRNL1, ATRX, ATXN1, ATXN10, ATXN1L, ATXN2, ATXN2L, ATXN3, ATXN3L, ATXN7, ATXN7L1, ATXN7L2, ATXN7L3, ATXN7L3B, ATXN8OS, AUH, AUP1, AURKA, AURKAIP1, AURKAPS1, AURKB, AURKC, AUTS2, AVEN, AVIL, AVL9, AVP, AVPI1, AVPR1A, AVPR1B, AVPR2, AWAT1, AWAT2, AXDND1, AXIN1, AXIN2, AXL, AZGP1, AZGP1P1, AZI1, AZI2, AZIN1, AZU1, B2M, B3GALNT1, B3GALNT2, B3GALT1, B3GALT2, B3GALT4, B3GALT5, B3GALT6, B3GALTL, B3GAT1, B3GAT2, B3GAT3, B3GNT1, B3GNT2, B3GNT3, B3GNT4, B3GNT5, B3GNT6, B3GNT7, B3GNT8, B3GNT9, B3GNTL1, B4GALNT1, B4GALNT2, B4GALNT3, B4GALNT4, B4GALT1, B4GALT2, B4GALT3, B4GALT4, B4GALT5, B4GALT6, B4GALT7, B7H6, B9D1, B9D2, BAALC, BAAT, BABAM1, BACE1, BACE1-AS, BACE2, BACH1, BACH2, BAD, BAG1, BAG2, BAG3, BAG4, BAG5, BAG6, BAGE, BAGE2, BAGE3, BAGE4, BAGE5, BAHCC1, BAHD1, BAI1, BAI2, BAI3, BAIAP2, BAIAP2L1, BAIAP2L2, BAIAP3, BAK1, BAMBI, BANF1, BANF2, BANK1, BANP, BAP1, BARD1, BARHL1, BARHL2, BARX1, BARX2, BASP1, BASP1P1, BATF, BATF2, BATF3, BAX, BAZ1A, BAZ1B, BAZ2A, BAZ2B, BBC3, BBIP1, BBOX1, BBS1, BBS10, BBS12, BBS2, BBS4, BBS5, BBS7, BBS9, BBX, BCAM, BCAN, BCAP29, BCAP31, BCAR1, BCAR3, BCAR4, BCAS1, BCAS2, BCAS3, BCAS4, BCAT1, BCAT2, BCCIP, BCDIN3D, BCHE, BCKDHA, BCKDHB, BCKDK, BCL10, BCL11A, BCL11B, BCL2, BCL2A1, BCL2L1, BCL2L10, BCL2L11, BCL2L12, BCL2L13, BCL2L14, BCL2L15, BCL2L2, BCL2L2-PABPN1, BCL3, BCL6, BCL6B, BCL7A, BCL7B, BCL7C, BCL9, BCL9L, BCLAF1, BCMO1, BCO2, BCOR, BCORL1, BCORP1, BCR, BCRP2, BCRP3, BCS1L, BCYRN1, BDAG1, BDH1, BDH2, BDKRB1, BDKRB2, BDNF, BDNF-AS1, BDP1, BEAN1, BECN1, BEGAIN, BEND2, BEND3, BEND4, BEND5, BEND6, BEND7, BEST1, BEST2, BEST3, BEST4, BET1, BET1L, BET3L, BEX1, BEX2, BEX4, BEX5, BFAR, BFSP1, BFSP2, BGLAP, BGN, BHLHA15, BHLHA9, BHLHB9, BHLHE22, BHLHE23, BHLHE40, BHLHE41, BHMT, BHMT2, BICC1, BICD1, BICD2, BID, BIK, BIN1, BIN2, BIN3, BIRC2, BIRC3, BIRC5, BIRC6, BIRC7, BIRC8, BIVM, BIVM-ERCC5, BK250D10.8, BLCAP, BLID, BLK, BLM, BLMH, BLNK, BLOC1S1, BLOC1S1-RDH5, BLOC1S2, BLOC1S3, BLVRA, BLVRB, BLZF1, BMF, BMI1, BMP1, BMP10, BMP15, BMP2, BMP2K, BMP3, BMP4, BMP5, BMP6, BMP7, BMP8A, BMP8B, BMPER, BMPR1A, BMPR1B, BMPR2, BMS1, BMS1P1, BMS1P4, BMS1P5, BMX, BNC1, BNC2, BNIP1, BNIP2, BNIP3, BNIP3L, BNIPL, BOC, BOD1, BOD1L, BOD1P, BOK, BOK-AS1, BOLA1, BOLA2, BOLA2B, BOLA3, BOLA3-AS1, BOLL, BOP1, BORA, BPESC1, BPGM, BPHL, BPI, BPIFA1, BPIFA2, BPIFA3, BPIFA4P, BPIFB1, BPIFB2, BPIFB3, BPIFB4, BPIFB6, BPIFC, BPNT1, BPTF, BPY2, BPY2B, BPY2C, BRAF, BRAP, BRAT1, BRCA1, BRCA2, BRCC3, BRD1, BRD2, BRD3, BRD4, BRD7, BRD7P3, BRD8, BRD9, BRDT, BRE, BREA2, BRF1, BRF2, BRI3, BRI3BP, BRIP1, BRIX1, BRK1, BRMS1, BRMS1L, BROX, BRP44, BRP44L, BRPF1, BRPF3, BRS3, BRSK1, BRSK2, BRWD1, BRWD1-IT2, BRWD3, BSCL2, BSDC1, BSG, BSN, BSN-AS2, BSND, BSPH1, BSPRY, BST1, BST2, BSX, BTAF1, BTBD1, BTBD10, BTBD11, BTBD16, BTBD17, BTBD18, BTBD19, BTBD2, BTBD3, BTBD6, BTBD7, BTBD8, BTBD9, BTC, BTD, BTF3, BTF3L4, BTF3P11, BTG1, BTG2, BTG3, BTG4, BTK, BTLA, BTN1A1, BTN2A1, BTN2A2, BTN2A3P, BTN3A1, BTN3A2, BTN3A3, BTNL2, BTNL3, BTNL8, BTNL9, BTRC, BUB1, BUB1B, BUB3, BUD13, BUD31, BVES, BVES-AS1, BYSL, BZRAP1, BZW1, BZW2, C10orf10, C10orf103, C10orf105, C10orf107, C10orf108, C10orf11, C10orf111, C10orf113, C10orf114, C10orf116, C10orf118, C10orf12, C10orf120, C10orf122, C10orf125, C10orf128, C10orf129, C10orf131, C10orf136, C10orf137, C10orf140, C10orf2, C10orf25, C10orf26, C10orf27, C10orf28, C10orf32, C10orf32-AS3MT, C10orf35, C10orf40, C10orf46, C10orf47, C10orf53, C10orf54, C10orf55, C10orf58, C10orf62, C10orf67, C10orf68, C10orf71, C10orf76, C10orf81, C10orf82, C10orf88, C10orf90, C10orf91, C10orf95, C10orf96, C10orf99, C11orf1, C11orf10, C11orf16, C11orf2, C11orf20, C11orf21, C11orf24, C11orf30, C11orf31, C11orf34, C11orf35, C11orf36, C11orf40, C11orf41, C11orf42, C11orf45, C11orf46, C11orf48, C11orf49, C11orf51, C11orf52, C11orf53, C11orf54, C11orf57, C11orf58, C11orf61, C11orf63, C11orf65, C11orf67, C11orf68, C11orf70, C11orf71, C11orf73, C11orf74, C11orf75, C11orf80, C11orf82, C11orf83, C11orf84, C11orf85, C11orf86, C11orf87, C11orf88, C11orf9, C11orf91, C11orf92, C11orf93, C11orf94, C11orf95, C11orf96, C12orf10, C12orf12, C12orf23, C12orf26, C12orf29, C12orf32, C12orf33, C12orf34, C12orf35, C12orf36, C12orf37, C12orf39, C12orf4, C12orf40, C12orf42, C12orf43, C12orf44, C12orf45, C12orf47, C12orf49, C12orf5, C12orf50, C12orf51, C12orf52, C12orf53, C12orf54, C12orf56, C12orf57, C12orf59, C12orf60, C12orf61, C12orf65, C12orf66, C12orf68, C12orf69, C12orf70, C12orf71, C12orf73, C12orf74, C12orf75, C12orf76, C12orf77, C13orf15, C13orf33, C13orf35, C14orf1, C14orf101, C14orf102, C14orf105, C14orf109, C14orf118, C14orf119, C14orf126, C14orf129, C14orf132, C14orf133, C14orf135, C14orf142, C14orf149, C14orf159, C14orf162, C14orf165, C14orf166, C14orf166B, C14orf167, C14orf169, C14orf176, C14orf177, C14orf178, C14orf180, C14orf182, C14orf183, C14orf2, C14orf21, C14orf23, C14orf28, C14orf37, C14orf38, C14orf39, C14orf43, C14orf45, C14orf49, C14orf55, C14orf64, C14orf79, C14orf80, C14orf93, C15orf17, C15orf2, C15orf23, C15orf24, C15orf26, C15orf27, C15orf29, C15orf32, C15orf33, C15orf34, C15orf37, C15orf38, C15orf38-AP3S2, C15orf39, C15orf40, C15orf41, C15orf42, C15orf43, C15orf44, C15orf48, C15orf5, C15orf50, C15orf52, C15orf53, C15orf54, C15orf55, C15orf56, C15orf57, C15orf58, C15orf59, C15orf60, C15orf61, C15orf62, C15orf63, C16orf11, C16orf13, C16orf3, C16orf42, C16orf45, C16orf46, C16orf48, C16orf5, C16orf52, C16orf53, C16orf54, C16orf55, C16orf57, C16orf58, C16orf59, C16orf62, C16orf7, C16orf70, C16orf71, C16orf72, C16orf73, C16orf74, C16orf78, C16orf79, C16orf80, C16orf82, C16orf86, C16orf87, C16orf88, C16orf89, C16orf90, C16orf91, C16orf92, C16orf93, C16orf95, C16orf96, C17orf100, C17orf101, C17orf102, C17orf103, C17orf104, C17orf105, C17orf107, C17orf108, C17orf109, C17orf110, C17orf28, C17orf39, C17orf47, C17orf48, C17orf49, C17orf50, C17orf51, C17orf53, C17orf56, C17orf57, C17orf58, C17orf59, C17orf61, C17orf61-PLSCR3, C17orf62, C17orf63, C17orf64, C17orf65, C17orf66, C17orf67, C17orf69, C17orf70, C17orf72, C17orf74, C17orf75, C17orf76-AS1, C17orf77, C17orf78, C17orf79, C17orf80, C17orf81, C17orf82, C17orf85, C17orf89, C17orf90, C17orf96, C17orf97, C17orf98, C17orf99, C18orf1, C18orf21, C18orf25, C18orf26, C18orf32, C18orf34, C18orf42, C18orf54, C18orf56, C18orf62, C18orf63, C18orf8, C19orf10, C19orf12, C19orf18, C19orf21, C19orf24, C19orf25, C19orf26, C19orf29, C19orf29-AS1, C19orf33, C19orf35, C19orf38, C19orf40, C19orf42, C19orf43, C19orf44, C19orf45, C19orf46, C19orf47, C19orf48, C19orf51, C19orf52, C19orf53, C19orf54, C19orf55, C19orf57, C19orf59, C19orf6, C19orf60, C19orf63, C19orf66, C19orf69, C19orf70, C19orf71, C19orf73, C19orf75, C19orf76, C19orf77, C19orf79, C19orf80, C19orf81, C1D, C1GALT1, C1GALT1C1, C1QA, C1QB, C1QBP, C1QC, C1QL1, C1QL2, C1QL3, C1QL4, C1QTNF1, C1QTNF2, C1QTNF3, C1QTNF3-AMACR, C1QTNF4, C1QTNF5, C1QTNF6, C1QTNF7, C1QTNF8, C1QTNF9, C1QTNF9B, C1QTNF9B-AS1, C1R, C1RL, C1S, C1orf100, C1orf101, C1orf105, C1orf106, C1orf109, C1orf110, C1orf111, C1orf112, C1orf114, C1orf115, C1orf116, C1orf122, C1orf123, C1orf124, C1orf126, C1orf127, C1orf129, C1orf130, C1orf131, C1orf133, C1orf135, C1orf140, C1orf141, C1orf144, C1orf146, C1orf150, C1orf151-NBL1, C1orf158, C1orf159, C1orf162, C1orf168, C1orf170, C1orf172, C1orf173, C1orf174, C1orf177, C1orf180, C1orf182, C1orf185, C1orf186, C1orf187, C1orf189, C1orf192, C1orf194, C1orf198, C1orf200, C1orf201, C1orf204, C1orf21, C1orf210, C1orf212, C1orf213, C1orf216, C1orf220, C1orf226, C1orf227, C1orf228, C1orf229, C1orf233, C1orf27, C1orf31, C1orf35, C1orf38, C1orf43, C1orf49, C1orf50, C1orf51, C1orf52, C1orf53, C1orf54, C1orf55, C1orf56, C1orf61, C1orf63, C1orf64, C1orf65, C1orf68, C1orf74, C1orf85, C1orf86, C1orf87, C1orf88, C1orf9, C1orf94, C1orf95, C1orf96, C1orf98, C2, C20orf11, C20orf111, C20orf112, C20orf118, C20orf123, C20orf132, C20orf141, C20orf144, C20orf151, C20orf152, C20orf160, C20orf166, C20orf166-AS1, C20orf173, C20orf194, C20orf195, C20orf196, C20orf197, C20orf20, C20orf201, C20orf202, C20orf203, C20orf24, C20orf26, C20orf27, C20orf29, C20orf3, C20orf30, C20orf4, C20orf43, C20orf54, C20orf7, C20orf72, C20orf79, C20orf85, C20orf94, C20orf96, C21orf119, C21orf128, C21orf15, C21orf2, C21orf33, C21orf37, C21orf49, C21orf54, C21orf56, C21orf58, C21orf59, C21orf62, C21orf63, C21orf67, C21orf7, C21orf88, C21orf90, C21orf91, C21orf91-OT1, C22orf13, C22orf15, C22orf23, C22orf24, C22orf25, C22orf26, C22orf28, C22orf29, C22orf31, C22orf32, C22orf34, C22orf39, C22orf40, C22orf42, C22orf43, C22orf45, C22orf46, C2CD2, C2CD2L, C2CD3, C2CD4A, C2CD4B, C2CD4C, C2CD4D, C2orf15, C2orf16, C2orf18, C2orf27A, C2orf27B, C2orf28, C2orf29, C2orf40, C2orf42, C2orf43, C2orf44, C2orf47, C2orf48, C2orf49, C2orf50, C2orf51, C2orf53, C2orf54, C2orf55, C2orf56, C2orf57, C2orf61, C2orf62, C2orf63, C2orf65, C2orf66, C2orf68, C2orf69, C2orf70, C2orf71, C2orf72, C2orf73, C2orf74, C2orf76, C2orf77, C2orf78, C2orf80, C2orf81, C2orf82, C2orf83, C2orf84, C2orf88, C2orf89, C2orf91, C3, C3AR1, C3P1, C3orf14, C3orf15, C3orf17, C3orf18, C3orf19, C3orf20, C3orf22, C3orf23, C3orf24, C3orf25, C3orf26, C3orf27, C3orf30, C3orf32, C3orf33, C3orf35, C3orf36, C3orf37, C3orf38, C3orf39, C3orf43, C3orf45, C3orf49, C3orf51, C3orf52, C3orf55, C3orf58, C3orf62, C3orf64, C3orf65, C3orf67, C3orf70, C3orf71, C3orf72, C3orf74, C3orf75, C3orf77, C3orf78, C3orf79, C3orf80, C4A, C4B, C4BPA, C4BPB, C4orf17, C4orf19, C4orf21, C4orf22, C4orf26, C4orf27, C4orf29, C4orf3, C4orf32, C4orf33, C4orf34, C4orf36, C4orf37, C4orf38, C4orf39, C4orf40, C4orf42, C4orf43, C4orf44, C4orf45, C4orf46, C4orf47, C4orf48, C4orf49, C4orf51, C4orf52, C4orf6, C5, C5AR1, C5orf15, C5orf20, C5orf22, C5orf24, C5orf25, C5orf27, C5orf28, C5orf30, C5orf34, C5orf38, C5orf39, C5orf4, C5orf41, C5orf42, C5orf43, C5orf44, C5orf45, C5orf46, C5orf47, C5orf48, C5orf49, C5orf51, C5orf52, C5orf54, C5orf55, C5orf56, C5orf58, C5orf60, C5orf62, C5orf63, C5orf64, C5orf65, C6, C6orf1, C6orf10, C6orf106, C6orf108, C6orf115, C6orf118, C6orf120, C6orf123, C6orf130, C6orf132, C6orf136, C6orf141, C6orf147, C6orf15, C6orf162, C6orf163, C6orf164, C6orf165, C6orf170, C6orf174, C6orf192, C6orf195, C6orf201, C6orf203, C6orf211, C6orf221, C6orf222, C6orf223, C6orf225, C6orf226, C6orf228, C6orf25, C6orf47, C6orf48, C6orf52, C6orf57, C6orf58, C6orf62, C6orf7, C6orf70, C6orf72, C6orf89, C6orf97, C6orf99, C7, C7orf10, C7orf11, C7orf13, C7orf23, C7orf25, C7orf26, C7orf29, C7orf31, C7orf33, C7orf34, C7orf41, C7orf42, C7orf43, C7orf44, C7orf45, C7orf46, C7orf49, C7orf50, C7orf53, C7orf55, C7orf57, C7orf58, C7orf59, C7orf60, C7orf61, C7orf62, C7orf63, C7orf65, C7orf66, C7orf69, C7orf70, C7orf71, C7orf72, C7orf73, C8A, C8B, C8G, C8ORFK29, C8orf12, C8orf22, C8orf31, C8orf33, C8orf34, C8orf37, C8orf38, C8orf39, C8orf4, C8orf40, C8orf42, C8orf44, C8orf44-SGK3, C8orf45, C8orf46, C8orf47, C8orf48, C8orf51, C8orf55, C8orf56, C8orf58, C8orf59, C8orf69, C8orf71, C8orf73, C8orf74, C8orf75, C8orf76, C8orf77, C8orf80, C8orf82, C8orf83, C8orf84, C8orf85, C8orf86, C8orf87, C9, C9orf100, C9orf102, C9orf103, C9orf106, C9orf11, C9orf114, C9orf116, C9orf117, C9orf123, C9orf125, C9orf128, C9orf129, C9orf131, C9orf135, C9orf139, C9orf142, C9orf146, C9orf152, C9orf153, C9orf156, C9orf16, C9orf163, C9orf167, C9orf169, C9orf170, C9orf171, C9orf172, C9orf173, C9orf174, C9orf21, C9orf23, C9orf24, C9orf25, C9orf29, C9orf3, C9orf30, C9orf30-TMEFF1, C9orf37, C9orf4, C9orf40, C9orf41, C9orf43, C9orf46, C9orf47, C9orf5, C9orf50, C9orf53, C9orf57, C9orf64, C9orf66, C9orf68, C9orf69, C9orf7, C9orf71, C9orf72, C9orf78, C9orf79, C9orf80, C9orf82, C9orf84, C9orf85, C9orf86, C9orf89, C9orf9, C9orf91, C9orf93, C9orf95, C9orf96, CA1, CA10, CA11, CA12, CA13, CA14, CA2, CA3, CA4, CA5A, CA5B, CA5BP1, CA6, CA7, CA8, CA9, CAB39, CAB39L, CABIN1, CABLES1, CABLES2, CABP1, CABP2, CABP4, CABP5, CABP7, CABS1, CABYR, CACHD1, CACNA1A, CACNA1B, CACNA1C, CACNA1D, CACNA1E, CACNA1F, CACNA1G, CACNA1H, CACNA1I, CACNA1S, CACNA2D1, CACNA2D2, CACNA2D3, CACNA2D4, CACNB1, CACNB2, CACNB3, CACNB4, CACNG1, CACNG2, CACNG3, CACNG4, CACNG5, CACNG6, CACNG7, CACNG8, CACYBP, CAD, CADM1, CADM2, CADM3, CADM4, CADPS, CADPS2, CAGE1, CAHM, CALB1, CALB2, CALCA, CALCB, CALCOCO1, CALCOCO2, CALCR, CALCRL, CALD1, CALHM1, CALHM2, CALHM3, CALM1, CALM2, CALM3, CALML3, CALML4, CALML5, CALML6, CALN1, CALR, CALR3, CALU, CALY, CAMK1, CAMK1D, CAMK1G, CAMK2A, CAMK2B, CAMK2D, CAMK2G, CAMK2N1, CAMK2N2, CAMK4, CAMKK1, CAMKK2, CAMKMT, CAMKV, CAMLG, CAMP, CAMSAP1, CAMSAP2, CAMSAP3, CAMTA1, CAMTA2, CAND1, CAND2, CANT1, CANX, CAP1, CAP2, CAPG, CAPN1, CAPN10, CAPN11, CAPN12, CAPN13, CAPN14, CAPN2, CAPN3, CAPN5, CAPN6, CAPN7, CAPN8, CAPN9, CAPNS1, CAPNS2, CAPRIN1, CAPRIN2, CAPS, CAPS2, CAPSL, CAPZA1, CAPZA2, CAPZA3, CAPZB, CARD10, CARD11, CARD14, CARD16, CARD17, CARD18, CARD6, CARD8, CARD9, CARHSP1, CARKD, CARM1, CARNS1, CARS, CARS2, CARTPT, CASC1, CASC2, CASC3, CASC4, CASC5, CASD1, CASK, CASKIN1, CASKIN2, CASP1, CASP10, CASP12, CASP14, CASP2, CASP3, CASP4, CASP5, CASP6, CASP7, CASP8, CASP8AP2, CASP9, CASQ1, CASQ2, CASR, CASS4, CAST, CASZ1, CAT, CATSPER1, CATSPER2, CATSPER2P1, CATSPER3, CATSPER4, CATSPERB, CATSPERD, CATSPERG, CAV1, CAV2, CAV3, CBFA2T2, CBFA2T3, CBFB, CBL, CBLB, CBLC, CBLL1, CBLN1, CBLN2, CBLN3, CBLN4, CBR1, CBR3, CBR3-AS1, CBR4, CBS, CBWD1, CBWD2, CBWD3, CBWD5, CBWD6, CBX1, CBX2, CBX3, CBX3P2, CBX4, CBX5, CBX6, CBX7, CBX8, CBY1, CBY3, CC2D1A, CC2D1B, CC2D2A, CC2D2B, CCAR1, CCBE1, CCBL1, CCBL2, CCBP2, CCDC101, CCDC102A, CCDC102B, CCDC103, CCDC104, CCDC105, CCDC106, CCDC107, CCDC108, CCDC109B, CCDC11, CCDC110, CCDC111, CCDC112, CCDC113, CCDC114, CCDC115, CCDC116, CCDC117, CCDC12, CCDC120, CCDC121, CCDC122, CCDC124, CCDC125, CCDC126, CCDC127, CCDC129, CCDC13, CCDC130, CCDC132, CCDC134, CCDC135, CCDC136, CCDC137, CCDC138, CCDC14, CCDC140, CCDC141, CCDC142, CCDC144A, CCDC144B, CCDC144C, CCDC144NL, CCDC146, CCDC147, CCDC148, CCDC149, CCDC15, CCDC150, CCDC151, CCDC152, CCDC153, CCDC154, CCDC155, CCDC157, CCDC158, CCDC159, CCDC160, CCDC162P, CCDC163P, CCDC164, CCDC165, CCDC166, CCDC167, CCDC168, CCDC169, CCDC169-SOHLH2, CCDC17, CCDC18, CCDC19, CCDC22, CCDC23, CCDC24, CCDC25, CCDC27, CCDC28A, CCDC28B, CCDC3, CCDC30, CCDC33, CCDC34, CCDC36, CCDC37, CCDC38, CCDC39, CCDC40, CCDC41, CCDC42, CCDC42B, CCDC43, CCDC47, CCDC48, CCDC50, CCDC51, CCDC53, CCDC54, CCDC56, CCDC57, CCDC58, CCDC59, CCDC6, CCDC60, CCDC61, CCDC62, CCDC63, CCDC64, CCDC64B, CCDC65, CCDC66, CCDC67, CCDC68, CCDC69, CCDC7, CCDC70, CCDC71, CCDC71L, CCDC72, CCDC73, CCDC74A, CCDC74B, CCDC75, CCDC76, CCDC77, CCDC78, CCDC79, CCDC8, CCDC80, CCDC81, CCDC82, CCDC83, CCDC84, CCDC85A, CCDC85B, CCDC85C, CCDC86, CCDC87, CCDC88A, CCDC88B, CCDC88C, CCDC89, CCDC9, CCDC90A, CCDC90B, CCDC91, CCDC92, CCDC93, CCDC94, CCDC96, CCDC97, CCDC99, CCHCR1, CCIN, CCK, CCKAR, CCKBR, CCL1, CCL11, CCL13, CCL14, CCL14-CCL15, CCL15, CCL16, CCL17, CCL18, CCL19, CCL2, CCL20, CCL21, CCL22, CCL23, CCL24, CCL25, CCL26, CCL27, CCL28, CCL3, CCL3L1, CCL3L3, CCL4, CCL4L1, CCL4L2, CCL5, CCL7, CCL8, CCM2, CCNA1, CCNA2, CCNB1, CCNB1IP1, CCNB2, CCNB3, CCNC, CCND1, CCND2, CCND3, CCNDBP1, CCNE1, CCNE2, CCNF, CCNG1, CCNG2, CCNH, CCNI, CCNI2, CCNJ, CCNJL, CCNK, CCNL1, CCNL2, CCNO, CCNT1, CCNT2, CCNY, CCNYL1, CCP110, CCPG1, CCR1, CCR10, CCR2, CCR3, CCR4, CCR5, CCR6, CCR7, CCR8, CCR9, CCRL1, CCRL2, CCRN4L, CCS, CCT2, CCT3, CCT4, CCT5, CCT6A, CCT6B, CCT6P1, CCT6P3, CCT7, CCT8, CCT8L2, CCZ1, CCZ1B, CD101, CD109, CD14, CD151, CD160, CD163, CD163L1, CD164, CD164L2, CD177, CD180, CD19, CD1A, CD1B, CD1C, CD1D, CD1E, CD2, CD200, CD200R1, CD200R1L, CD207, CD209, CD22, CD226, CD24, CD244, CD247, CD248, CD27, CD274, CD276, CD28, CD2AP, CD2BP2, CD300A, CD300C, CD300E, CD300LB, CD300LD, CD300LF, CD300LG, CD302, CD320, CD33, CD34, CD36, CD37, CD38, CD3D, CD3E, CD3EAP, CD3G, CD4, CD40, CD40LG, CD44, CD46, CD47, CD48, CD5, CD52, CD53, CD55, CD58, CD59, CD5L, CD6, CD63, CD68, CD69, CD7, CD70, CD72, CD74, CD79A, CD79B, CD80, CD81, CD82, CD83, CD84, CD86, CD8A, CD8B, CD9, CD93, CD96, CD97, CD99, CD99L2, CD99P1, CDA, CDADC1, CDAN1, CDC123, CDC14A, CDC14B, CDC14C, CDC16, CDC20, CDC20B, CDC23, CDC25A, CDC25B, CDC25C, CDC26, CDC27, CDC34, CDC37, CDC37L1, CDC40, CDC42, CDC42BPA, CDC42BPB, CDC42BPG, CDC42EP1, CDC42EP2, CDC42EP3, CDC42EP4, CDC42EP5, CDC42SE1, CDC42SE2, CDC45, CDC5L, CDC6, CDC7, CDC73, CDCA2, CDCA3, CDCA4, CDCA5, CDCA7, CDCA7L, CDCA8, CDCP1, CDCP2, CDH1, CDH10, CDH11, CDH12, CDH13, CDH15, CDH16, CDH17, CDH18, CDH19, CDH2, CDH20, CDH22, CDH23, CDH24, CDH26, CDH3, CDH4, CDH5, CDH6, CDH7, CDH8, CDH9, CDHR1, CDHR2, CDHR3, CDHR4, CDHR5, CDIPT, CDK1, CDK10, CDK11A, CDK11B, CDK12, CDK13, CDK14, CDK15, CDK16, CDK17, CDK18, CDK19, CDK2, CDK20, CDK2AP1, CDK2AP2, CDK3, CDK4, CDK5, CDK5R1, CDK5R2, CDK5RAP1, CDK5RAP2, CDK5RAP3, CDK6, CDK7, CDK8, CDK9, CDKAL1, CDKL1, CDKL2, CDKL3, CDKL4, CDKL5, CDKN1A, CDKN1B, CDKN1C, CDKN2A, CDKN2AIP, CDKN2AIPNL, CDKN2B, CDKN2B-AS1, CDKN2C, CDKN2D, CDKN3, CDNF, CDO1, CDON, CDR1, CDR2, CDR2L, CDRT1, CDRT15, CDRT15L2, CDRT15P1, CDRT15P2, CDRT4, CDRT7, CDS1, CDS2, CDSN, CDT1, CDV3, CDX1, CDX2, CDX4, CDY1, CDY1B, CDY2A, CDY2B, CDYL, CDYL2, CEACAM1, CEACAM16, CEACAM18, CEACAM19, CEACAM20, CEACAM21, CEACAM22P, CEACAM3, CEACAM4, CEACAM5, CEACAM6, CEACAM7, CEACAM8, CEBPA, CEBPB, CEBPD, CEBPE, CEBPG, CEBPZ, CECR1, CECR2, CECR3, CECR5, CECR5-AS1, CECR6, CECR7, CEL, CELA1, CELA2A, CELA2B, CELA3A, CELA3B, CELF1, CELF2, CELF3, CELF4, CELF5, CELF6, CELP, CELSR1, CELSR2, CELSR3, CEMP1, CEND1, CENPA, CENPB, CENPBD1, CENPC1, CENPE, CENPF, CENPH, CENPI, CENPJ, CENPK, CENPL, CENPM, CENPN, CENPO, CENPP, CENPQ, CENPT, CENPV, CENPVL1, CENPW, CEP104, CEP112, CEP120, CEP128, CEP135, CEP152, CEP164, CEP170, CEP170P1, CEP19, CEP192, CEP250, CEP290, CEP350, CEP41, CEP44, CEP55, CEP57, CEP57L1, CEP63, CEP68, CEP70, CEP72, CEP76, CEP78, CEP85, CEP85L, CEP89, CEP95, CEP97, CEPT1, CER1, CERCAM, CERK, CERKL, CERS1, CERS2, CERS3, CERS4, CERS5, CERS6, CES1, CES1P1, CES1P2, CES2, CES3, CES4A, CES5A, CES5AP1, CETN1, CETN2, CETN3, CETN4P, CETP, CFB, CFC1, CFC1B, CFD, CFDP1, CFH, CFHR1, CFHR2, CFHR3, CFHR4, CFHR5, CFI, CFL1, CFL1P1, CFL2, CFLAR, CFLAR-AS1, CFP, CFTR, CG030, CGA, CGB, CGB1, CGB2, CGB5, CGB7, CGB8, CGGBP1, CGN, CGNL1, CGREF1, CGRRF1, CH25H, CHAC1, CHAC2, CHAD, CHADL, CHAF1A, CHAF1B, CHAMP1, CHAT, CHCHD1, CHCHD10, CHCHD2, CHCHD3, CHCHD4, CHCHD5, CHCHD6, CHCHD7, CHCHD8, CHD1, CHD1L, CHD2, CHD3, CHD4, CHD5, CHD6, CHD7, CHD8, CHD9, CHDH, CHEK1, CHEK2, CHEK2P2, CHERP, CHFR, CHGA, CHGB, CHI3L1, CHI3L2, CHIA, CHIC1, CHIC2, CHID1, CHIT1, CHKA, CHKB, CHKB-CPT1B, CHL1, CHM, CHML, CHMP1A, CHMP1B, CHMP2A, CHMP2B, CHMP3, CHMP4A, CHMP4B, CHMP4C, CHMP5, CHMP6, CHMP7, CHN1, CHN2, CHODL, CHODL-AS1, CHORDC1, CHP, CHP2, CHPF, CHPF2, CHPT1, CHRAC1, CHRD, CHRDL1, CHRDL2, CHRFAM7A, CHRM1, CHRM2, CHRM3, CHRM4, CHRM5, CHRNA1, CHRNA10, CHRNA2, CHRNA3, CHRNA4, CHRNA5, CHRNA6, CHRNA7, CHRNA9, CHRNB1, CHRNB2, CHRNB3, CHRNB4, CHRND, CHRNE, CHRNG, CHST1, CHST10, CHST11, CHST12, CHST13, CHST14, CHST15, CHST2, CHST3, CHST4, CHST5, CHST6, CHST7, CHST8, CHST9, CHST9-AS1, CHSY1, CHSY3, CHTF18, CHTF8, CHTOP, CHUK, CHURC1, CHURC1-FNTB, CIAO1, CIAPIN1, CIB1, CIB2, CIB3, CIB4, CIC, CIDEA, CIDEB, CIDEC, CIDECP, CIITA, CILP, CILP2, CINP, CIR1, CIRBP, CIRBP-AS1, CIRH1A, CISD1, CISD2, CISD3, CISH, CIT, CITED1, CITED2, CITED4, CIZ1, CKAP2, CKAP2L, CKAP4, CKAP5, CKB, CKLF, CKLF-CMTM1, CKM, CKMT1A, CKMT1B, CKMT2, CKS1B, CKS2, CLASP1, CLASP2, CLASRP, CLC, CLCA1, CLCA2, CLCA3P, CLCA4, CLCC1, CLCF1, CLCN1, CLCN2, CLCN3, CLCN4, CLCN5, CLCN6, CLCN7, CLCNKA, CLCNKB, CLDN1, CLDN10, CLDN11, CLDN12, CLDN14, CLDN15, CLDN16, CLDN17, CLDN18, CLDN19, CLDN2, CLDN20, CLDN22, CLDN23, CLDN24, CLDN25, CLDN3, CLDN4, CLDN5, CLDN6, CLDN7, CLDN8, CLDN9, CLDND1, CLDND2, CLEC10A, CLEC11A, CLEC12A, CLEC12B, CLEC14A, CLEC16A, CLEC17A, CLEC18A, CLEC18B, CLEC18C, CLEC19A, CLEC1A, CLEC1B, CLEC2A, CLEC2B, CLEC2D, CLEC2L, CLEC3A, CLEC3B, CLEC4A, CLEC4C, CLEC4D, CLEC4E, CLEC4F, CLEC4G, CLEC4GP1, CLEC4M, CLEC5A, CLEC6A, CLEC7A, CLEC9A, CLECL1, CLGN, CLIC1, CLIC2, CLIC3, CLIC4, CLIC5, CLIC6, CLINT1, CLIP1, CLIP2, CLIP3, CLIP4, CLK1, CLK2, CLK2P, CLK3, CLK4, CLLU1, CLLU1OS, CLMN, CLMP, CLN3, CLN5, CLN6, CLN8, CLNK, CLNS1A, CLOCK, CLP1, CLPB, CLPP, CLPS, CLPSL1, CLPSL2, CLPTM1, CLPTM1L, CLPX, CLRN1, CLRN1-AS1, CLRN2, CLRN3, CLSPN, CLSTN1, CLSTN2, CLSTN3, CLTA, CLTB, CLTC, CLTCL1, CLU, CLUAP1, CLUL1, CLVS1, CLVS2, CLYBL, CMA1, CMAHP, CMAS, CMBL, CMC1, CMC2, CMIP, CMKLR1, CMPK1, CMPK2, CMTM1, CMTM2, CMTM3, CMTM4, CMTM5, CMTM6, CMTM7, CMTM8, CMYA5, CN5H6.4, CNBD1, CNBP, CNDP1, CNDP2, CNEP1R1, CNFN, CNGA1, CNGA2, CNGA3, CNGA4, CNGB1, CNGB3, CNIH, CNIH2, CNIH3, CNIH4, CNKSR1, CNKSR2, CNKSR3, CNN1, CNN2, CNN3, CNNM1, CNNM2, CNNM3, CNNM4, CNO, CNOT1, CNOT10, CNOT2, CNOT3, CNOT4, CNOT6, CNOT6L, CNOT7, CNOT8, CNP, CNPPD1, CNPY1, CNPY2, CNPY3, CNPY4, CNR1, CNR2, CNRIP1, CNST, CNTD1, CNTD2, CNTF, CNTFR, CNTLN, CNTN1, CNTN2, CNTN3, CNTN4, CNTN5, CNTN6, CNTNAP1, CNTNAP2, CNTNAP3, CNTNAP3B, CNTNAP4, CNTNAP5, CNTRL, CNTROB, COA5, COASY, COBL, COBLL1, COBRA1, COCH, COG1, COG2, COG3, COG4, COG5, COG6, COG7, COG8, COIL, COL10A1, COL11A1, COL11A2, COL12A1, COL13A1, COL14A1, COL15A1, COL16A1, COL17A1, COL18A1, COL18A1-AS1, COL19A1, COL1A1, COL1A2, COL20A1, COL21A1, COL22A1, COL23A1, COL24A1, COL25A1, COL27A1, COL28A1, COL2A1, COL3A1, COL4A1, COL4A2, COL4A3, COL4A3BP, COL4A4, COL4A5, COL4A6, COL5A1, COL5A2, COL5A3, COL6A1, COL6A2, COL6A3, COL6A4P1, COL6A4P2, COL6A5, COL6A6, COL7A1, COL8A1, COL8A2, COL9A1, COL9A2, COL9A3, COLEC10, COLEC11, COLEC12, COLQ, COMMD1, COMMD10, COMMD2, COMMD3, COMMD3-BMI1, COMMD4, COMMD5, COMMD6, COMMD7, COMMD8, COMMD9, COMP, COMT, COMTD1, COPA, COPB1, COPB2, COPE, COPG1, COPG2, COPS2, COPS3, COPS4, COPS5, COPS6, COPS7A, COPS7B, COPS8, COPZ1, COPZ2, COQ10A, COQ10B, COQ2, COQ3, COQ4, COQ5, COQ6, COQ7, COQ9, CORIN, CORO1A, CORO1B, CORO1C, CORO2A, CORO2B, CORO6, CORO7, CORO7-PAM16, CORT, COTL1, COX10, COX11, COX14, COX15, COX16, COX17, COX18, COX19, COX20, COX4I1, COX4I2, COX4NB, COX5A, COX5B, COX6A1, COX6A2, COX6B1, COX6B2, COX6C, COX7A1, COX7A2, COX7A2L, COX7B, COX7B2, COX7C, COX8A, COX8C, CP, CPA1, CPA2, CPA3, CPA4, CPA5, CPA6, CPAMD8, CPB1, CPB2, CPD, CPE, CPEB1, CPEB2, CPEB3, CPEB4, CPLX1, CPLX2, CPLX3, CPLX4, CPM, CPN1, CPN2, CPNE1, CPNE2, CPNE3, CPNE4, CPNE5, CPNE6, CPNE7, CPNE8, CPNE9, CPO, CPOX, CPPED1, CPQ, CPS1, CPS1-IT1, CPSF1, CPSF2, CPSF3, CPSF3L, CPSF4, CPSF4L, CPSF6, CPSF7, CPT1A, CPT1B, CPT1C, CPT2, CPVL, CPXCR1, CPXM1, CPXM2, CPZ, CR1, CR1L, CR2, CRABP1, CRABP2, CRADD, CRAMP1L, CRAT, CRB1, CRB2, CRB3, CRBN, CRCP, CRCT1, CREB1, CREB3, CREB3L1, CREB3L2, CREB3L3, CREB3L4, CREB5, CREBBP, CREBL2, CREBZF, CREG1, CREG2, CRELD1, CRELD2, CREM, CRH, CRHBP, CRHR1, CRHR2, CRIM1, CRIP1, CRIP2, CRIP3, CRIPAK, CRIPT, CRISP1, CRISP2, CRISP3, CRISPLD1, CRISPLD2, CRK, CRKL, CRLF1, CRLF2, CRLF3, CRLS1, CRMP1, CRNDE, CRNKL1, CRNN, CROCC, CROCCP2, CROCCP3, CROT, CRP, CRSP8P, CRTAC1, CRTAM, CRTAP, CRTC1, CRTC2, CRTC3, CRX, CRY1, CRY2, CRYAA, CRYAB, CRYBA1, CRYBA2, CRYBA4, CRYBB1, CRYBB2, CRYBB2P1, CRYBB3, CRYGA, CRYGB, CRYGC, CRYGD, CRYGN, CRYGS, CRYL1, CRYM, CRYM-AS1, CRYZ, CRYZL1, CS, CSAD, CSAG1, CSAG2, CSAG3, CSDA, CSDAP1, CSDC2, CSDE1, CSE1L, CSF1, CSF1R, CSF2, CSF2RA, CSF2RB, CSF3, CSF3R, CSGALNACT1, CSGALNACT2, CSH1, CSH2, CSHL1, CSK, CSMD1, CSMD2, CSMD3, CSN1S1, CSN1S2AP, CSN1S2BP, CSN2, CSN3, CSNK1A1, CSNK1A1L, CSNK1A1P1, CSNK1D, CSNK1E, CSNK1G1, CSNK1G2, CSNK1G2-AS1, CSNK1G3, CSNK2A1, CSNK2A1P, CSNK2A2, CSNK2B, CSPG4, CSPG4P1Y, CSPG5, CSPP1, CSRNP1, CSRNP2, CSRNP3, CSRP1, CSRP2, CSRP2BP, CSRP3, CST1, CST11, CST2, CST3, CST4, CST5, CST6, CST7, CST8, CST9, CST9L, CSTA, CSTB, CSTF1, CSTF2, CSTF2T, CSTF3, CSTL1, CSTT, CT45A1, CT45A2, CT45A3, CT45A4, CT45A5, CT45A6, CT47A1, CT47A10, CT47A11, CT47A12, CT47A2, CT47A3, CT47A4, CT47A5, CT47A6, CT47A7, CT47A8, CT47A9, CT47B1, CT62, CTAG1A, CTAG1B, CTAG2, CTAGE1, CTAGE10P, CTAGE11P, CTAGE15P, CTAGE4, CTAGE5, CTAGE6P, CTAGE7P, CTAGE9, CTBP1, CTBP2, CTBS, CTC1, CTCF, CTCFL, CTDNEP1, CTDP1, CTDSP1, CTDSP2, CTDSPL, CTDSPL2, CTF1, CTGF, CTH, CTHRC1, CTIF, CTLA4, CTNNA1, CTNNA2, CTNNA3, CTNNAL1, CTNNB1, CTNNBIP1, CTNNBL1, CTNND1, CTNND2, CTNS, CTPS, CTPS2, CTR9, CTRB1, CTRB2, CTRC, CTRL, CTSA, CTSB, CTSC, CTSD, CTSE, CTSF, CTSG, CTSH, CTSK, CTSL1, CTSL1P2, CTSL1P8, CTSL2, CTSL3, CTSO, CTSS, CTSW, CTSZ, CTTN, CTTNBP2, CTTNBP2NL, CTU1, CTU2, CTXN1, CTXN2, CTXN3, CUBN, CUEDC1, CUEDC2, CUL1, CUL2, CUL3, CUL4A, CUL4B, CUL5, CUL7, CUL9, CUTA, CUTC, CUX1, CUX2, CUZD1, CWC15, CWC22, CWC25, CWC27, CWF19L1, CWF19L2, CWH43, CX3CL1, CX3CR1, CXADR, CXADRP2, CXADRP3, CXCL1, CXCL10, CXCL11, CXCL12, CXCL13, CXCL14, CXCL16, CXCL17, CXCL2, CXCL3, CXCL5, CXCL6, CXCL9, CXCR1, CXCR2, CXCR2P1, CXCR3, CXCR4, CXCR5, CXCR6, CXCR7, CXXC1, CXXC11, CXXC1P1, CXXC4, CXXC5, CXorf1, CXorf21, CXorf22, CXorf23, CXorf26, CXorf27, CXorf28, CXorf30, CXorf31, CXorf36, CXorf38, CXorf40A, CXorf40B, CXorf41, CXorf48, CXorf49, CXorf49B, CXorf51A, CXorf51B, CXorf56, CXorf57, CXorf58, CXorf59, CXorf61, CXorf64, CXorf65, CXorf66, CXorf68, CXorf69, CYB561, CYB561D1, CYB561D2, CYB5A, CYB5B, CYB5D1, CYB5D2, CYB5R1, CYB5R2, CYB5R3, CYB5R4, CYB5RL, CYBA, CYBASC3, CYBB, CYBRD1, CYC1, CYCS, CYCSP52, CYFIP1, CYFIP2, CYGB, CYHR1, CYLC1, CYLC2, CYLD, CYMP, CYP11A1, CYP11B1, CYP11B2, CYP17A1, CYP19A1, CYP1A1, CYP1A2, CYP1B1, CYP1B1-AS1, CYP20A1, CYP21A1P, CYP21A2, CYP24A1, CYP26A1, CYP26B1, CYP26C1, CYP27A1, CYP27B1, CYP27C1, CYP2A13, CYP2A6, CYP2A7, CYP2B6, CYP2B7P1, CYP2C18, CYP2C19, CYP2C8, CYP2C9, CYP2D6, CYP2D7P1, CYP2E1, CYP2F1, CYP2G1P, CYP2J2, CYP2R1, CYP2S1, CYP2U1, CYP2W1, CYP39A1, CYP3A4, CYP3A43, CYP3A5, CYP3A7, CYP3A7-CYP3AP1, CYP46A1, CYP4A11, CYP4A22, CYP4B1, CYP4F11, CYP4F12, CYP4F2, CYP4F22, CYP4F24P, CYP4F3, CYP4F30P, CYP4F35P, CYP4F8, CYP4V2, CYP4X1, CYP4Z1, CYP4Z2P, CYP51A1, CYP7A1, CYP7B1, CYP8B1, CYR61, CYS1, CYSLTR1, CYSLTR2, CYSTM1, CYTH1, CYTH2, CYTH3, CYTH4, CYTIP, CYTL1, CYYR1, D21S2088E, D2HGDH, D4S234E, DAAM1, DAAM2, DAB1, DAB2, DAB2IP, DACH1, DACH2, DACT1, DACT2, DACT3, DAD1, DAG1, DAGLA, DAGLB, DAK, DALRD3, DANCR, DAND5, DAO, DAOA, DAOA-AS1, DAP, DAP3, DAPK1, DAPK2, DAPK3, DAPL1, DAPP1, DARC, DARS, DARS2, DAXX, DAZ1, DAZ2, DAZ3, DAZ4, DAZAP1, DAZAP2, DAZL, DBC1, DBF4, DBF4B, DBH, DBI, DBIL5P, DBIL5P2, DBN1, DBNDD1, DBNDD2, DBNL, DBP, DBR1, DBT, DBX1, DBX2, DCAF10, DCAF11, DCAF12, DCAF12L1, DCAF12L2, DCAF13, DCAF15, DCAF16, DCAF17, DCAF4, DCAF4L1, DCAF4L2, DCAF5, DCAF6, DCAF7, DCAF8, DCAF8L1, DCAF8L2, DCAKD, DCBLD1, DCBLD2, DCC, DCD, DCDC1, DCDC2, DCDC2B, DCDC5, DCHS1, DCHS2, DCK, DCLK1, DCLK2, DCLK3, DCLRE1A, DCLRE1B, DCLRE1C, DCN, DCP1A, DCP1B, DCP2, DCPS, DCST1, DCST2, DCT, DCTD, DCTN1, DCTN2, DCTN3, DCTN4, DCTN5, DCTN6, DCTPP1, DCUN1D1, DCUN1D2, DCUN1D3, DCUN1D4, DCUN1D5, DCX, DCXR, DDA1, DDAH1, DDAH2, DDB1, DDB2, DDC, DDHD1, DDHD2, DDI1, DDI2, DDIT3, DDIT4, DDIT4L, DDN, DDO, DDOST, DDR1, DDR2, DDRGK1, DDT, DDTL, DDX1, DDX10, DDX11, DDX11L1, DDX11L10, DDX11L2, DDX11L9, DDX12P, DDX17, DDX18, DDX19A, DDX19B, DDX20, DDX21, DDX23, DDX24, DDX25, DDX26B, DDX27, DDX28, DDX31, DDX39A, DDX39B, DDX3X, DDX3Y, DDX4, DDX41, DDX42, DDX43, DDX46, DDX47, DDX49, DDX5, DDX50, DDX51, DDX52, DDX53, DDX54, DDX55, DDX56, DDX58, DDX59, DDX6, DDX60, DDX60L, DEAF1, 1-Dec, DECR1, DECR2, DEDD, DEDD2, DEF6, DEF8, DEFA1, DEFA10P, DEFA1B, DEFA3, DEFA4, DEFA5, DEFA6, DEFB1, DEFB103A, DEFB103B, DEFB104A, DEFB104B, DEFB105A, DEFB105B, DEFB106A, DEFB106B, DEFB107A, DEFB107B, DEFB108B, DEFB109P1, DEFB109P1B, DEFB110, DEFB112, DEFB113, DEFB114, DEFB115, DEFB116, DEFB118, DEFB119, DEFB121, DEFB122, DEFB123, DEFB124, DEFB125, DEFB126, DEFB127, DEFB128, DEFB129, DEFB130, DEFB131, DEFB132, DEFB133, DEFB134, DEFB135, DEFB136, DEFB4A, DEFB4B, DEFT1P, DEFT1P2, DEGS1, DEGS2, DEK, DEM1, DENND1A, DENND1B, DENND1C, DENND2A, DENND2C, DENND2D, DENND3, DENND4A, DENND4B, DENND4C, DENND5A, DENND5B, DENR, DEPDC1, DEPDC1B, DEPDC4, DEPDC5, DEPDC7, DEPTOR, DERA, DERL1, DERL2, DERL3, DES, DET1, DEXI, DFFA, DFFB, DFNA5, DFNB31, DFNB59, DGAT1, DGAT2, DGAT2L6, DGCR10, DGCR11, DGCR14, DGCR2, DGCR5, DGCR6, DGCR6L, DGCR8, DGCR9, DGKA, DGKB, DGKD, DGKE, DGKG, DGKH, DGKI, DGKK, DGKQ, DGKZ, DGUOK, DHCR24, DHCR7, DHDDS, DHDH, DHFR, DHFRL1, DHH, DHODH, DHPS, DHRS1, DHRS11, DHRS12, DHRS13, DHRS2, DHRS3, DHRS4, DHRS4L1, DHRS4L2, DHRS7, DHRS7B, DHRS7C, DHRS9, DHRSX, DHTKD1, DHX15, DHX16, DHX29, DHX30, DHX32, DHX33, DHX34, DHX35, DHX36, DHX37, DHX38, DHX40, DHX57, DHX58, DHX8, DHX9, DIABLO, DIAPH1, DIAPH2, DIAPH3, DICER1, DICER1-AS1, DIDO1, DIEXF, DIMT1, DIO1, DIO2, DIO3, DIO3OS, DIP2A, DIP2B, DIP2C, DIRAS1, DIRAS2, DIRAS3, DIRC1, DIRC2, DIRC3, DIS3, DIS3L, DIS3L2, DISC1, DISC2, DISP1, DISP2, DIXDC1, DKC1, DKFZP434A062, DKFZP434H168, DKFZP434I0714, DKFZP434K028, DKFZP434L187, DKFZP564C196, DKFZP586I1420, DKFZP686I15217, DKFZp434J0226, DKFZp434L192, DKFZp451B082, DKFZp566F0947, DKFZp686D0853, DKFZp686K1684, DKFZp686O1327, DKFZp779M0652, DKK1, DKK2, DKK3, DKK4, DKKL1, DLAT, DLC1, DLD, DLEC1, DLEU1, DLEU2, DLEU2L, DLEU7, DLG1, DLG2, DLG3, DLG4, DLG5, DLGAP1, DLGAP2, DLGAP3, DLGAP4, DLGAP5, DLK1, DLK2, DLL1, DLL3, DLL4, DLST, DLX1, DLX2, DLX3, DLX4, DLX5, DLX6, DLX6-AS1, DMAP1, DMBT1, DMBX1, DMC1, DMD, DMGDH, DMKN, DMP1, DMPK, DMRT1, DMRT2, DMRT3, DMRTA1, DMRTA2, DMRTB1, DMRTC1, DMRTC1B, DMRTC2, DMTF1, DMWD, DMXL1, DMXL2, DNA2, DNAAF1, DNAAF2, DNAH1, DNAH10, DNAH11, DNAH12, DNAH14, DNAH17, DNAH2, DNAH3, DNAH5, DNAH6, DNAH7, DNAH8, DNAH9, DNAI1, DNAI2, DNAJA1, DNAJA1P5, DNAJA2, DNAJA3, DNAJA4, DNAJB1, DNAJB11, DNAJB12, DNAJB13, DNAJB14, DNAJB2, DNAJB3, DNAJB4, DNAJB5, DNAJB6, DNAJB7, DNAJB8, DNAJB8-AS1, DNAJB9, DNAJC1, DNAJC10, DNAJC11, DNAJC12, DNAJC13, DNAJC14, DNAJC15, DNAJC16, DNAJC17, DNAJC18, DNAJC19, DNAJC2, DNAJC21, DNAJC22, DNAJC24, DNAJC25, DNAJC25-GNG10, DNAJC27, DNAJC27-AS1, DNAJC28, DNAJC3, DNAJC30, DNAJC4, DNAJC5, DNAJC5B, DNAJC5G, DNAJC6, DNAJC7, DNAJC8, DNAJC9, DNAL1, DNAL4, DNALI1, DNASE1, DNASE1L1, DNASE1L2, DNASE1L3, DNASE2, DNASE2B, DND1, DNER, DNHD1, DNLZ, DNM1, DNM1L, DNM1P35, DNM1P41, DNM1P46, DNM2, DNM3, DNM3OS, DNMBP, DNMBP-AS1, DNMT1, DNMT3A, DNMT3B, DNMT3L, DNPEP, DNTT, DNTTIP1, DNTTIP2, DOC2A, DOC2B, DOC2GP, DOCK1, DOCK10, DOCK11, DOCK2, DOCK3, DOCK4, DOCK5, DOCK6, DOCK7, DOCK8, DOCK9, DOHH, DOK1, DOK2, DOK3, DOK4, DOK5, DOK6, DOK7, DOLK, DOLPP1, DOM3Z, DONSON, DOPEY1, DOPEY2, DOT1L, DPAGT1, DPCD, DPCR1, DPEP1, DPEP2, DPEP3, DPF1, DPF2, DPF3, DPH1, DPH2, DPH3, DPH3P1, DPH5, DPM1, DPM2, DPM3, DPP10, DPP3, DPP4, DPP6, DPP7, DPP8, DPP9, DPPA2, DPPA3, DPPA4, DPPA5, DPRX, DPRXP4, DPT, DPY19L1, DPY19L1P1, DPY19L2, DPY19L2P1, DPY19L2P2, DPY19L2P3, DPY19L2P4, DPY19L3, DPY19L4, DPY30, DPYD, DPYS, DPYSL2, DPYSL3, DPYSL4, DPYSL5, DQX1, DR1, DRAM1, DRAM2, DRAP1, DRD1, DRD2, DRD3, DRD4, DRD5, DRG1, DRG2, DRGX, DROSHA, DRP2, DSC1, DSC2, DSC3, DSCAM, DSCAM-AS1, DSCAML1, DSCC1, DSCR10, DSCR3, DSCR4, DSCR6, DSCR8, DSCR9, DSE, DSEL, DSG1, DSG2, DSG3, DSG4, DSN1, DSP, DSPP, DST, DSTN, DSTNP2, DSTYK, DTD1, DTHD1, DTL, DTNA, DTNB, DTNBP1, DTWD1, DTWD2, DTX1, DTX2, DTX2P1-UPK3BP1-PMS2P11, DTX3, DTX3L, DTX4, DTYMK, DUOX1, DUOX2, DUOXA1, DUOXA2, DUPD1, DUS1L, DUS2L, DUS3L, DUS4L, DUSP1, DUSP10, DUSP11, DUSP12, DUSP13, DUSP14, DUSP15, DUSP16, DUSP18, DUSP19, DUSP2, DUSP21, DUSP22, DUSP23, DUSP26, DUSP27, DUSP28, DUSP3, DUSP4, DUSP5, DUSP5P, DUSP6, DUSP7, DUSP8, DUSP9, DUT, DUX2, DUX4, DUX4L2, DUX4L3, DUX4L4, DUX4L5, DUX4L6, DUX4L7, DUXA, DVL1, DVL2, DVL3, DYDC1, DYDC2, DYM, DYNC1H1, DYNC1I1, DYNC1I2, DYNC1LI1, DYNC1LI2, DYNC2H1, DYNC2LI1, DYNLL1, DYNLL2, DYNLRB1, DYNLRB2, DYNLT1, DYNLT3, DYRK1A, DYRK1B, DYRK2, DYRK3, DYRK4, DYSF, DYTN, DYX1C1, DYX1C1-CCPG1, DZANK1, DZANK1-AS1, DZIP1, DZIP1L, DZIP3, E2F1, E2F2, E2F3, E2F4, E2F5, E2F6, E2F7, E2F8, E4F1, EAF1, EAF2, EAPP, EARS2, EBAG9, EBF1, EBF2, EBF3, EBF4, EBI3, EBLN1, EBLN2, EBNA1BP2, EBP, EBPL, ECD, ECE1, ECE2, ECEL1, ECEL1P2, ECH1, ECHDC1, ECHDC2, ECHDC3, ECHS1, ECI1, ECI2, ECM1, ECM2, ECRP, ECSCR, ECSIT, ECT2, ECT2L, EDA, EDA2R, EDAR, EDARADD, EDC3, EDC4, EDDM3A, EDDM3B, EDEM1, EDEM2, EDEM3, EDF1, EDIL3, EDN1, EDN2, EDN3, EDNRA, EDNRB, EEA1, EED, EEF1A1, EEF1A2, EEF1B2, EEF1D, EEF1DP3, EEF1E1, EEF1E1-MUTED, EEF1G, EEF2, EEF2K, EEFSEC, EEPD1, EFCAB1, EFCAB10, EFCAB11, EFCAB2, EFCAB3, EFCAB4A, EFCAB4B, EFCAB5, EFCAB6, EFCAB7, EFCAB9, EFEMP1, EFEMP2, EFHA1, EFHA2, EFHB, EFHC1, EFHC2, EFHD1, EFHD2, EFNA1, EFNA2, EFNA3, EFNA4, EFNA5, EFNB1, EFNB2, EFNB3, EFR3A, EFR3B, EFS, EFTUD1, EFTUD2, EGF, EGFEM1P, EGFL6, EGFL7, EGFL8, EGFLAM, EGFLAM-AS4, EGFR, EGLN1, EGLN2, EGLN3, EGOT, EGR1, EGR2, EGR3, EGR4, EHBP1, EHBP1L1, EHD1, EHD2, EHD3, EHD4, EHF, EHHADH, EHMT1, EHMT2, EI24, EID1, EID2, EID2B, EID3, EIF1, EIF1AD, EIF1AX, EIF1AY, EIF1B, EIF2A, EIF2AK1, EIF2AK2, EIF2AK3, EIF2AK4, EIF2B1, EIF2B2, EIF2B3, EIF2B4, EIF2B5, EIF2C1, EIF2C2, EIF2C3, EIF2C4, EIF2D, EIF2S1, EIF2S2, EIF2S3, EIF3A, EIF3B, EIF3C, EIF3CL, EIF3D, EIF3E, EIF3F, EIF3G, EIF3H, EIF3I, EIF3IP1, EIF3J, EIF3K, EIF3L, EIF3M, EIF4A1, EIF4A2, EIF4A3, EIF4B, EIF4E, EIF4E1B, EIF4E2, EIF4E3, EIF4EBP1, EIF4EBP2, EIF4EBP3, EIF4ENIF1, EIF4G1, EIF4G2, EIF4G3, EIF4H, EIF5, EIF5A, EIF5A2, EIF5AL1, EIF5B, EIF6, ELAC1, ELAC2, ELANE, ELAVL1, ELAVL2, ELAVL3, ELAVL4, ELF1, ELF2, ELF3, ELF4, ELF5, ELFN1, ELFN2, ELK1, ELK2AP, ELK3, ELK4, ELL, ELL2, ELL3, ELMO1, ELMO2, ELMO3, ELMOD1, ELMOD2, ELMOD3, ELN, ELOF1, ELOVL1, ELOVL2, ELOVL3, ELOVL4, ELOVL5, ELOVL6, ELOVL7, ELP2, ELP3, ELP4, ELSPBP1, ELTD1, EMB, EMBP1, EMCN, EMD, EME1, EME2, EMG1, EMID1, EMID2, EMILIN1, EMILIN2, EMILIN3, EML1, EML2, EML3, EML4, EML5, EML6, EMP1, EMP2, EMP3, EMR1, EMR2, EMR3, EMR4P, EMX1, EMX2, EMX2OS, EN1, EN2, ENAH, ENAM, ENC1, ENDOD1, ENDOG, ENDOU, ENDOV, ENG, ENGASE, ENHO, ENKUR, ENO1, ENO1-AS1, ENO2, ENO3, ENO4, ENOPH1, ENOSF1, ENOX1, ENOX2, ENPEP, ENPP1, ENPP2, ENPP3, ENPP4, ENPP5, ENPP6, ENPP7, ENSA, ENTHD1, ENTPD1, ENTPD2, ENTPD3, ENTPD3-AS1, ENTPD4, ENTPD5, ENTPD6, ENTPD7, ENTPD8, ENY2, EOMES, EP300, EP400, EP400NL, EPAS1, EPB41, EPB41L1, EPB41L2, EPB41L3, EPB41L4A, EPB41L4A-AS1, EPB41L4B, EPB41L5, EPB42, EPB49, EPC1, EPC2, EPCAM, EPDR1, EPG5, EPGN, EPHA1, EPHA10, EPHA2, EPHA3, EPHA4, EPHA5, EPHA6, EPHA7, EPHA8, EPHB1, EPHB2, EPHB3, EPHB4, EPHB6, EPHX1, EPHX2, EPHX3, EPHX4, EPM2A, EPM2AIP1, EPN1, EPN2, EPN3, EPO, EPOR, EPPK1, EPRS, EPS15, EPS15L1, EPS8, EPS8L1, EPS8L2, EPS8L3, EPSTI1, EPT1, EPX, EPYC, ERAL1, ERAP1, ERAP2, ERAS, ERBB2, ERBB2IP, ERBB3, ERBB4, ERC1, ERC2, ERCC1, ERCC2, ERCC3, ERCC4, ERCC5, ERCC6, ERCC6L, ERCC8, EREG, ERF, ERG, ERGIC1, ERGIC2, ERGIC3, ERH, ERI1, ERI2, ERI3, ERICH1, ERLEC1, ERLIN1, ERLIN2, ERMAP, ERMN, ERMP1, ERN1, ERN2, ERO1L, ERO1LB, ERP27, ERP29, ERP44, ERRFI1, ERV3-1, ERVFRD-1, ERVK13-1, ERVMER34-1, ERVV-1, ERVV-2, ESAM, ESCO1, ESCO2, ESD, ESF1, ESM1, ESPL1, ESPN, ESPNL, ESPNP, ESR1, ESR2, ESRG, ESRP1, ESRP2, ESRRA, ESRRB, ESRRG, ESX1, ESYT1, ESYT2, ESYT3, ETAA1, ETF1, ETFA, ETFB, ETFDH, ETHE1, ETNK1, ETNK2, ETS1, ETS2, ETV1, ETV2, ETV3, ETV3L, ETV4, ETV5, ETV6, ETV7, EVC, EVC2, EVI2A, EVI2B, EVI5, EVI5L, EVL, EVPL, EVPLL, EVX1, EVX2, EWSR1, EXD1, EXD2, EXD3, EXO1, EXOC1, EXOC2, EXOC3, EXOC3L1, EXOC3L2, EXOC3L4, EXOC4, EXOC5, EXOC6, EXOC6B, EXOC7, EXOC8, EXOG, EXOSC1, EXOSC10, EXOSC2, EXOSC3, EXOSC4, EXOSC5, EXOSC6, EXOSC7, EXOSC8, EXOSC9, EXPH5, EXT1, EXT2, EXTL1, EXTL2, EXTL3, EYA1, EYA2, EYA3, EYA4, EYS, EZH1, EZH2, EZR, F10, F11, F11R, F12, F13A1, F13B, F2, F2R, F2RL1, F2RL2, F2RL3, F3, F5, F7, F8, F8A1, F8A2, F8A3, F9, FA2H, FAAH, FAAH2, FABP1, FABP12, FABP2, FABP3, FABP4, FABP5, FABP5P3, FABP6, FABP7, FABP9, FADD, FADS1, FADS2, FADS3, FADS6, FAF1, FAF2, FAH, FAHD1, FAHD2A, FAHD2B, FAIM, FAIM2, FAIM3, FAM100A, FAM100B, FAM101A, FAM101B, FAM102A, FAM102B, FAM103A1, FAM104A, FAM104B, FAM105A, FAM105B, FAM106A, FAM106CP, FAM107A, FAM107B, FAM108A1, FAM108B1, FAM108C1, FAM109A, FAM109B, FAM110A, FAM110B, FAM110C, FAM110D, FAM111A, FAM111B, FAM113A, FAM113B, FAM114A1, FAM114A2, FAM115A, FAM115C, FAM116A, FAM116B, FAM117A, FAM117B, FAM118A, FAM118B, FAM120A, FAM120AOS, FAM120B, FAM120C, FAM122A, FAM122B, FAM122C, FAM123A, FAM123B, FAM123C, FAM124A, FAM124B, FAM125A, FAM125B, FAM126A, FAM126B, FAM127A, FAM127B, FAM127C, FAM129A, FAM129B, FAM129C, FAM131A, FAM131B, FAM131C, FAM132A, FAM133A, FAM133B, FAM134A, FAM134B, FAM134C, FAM135A, FAM135B, FAM136A, FAM138A, FAM138B, FAM138C, FAM138D, FAM138E, FAM138F, FAM13A, FAM13A-AS1, FAM13B, FAM13C, FAM149A, FAM149B1, FAM150A, FAM150B, FAM151A, FAM151B, FAM153A, FAM153B, FAM153C, FAM154A, FAM154B, FAM155A, FAM155B, FAM156A, FAM156B, FAM157A, FAM157B, FAM158A, FAM159A, FAM159B, FAM160A1, FAM160A2, FAM160B1, FAM160B2, FAM161A, FAM161B, FAM162A, FAM162B, FAM163A, FAM163B, FAM165B, FAM166A, FAM166B, FAM167A, FAM167B, FAM168A, FAM168B, FAM169A, FAM169B, FAM170A, FAM170B, FAM171A1, FAM171A2, FAM171B, FAM172A, FAM172BP, FAM173A, FAM173B, FAM174A, FAM174B, FAM175A, FAM175B, FAM176A, FAM176B, FAM177A1, FAM177B, FAM178A, FAM178B, FAM179A, FAM179B, FAM180A, FAM180B, FAM181A, FAM181A-AS1, FAM181B, FAM182A, FAM182B, FAM183A, FAM183B, FAM184A, FAM184B, FAM185A, FAM186A, FAM186B, FAM187B, FAM188A, FAM188B, FAM189A1, FAM189A2, FAM189B, FAM18A, FAM18B1, FAM18B2, FAM18B2-CDRT4, FAM190A, FAM190B, FAM192A, FAM193A, FAM193B, FAM194A, FAM194B, FAM195A, FAM195B, FAM196A, FAM196B, FAM197Y2P, FAM197Y5, FAM198A, FAM198B, FAM199X, FAM19A1, FAM19A2, FAM19A3, FAM19A4, FAM19A5, FAM200A, FAM200B, FAM201A, FAM203A, FAM204A, FAM205A, FAM205B, FAM206A, FAM207A, FAM208A, FAM208B, FAM209A, FAM209B, FAM20A, FAM20B, FAM20C, FAM210A, FAM210B, FAM211A, FAM211B, FAM212A, FAM212B, FAM213A, FAM213B, FAM214A, FAM214B, FAM215A, FAM216A, FAM216B, FAM217A, FAM217B, FAM21A, FAM21B, FAM21C, FAM22A, FAM22D, FAM22F, FAM22G, FAM24A, FAM24B, FAM24B-CUZD1, FAM25A, FAM25B, FAM25C, FAM25G, FAM26D, FAM26E, FAM26F, FAM27A, FAM27B, FAM27C, FAM27L, FAM32A, FAM35A, FAM35B, FAM35B2, FAM3A, FAM3B, FAM3C, FAM3D, FAM40A, FAM40B, FAM41AY1, FAM41AY2, FAM41C, FAM43A, FAM43B, FAM45A, FAM45B, FAM46A, FAM46B, FAM46C, FAM46D, FAM47A, FAM47B, FAM47C, FAM47E, FAM47E-STBD1, FAM48A, FAM48B1, FAM48B2, FAM49A, FAM49B, FAM50A, FAM50B, FAM53A, FAM53B, FAM53C, FAM54A, FAM54B, FAM55A, FAM55B, FAM55C, FAM55D, FAM57A, FAM57B, FAM58A, FAM58BP, FAM59A, FAM59B, FAM5B, FAM5C, FAM60A, FAM63A, FAM63B, FAM64A, FAM65A, FAM65B, FAM65C, FAM66A, FAM66B, FAM66C, FAM66D, FAM66E, FAM69A, FAM69B, FAM69C, FAM70A, FAM70B, FAM71A, FAM71B, FAM71C, FAM71D, FAM71E1, FAM71E2, FAM71F1, FAM71F2, FAM72A, FAM72B, FAM72D, FAM73A, FAM73B, FAM74A1, FAM74A2, FAM74A3, FAM74A4, FAM75A1, FAM75A2, FAM75A3, FAM75A4, FAM75A5, FAM75A6, FAM75A7, FAM75C1, FAM75C2, FAM75D1, FAM75D3, FAM75D4, FAM75D5, FAM76A, FAM76B, FAM78A, FAM78B, FAM81A, FAM81B, FAM82A1, FAM82A2, FAM82B, FAM83A, FAM83B, FAM83C, FAM83D, FAM83E, FAM83F, FAM83G, FAM83H, FAM84A, FAM84B, FAM86A, FAM86B1, FAM86B2, FAM86C1, FAM86C2P, FAM86DP, FAM86EP, FAM86FP, FAM86HP, FAM89A, FAM89B, FAM8A1, FAM90A1, FAM90A10, FAM90A10P, FAM90A13, FAM90A14, FAM90A18, FAM90A19, FAM90A20, FAM90A25P, FAM90A27P, FAM90A2P, FAM90A5, FAM90A7, FAM90A7P, FAM90A8, FAM90A9, FAM91A1, FAM91A2, FAM92A1, FAM92A3, FAM92B, FAM95B1, FAM96A, FAM96B, FAM98A, FAM98B, FAM98C, FAM99A, FAM99B, FAM9A, FAM9B, FAM9C, FAN1, FANCA, FANCB, FANCC, FANCD2, FANCE, FANCF, FANCG, FANCI, FANCL, FANCM, FANK1, FAP, FAR1, FAR2, FARP1, FARP2, FARS2, FARSA, FARSB, FAS, FAS-AS1, FASLG, FASN, FASTK, FASTKD1, FASTKD2, FASTKD3, FASTKD5, FAT1, FAT2, FAT3, FAT4, FATE1, FAU, FAXC, FBF1, FBL, FBLIM1, FBLL1, FBLN1, FBLN2, FBLN5, FBLN7, FBN1, FBN2, FBN3, FBP1, FBP2, FBRS, FBRSL1, FBXL12, FBXL13, FBXL14, FBXL15, FBXL16, FBXL17, FBXL18, FBXL19, FBXL19-AS1, FBXL2, FBXL20, FBXL21, FBXL22, FBXL3, FBXL4, FBXL5, FBXL6, FBXL7, FBXL8, FBXO10, FBXO11, FBXO15, FBXO16, FBXO17, FBXO18, FBXO2, FBXO21, FBXO22, FBXO22-AS1, FBXO24, FBXO25, FBXO27, FBXO28, FBXO3, FBXO30, FBXO31, FBXO32, FBXO33, FBXO34, FBXO36, FBXO38, FBXO39, FBXO4, FBXO40, FBXO41, FBXO42, FBXO43, FBXO44, FBXO45, FBXO46, FBXO47, FBXO48, FBXO5, FBXO6, FBXO7, FBXO8, FBXO9, FBXW10, FBXW11, FBXW12, FBXW2, FBXW4, FBXW4P1, FBXW5, FBXW7, FBXW8, FBXW9, FCAMR, FCAR, FCER1A, FCER1G, FCER2, FCF1, FCGBP, FCGR1A, FCGR1B, FCGR1C, FCGR2A, FCGR2B, FCGR2C, FCGR3A, FCGR3B, FCGRT, FCHO1, FCHO2, FCHSD1, FCHSD2, FCN1, FCN2, FCN3, FCRL1, FCRL2, FCRL3, FCRL4, FCRL5, FCRL6, FCRLA, FCRLB, FDCSP, FDFT1, FDPS, FDPSL2A, FDX1, FDX1L, FDXACB1, FDXR, FECH, FEM1A, FEM1B, FEM1C, FEN1, FER, FER1L4, FER1L5, FER1L6, FER1L6-AS1, FERD3L, FERMT1, FERMT2, FERMT3, FES, FETUB, FEV, FEZ1, FEZ2, FEZF1, FEZF2, FFAR1, FFAR2, FFAR3, FGA, FGB, FGD1, FGD2, FGD3, FGD4, FGD5, FGD5-AS1, FGD6, FGF1, FGF10, FGF11, FGF12, FGF13, FGF14, FGF14-IT1, FGF16, FGF17, FGF18, FGF19, FGF2, FGF20, FGF21, FGF22, FGF23, FGF3, FGF4, FGF5, FGF6, FGF7, FGF8, FGF9, FGFBP1, FGFBP2, FGFBP3, FGFR1, FGFR1OP, FGFR1OP2, FGFR2, FGFR3, FGFR4, FGFRL1, FGG, FGGY, FGL1, FGL2, FGR, FH, FHAD1, FHDC1, FHIT, FHL1, FHL2, FHL3, FHL5, FHOD1, FHOD3, FIBCD1, FIBIN, FIBP, FICD, FIG4, FIGF, FIGLA, FIGN, FIGNL1, FIGNL2, FILIP1, FILIP1L, FIP1L1, FIS1, FITM1, FITM2, FIZ1, FJX1, FKBP10, FKBP11, FKBP14, FKBP15, FKBP1A, FKBP1A-SDCBP2, FKBP1AP1, FKBP1B, FKBP2, FKBP3, FKBP4, FKBP5, FKBP6, FKBP7, FKBP8, FKBP9, FKBP9L, FKBPL, FKRP, FKSG29, FKTN, FLAD1, FLCN, FLG, FLG2, FLI1, FLII, FLJ10038, FLJ10661, FLJ11235, FLJ12334, FLJ12825, FLJ13197, FLJ13224, FLJ14107, FLJ14186, FLJ16171, FLJ16341, FLJ16779, FLJ20021, FLJ20518, FLJ21408, FLJ22184, FLJ22447, FLJ22763, FLJ23152, FLJ23867, FLJ25328, FLJ25363, FLJ25758, FLJ26245, FLJ26850, FLJ27352, FLJ27354, FLJ30403, FLJ30679, FLJ30838, FLJ31306, FLJ31485, FLJ31662, FLJ31813, FLJ32063, FLJ32224, FLJ33065, FLJ33360, FLJ33534, FLJ33581, FLJ33630, FLJ34208, FLJ34503, FLJ34690, FLJ35024, FLJ35282, FLJ35390, FLJ35424, FLJ35776, FLJ35946, FLJ36000, FLJ36777, FLJ37035, FLJ37201, FLJ37453, FLJ37505, FLJ38109, FLJ38576, FLJ39051, FLJ39080, FLJ39534, FLJ39639, FLJ39653, FLJ39739, FLJ40194, FLJ40288, FLJ40292, FLJ40434, FLJ40852, FLJ41200, FLJ41278, FLJ41350, FLJ41484, FLJ41649, FLJ41941, FLJ42102, FLJ42280, FLJ42289, FLJ42351, FLJ42393, FLJ42627, FLJ42709, FLJ42875, FLJ42969, FLJ43315, FLJ43390, FLJ43663, FLJ43681, FLJ43826, FLJ43860, FLJ43879, FLJ44054, FLJ44511, FLJ44635, FLJ45079, FLJ45340, FLJ45445, FLJ45513, FLJ45974, FLJ45983, FLJ46066, FLJ46257, FLJ46284, FLJ46300, FLJ46361, FLJ46446, FLJ46906, FLJ90757, FLNA, FLNB, FLNC, FLOT1, FLOT2, FLRT1, FLRT2, FLRT3, FLT1, FLT3, FLT3LG, FLT4, FLVCR1, FLVCR1-AS1, FLVCR2, FLYWCH1, FLYWCH2, FMN1, FMN2, FMNL1, FMNL2, FMNL3, FMO1, FMO2, FMO3, FMO4, FMO5, FMO6P, FMO9P, FMOD, FMR1, FMR1-AS1, FMR1NB, FN1, FN3K, FN3KRP, FNBP1, FNBP1L, FNBP4, FNDC1, FNDC3A, FNDC3B, FNDC4, FNDC5, FNDC7, FNDC8, FNDC9, FNIP1, FNIP2, FNTA, FNTB, FOLH1, FOLH1B, FOLR1, FOLR2, FOLR3, FOLR4, FONG, FOPNL, FOS, FOSB, FOSL1, FOSL2, FOXA1, FOXA2, FOXA3, FOXB1, FOXB2, FOXC1, FOXC2, FOXD1, FOXD2, FOXD3, FOXD4, FOXD4L1, FOXD4L2, FOXD4L3, FOXD4L4, FOXD4L5, FOXD4L6, FOXE1, FOXE3, FOXF1, FOXF2, FOXG1, FOXH1, FOXI1, FOXI2, FOXI3, FOXJ1, FOXJ2, FOXJ3, FOXK1, FOXK2, FOXL1, FOXL2, FOXM1, FOXN1, FOXN2, FOXN3, FOXN4, FOXO1, FOXO3, FOXO3B, FOXO4, FOXP1, FOXP2, FOXP3, FOXP4, FOXQ1, FOXR1, FOXR2, FOXRED1, FOXRED2, FOXS1, FP588, FPGS, FPGT, FPGT-TNNI3K, FPR1, FPR2, FPR3, FRA10AC1, FRAS1, FRAT1, FRAT2, FREM1, FREM2, FREM3, FRG1, FRG1B, FRG2, FRG2B, FRG2C, FRK, FRMD1, FRMD3, FRMD4A, FRMD4B, FRMD5, FRMD6, FRMD6-AS1, FRMD7, FRMD8, FRMD8P1, FRMPD1, FRMPD2, FRMPD2P1, FRMPD4, FRRS1, FRS2, FRS3, FRY, FRYL, FRZB, FSBP, FSCB, FSCN1, FSCN2, FSCN3, FSD1, FSD1L, FSD2, FSHB, FSHR, FSIP1, FSIP2, FST, FSTL1, FSTL3, FSTL4, FSTL5, FTCD, FTH1, FTH1P3, FTHL17, FTL, FTLP10, FTMT, FTO, FTSJ1, FTSJ2, FTSJ3, FTSJD1, FTSJD2, FTX, FUBP1, FUBP3, FUCA1, FUCA2, FUK, FUNDC1, FUNDC2, FUNDC2P2, FURIN, FUS, FUT1, FUT10, FUT11, FUT2, FUT3, FUT4, FUT5, FUT6, FUT7, FUT8, FUT9, FUZ, FXC1, FXN, FXR1, FXR2, FXYD1, FXYD2, FXYD3, FXYD4, FXYD5, FXYD6, FXYD6-FXYD2, FXYD7, FYB, FYCO1, FYN, FYTTD1, FZD1, FZD10, FZD2, FZD3, FZD4, FZD5, FZD6, FZD7, FZD8, FZD9, FZR1, G0S2, G2E3, G3BP1, G3BP2, G6PC, G6PC2, G6PC3, G6PD, GAA, GAB1, GAB2, GAB3, GAB4, GABARAP, GABARAPL1, GABARAPL2, GABARAPL3, GABBR1, GABBR2, GABPA, GABPB1, GABPB2, GABRA1, GABRA2, GABRA3, GABRA4, GABRA5, GABRA6, GABRB1, GABRB2, GABRB3, GABRD, GABRE, GABRG1, GABRG2, GABRG3, GABRP, GABRQ, GABRR1, GABRR2, GABRR3, GAD1, GAD2, GADD45A, GADD45B, GADD45G, GADD45GIP1, GADL1, GAGE1, GAGE10, GAGE12B, GAGE12C, GAGE12D, GAGE12E, GAGE12F, GAGE12G, GAGE12H, GAGE12I, GAGE12J, GAGE13, GAGE2A, GAGE2B, GAGE2C, GAGE2D, GAGE2E, GAGE4, GAGE5, GAGE6, GAGE7, GAGE8, GAK, GAL, GAL3ST1, GAL3ST2, GAL3ST3, GAL3ST4, GALC, GALE, GALK1, GALK2, GALM, GALNS, GALNT1, GALNT10, GALNT11, GALNT12, GALNT13, GALNT14, GALNT2, GALNT3, GALNT4, GALNT5, GALNT6, GALNT7, GALNT8, GALNT9, GALNTL1, GALNTL2, GALNTL4, GALNTL5, GALNTL6, GALP, GALR1, GALR2, GALR3, GALT, GAMT, GAN, GANAB, GANC, GAP43, GAPDH, GAPDHS, GAPT, GAPVD1, GAR1, GARNL3, GARS, GART, GAS1, GAS2, GAS2L1, GAS2L2, GAS2L3, GAS5, GAS6, GAS7, GAS8, GAST, GATA1, GATA2, GATA3, GATA4, GATA5, GATA6, GATAD1, GATAD2A, GATAD2B, GATC, GATM, GATS, GATSL1, GATSL2, GATSL3, GBA, GBA2, GBA3, GBAP1, GBAS, GBE1, GBF1, GBGT1, GBP1, GBP1P1, GBP2, GBP3, GBP4, GBP5, GBP6, GBP7, GBX1, GBX2, GC, GCA, GCAT, GCC1, GCC2, GCDH, GCET2, GCFC1, GCFC1-AS1, GCFC2, GCG, GCGR, GCH1, GCHFR, GCK, GCKR, GCLC, GCLM, GCM1, GCM2, GCN1L1, GCNT1, GCNT2, GCNT3, GCNT4, GCNT7, GCOM1, GCSH, GDA, GDAP1, GDAP1L1, GDAP2, GDE1, GDEP, GDF1, GDF10, GDF11, GDF15, GDF2, GDF3, GDF5, GDF6, GDF7, GDF9, GDI1, GDI2, GDNF, GDPD1, GDPD2, GDPD3, GDPD4, GDPD5, GEM, GEMIN2, GEMIN4, GEMIN5, GEMIN6, GEMIN7, GEMIN8, GEMIN8P4, GEN1, GET4, GFAP, GFER, GFI1, GFI1B, GFM1, GFM2, GFOD1, GFOD2, GFPT1, GFPT2, GFRA1, GFRA2, GFRA3, GFRA4, GFRAL, GGA1, GGA2, GGA3, GGCT, GGCX, GGH, GGN, GGNBP1, GGNBP2, GGPS1, GGT1, GGT3P, GGT5, GGT6, GGT7, GGT8P, GGTA1P, GGTLC1, GGTLC2, GH1, GH2, GHDC, GHITM, GHR, GHRH, GHRHR, GHRL, GHRLOS, GHRLOS2, GHSR, GIF, GIGYF1, GIGYF2, GIMAP1, GIMAP1-GIMAP5, GIMAP2, GIMAP4, GIMAP5, GIMAP6, GIMAP7, GIMAP8, GIN1, GINS1, GINS2, GINS3, GINS4, GIP, GIPC1, GIPC2, GIPC3, GIPR, GIT1, GIT2, GJA1, GJA10, GJA3, GJA4, GJA5, GJA8, GJA9, GJA9-MYCBP, GJB1, GJB2, GJB3, GJB4, GJB5, GJB6, GJB7, GJC1, GJC2, GJC3, GJD2, GJD3, GJD4, GK, GK2, GK3P, GK5, GKAP1, GKN1, GKN2, GLA, GLB1, GLB1L, GLB1L2, GLB1L3, GLCCI1, GLCE, GLDC, GLDN, GLE1, GLG1, GLI1, GLI2, GLI3, GLI4, GLIPR1, GLIPR1L1, GLIPR1L2, GLIPR2, GLIS1, GLIS2, GLIS3, GLIS3-AS1, GLMN, GLO1, GLOD4, GLOD5, GLP1R, GLP2R, GLRA1, GLRA2, GLRA3, GLRA4, GLRB, GLRX, GLRX2, GLRX3, GLRX5, GLS, GLS2, GLT1D1, GLT25D1, GLT25D2, GLT6D1, GLT8D1, GLT8D2, GLTP, GLTPD1, GLTPD2, GLTSCR1, GLTSCR2, GLUD1, GLUD2, GLUL, GLYAT, GLYATL1, GLYATL2, GLYATL3, GLYCAM1, GLYCTK, GLYR1, GM140, GM2A, GMCL1, GMCL1P1, GMDS, GMEB1, GMEB2, GMFB, GMFG, GMIP, GML, GMNC, GMNN, GMPPA, GMPPB, GMPR, GMPR2, GMPS, GNA11, GNA12, GNA13, GNA14, GNA15, GNAI1, GNAI2, GNAI3, GNAL, GNAO1, GNAQ, GNAS, GNAS-AS1, GNAT1, GNAT2, GNAT3, GNAZ, GNB1, GNB1L, GNB2, GNB2L1, GNB3, GNB4, GNB5, GNE, GNG10, GNG11, GNG12, GNG13, GNG2, GNG3, GNG4, GNG5, GNG7, GNG8, GNGT1, GNGT2, GNL1, GNL2, GNL3, GNL3L, GNLY, GNMT, GNN, GNPAT, GNPDA1, GNPDA2, GNPNAT1, GNPTAB, GNPTG, GNRH1, GNRH2, GNRHR, GNRHR2, GNS, GOLGA1, GOLGA2, GOLGA2P2Y, GOLGA2P3Y, GOLGA2P5, GOLGA3, GOLGA4, GOLGA5, GOLGA6A, GOLGA6B, GOLGA6C, GOLGA6D, GOLGA6L1, GOLGA6L10, GOLGA6L5, GOLGA6L6, GOLGA6L9, GOLGA7, GOLGA7B, GOLGA8A, GOLGA8B, GOLGA8C, GOLGA8DP, GOLGA8E, GOLGA8F, GOLGA8G, GOLGA8IP, GOLGB1, GOLIM4, GOLM1, GOLPH3, GOLPH3L, GOLT1A, GOLT1B, GON4L, GOPC, GORAB, GORASP1, GORASP2, GOSR1, GOSR2, GOT1, GOT1L1, GOT2, GP1BA, GP1BB, GP2, GP5, GP6, GP9, GPA33, GPAA1, GPAM, GPANK1, GPAT2, GPATCH1, GPATCH2, GPATCH3, GPATCH4, GPATCH8, GPBAR1, GPBP1, GPBP1L1, GPC1, GPC2, GPC3, GPC4, GPC5, GPC6, GPCPD1, GPCRLTM7, GPD1, GPD1L, GPD2, GPER, GPHA2, GPHB5, GPHN, GPI, GPIHBP1, GPKOW, GPLD1, GPM6A, GPM6B, GPN1, GPN2, GPN3, GPNMB, GPR1, GPR101, GPR107, GPR108, GPR110, GPR111, GPR112, GPR113, GPR114, GPR115, GPR116, GPR119, GPR12, GPR123, GPR124, GPR125, GPR126, GPR128, GPR132, GPR133, GPR135, GPR137, GPR137B, GPR137C, GPR139, GPR141, GPR142, GPR143, GPR144, GPR146, GPR148, GPR149, GPR15, GPR150, GPR151, GPR152, GPR153, GPR155, GPR156, GPR157, GPR158, GPR160, GPR161, GPR162, GPR17, GPR171, GPR172A, GPR172B, GPR173, GPR174, GPR176, GPR179, GPR18, GPR180, GPR182, GPR183, GPR19, GPR20, GPR21, GPR22, GPR25, GPR26, GPR27, GPR3, GPR31, GPR32, GPR33, GPR34, GPR35, GPR37, GPR37L1, GPR39, GPR4, GPR45, GPR50, GPR52, GPR55, GPR56, GPR6, GPR61, GPR62, GPR63, GPR64, GPR65, GPR68, GPR75, GPR75-ASB3, GPR77, GPR78, GPR82, GPR83, GPR84, GPR85, GPR87, GPR88, GPR89A, GPR89B, GPR89C, GPR97, GPR98, GPRASP1, GPRASP2, GPRC5A, GPRC5B, GPRC5C, GPRC5D, GPRC6A, GPRIN1, GPRIN2, GPRIN3, GPS1, GPS2, GPSM1, GPSM2, GPSM3, GPT, GPT2, GPX1, GPX2, GPX3, GPX4, GPX5, GPX6, GPX7, GPX8, GRAMD1A, GRAMD1B, GRAMD1C, GRAMD2, GRAMD3, GRAMD4, GRAP, GRAP2, GRAPL, GRASP, GRB10, GRB14, GRB2, GRB7, GREB1, GREB1L, GREM1, GREM2, GRHL1, GRHL2, GRHL3, GRHPR, GRIA1, GRIA2, GRIA3, GRIA4, GRID1, GRID2, GRID2IP, GRIK1, GRIK1-AS1, GRIK1-AS2, GRIK2, GRIK3, GRIK4, GRIK5, GRIN1, GRIN2A, GRIN2B, GRIN2C, GRIN2D, GRIN3A, GRIN3B, GRINA, GRIP1, GRIP2, GRIPAP1, GRK1, GRK4, GRK5, GRK6, GRK7, GRM1, GRM2, GRM3, GRM4, GRM5, GRM6, GRM7, GRM8, GRN, GRP, GRPEL1, GRPEL2, GRPR, GRSF1, GRTP1, GRWD1, GRXCR1, GRXCR2, GSC, GSC2, GSDMA, GSDMB, GSDMC, GSDMD, GSG1, GSG1L, GSG2, GSK3A, GSK3B, GSN, GSPT1, GSPT2, GSR, GSS, GSTA1, GSTA2, GSTA3, GSTA4, GSTA5, GSTA7P, GSTCD, GSTK1, GSTM1, GSTM2, GSTM2P1, GSTM3, GSTM4, GSTM5, GSTO1, GSTO2, GSTP1, GSTT1, GSTT2, GSTT2B, GSTTP1, GSTTP2, GSTZ1, GSX1, GSX2, GTDC1, GTF2A1, GTF2A1L, GTF2A2, GTF2B, GTF2E1, GTF2E2, GTF2F1, GTF2F2, GTF2H1, GTF2H2, GTF2H2B, GTF2H2C, GTF2H2D, GTF2H3, GTF2H4, GTF2H5, GTF2I, GTF2IP1, GTF2IRD1, GTF2IRD2, GTF2IRD2B, GTF2IRD2P1, GTF3A, GTF3C1, GTF3C2, GTF3C3, GTF3C4, GTF3C5, GTF3C6, GTPBP1, GTPBP10, GTPBP2, GTPBP3, GTPBP4, GTPBP5, GTPBP6, GTPBP8, GTSE1, GTSF1, GTSF1L, GUCA1A, GUCA1B, GUCA1C, GUCA2A, GUCA2B, GUCY1A2, GUCY1A3, GUCY1B2, GUCY1B3, GUCY2C, GUCY2D, GUCY2E, GUCY2F, GUCY2GP, GUF1, GUK1, GULP1, GUSB, GUSBP1, GUSBP10, GUSBP11, GUSBP2, GUSBP3, GUSBP4, GUSBP5, GUSBP9, GVINP1, GXYLT1, GXYLT2, GYG1, GYG2, GYG2P1, GYLTL1B, GYPA, GYPB, GYPC, GYPE, GYS1, GYS2, GZF1, GZMA, GZMB, GZMH, GZMK, GZMM, H19, H1F0, H1FNT, H1FOO, H1FX, H1FX-AS1, H2AFB1, H2AFB2, H2AFB3, H2AFJ, H2AFV, H2AFX, H2AFY, H2AFY2, H2AFZ, H2BFM, H2BFWT, H2BFXP, H3F3A, H3F3AP4, H3F3B, H3F3C, H6PD, HAAO, HABP2, HABP4, HACE1, HACL1, HADH, HADHA, HADHB, HAGH, HAGHL, HAL, HAMP, HAND1, HAND2, HAO1, HAO2, HAP1, HAPLN1, HAPLN2, HAPLN3, HAPLN4, HAR1A, HAR1B, HARBI1, HARS, HARS2, HAS1, HAS2, HAS2-AS1, HAS3, HAT1, HAUS1, HAUS2, HAUS3, HAUS4, HAUS5, HAUS6, HAUS7, HAUS8, HAVCR1, HAVCR2, HAX1, HBA1, HBA2, HBB, HBBP1, HBD, HBE1, HBEGF, HBG1, HBG2, HBM, HBP1, HBQ1, HBS1L, HBXIP, HBZ, HCAR1, HCAR2, HCAR3, HCCS, HCFC1, HCFC1R1, HCFC2, HCG11, HCG18, HCG22, HCG23, HCG25, HCG26, HCG27, HCG4, HCG4B, HCG9, HCK, HCLS1, HCN1, HCN2, HCN3, HCN4, HCP5, HCRT, HCRTR1, HCRTR2, HCST, HDAC1, HDAC10, HDAC11, HDAC2, HDAC3, HDAC4, HDAC5, HDAC6, HDAC7, HDAC8, HDAC9, HDC, HDDC2, HDDC3, HDGF, HDGFL1, HDGFRP2, HDGFRP3, HDHD1, HDHD2, HDHD3, HDLBP, HDX, HEATR1, HEATR2, HEATR3, HEATR4, HEATR5A, HEATR5B, HEATR6, HEATR7A, HEATR7B2, HEATR8, HEATR8-TTC4, HEBP1, HEBP2, HECA, HECTD1, HECTD2, HECTD3, HECW1, HECW2, HEG1, HELB, HELLS, HELQ, HELT, HELZ, HEMGN, HEMK1, HENMT1, HEPACAM, HEPACAM2, HEPH, HEPHL1, HEPN1, HERC1, HERC2, HERC2P2, HERC2P3, HERC2P4, HERC2P7, HERC2P9, HERC3, HERC4, HERC5, HERC6, HERPUD1, HERPUD2, HES1, HES2, HES3, HES4, HES5, HES6, HES7, HESX1, HEXA, HEXB, HEXDC, HEXIM1, HEXIM2, HEY1, HEY2, HEYL, HFE, HFE2, HFM1, HGC6.3, HGD, HGF, HGFAC, HGS, HGSNAT, HHAT, HHATL, HHEX, HHIP, HHIPL1, HHIPL2, HHLA1, HHLA2, HHLA3, HIAT1, HIATL1, HIATL2, HIBADH, HIBCH, HIC1, HIC2, HIF1A, HIF1A-AS2, HIF1AN, HIF3A, HIGD1A, HIGD1B, HIGD1C, HIGD2A, HIGD2B, HILPDA, HILS1, HINFP, HINT1, HINT2, HINT3, HIP1, HIP1R, HIPK1, HIPK2, HIPK3, HIPK4, HIRA, HIRIP3, HIST1H1A, HIST1H1B, HIST1H1C, HIST1H1D, HIST1H1E, HIST1H1T, HIST1H2AA, HIST1H2AB, HIST1H2AC, HIST1H2AD, HIST1H2AE, HIST1H2AG, HIST1H2AH, HIST1H2AI, HIST1H2AJ, HIST1H2AK, HIST1H2AL, HIST1H2AM, HIST1H2APS1, HIST1H2BA, HIST1H2BB, HIST1H2BC, HIST1H2BD, HIST1H2BE, HIST1H2BF, HIST1H2BG, HIST1H2BH, HIST1H2BI, HIST1H2BJ, HIST1H2BK, HIST1H2BL, HIST1H2BM, HIST1H2BN, HIST1H2BO, HIST1H3A, HIST1H3B, HIST1H3C, HIST1H3D, HIST1H3E, HIST1H3F, HIST1H3G, HIST1H3H, HIST1H3I, HIST1H3J, HIST1H4A, HIST1H4B, HIST1H4C, HIST1H4D, HIST1H4E, HIST1H4F, HIST1H4G, HIST1H4H, HIST1H4I, HIST1H4J, HIST1H4K, HIST1H4L, HIST2H2AA3, HIST2H2AA4, HIST2H2AB, HIST2H2AC, HIST2H2BA, HIST2H2BC, HIST2H2BE, HIST2H2BF, HIST2H3A, HIST2H3C, HIST2H3D, HIST2H4A, HIST2H4B, HIST3H2A, HIST3H2BB, HIST3H3, HIST4H4, HIVEP1, HIVEP2, HIVEP3, HJURP, HK1, HK2, HK3, HKDC1, HKR1, HLA-A, HLA-B, HLA-C, HLA-DMA, HLA-DMB, HLA-DOA, HLA-DOB, HLA-DPA1, HLA-DPB1, HLA-DPB2, HLA-DQA1, HLA-DQA2, HLA-DQB1, HLA-DQB2, HLA-DRA, HLA-DRB1, HLA-DRB3, HLA-DRB4, HLA-DRB5, HLA-DRB6, HLA-E, HLA-F, HLA-F-AS1, HLA-G, HLA-H, HLA-J, HLA-L, HLCS, HLF, HLTF, HLX, HM13, HMBOX1, HMBS, HMCN1, HMG20A, HMG20B, HMGA1, HMGA1P7, HMGA2, HMGB1, HMGB2, HMGB3, HMGB3P1, HMGB4, HMGCL, HMGCLL1, HMGCR, HMGCS1, HMGCS2, HMGN1, HMGN2, HMGN2P46, HMGN3, HMGN4, HMGN5, HMGXB3, HMGXB4, HMHA1, HMHB1, HMMR, HMOX1, HMOX2, HMP19, HMSD, HMX1, HMX2, HMX3, HN1, HN1L, HNF1A, HNF1A-AS1, HNF1B, HNF4A, HNF4G, HNMT, HNRNPA0, HNRNPA1, HNRNPA1L2, HNRNPA1P10, HNRNPA2B1, HNRNPA3, HNRNPA3P1, HNRNPAB, HNRNPC, HNRNPCL1, HNRNPD, HNRNPF, HNRNPH1, HNRNPH2, HNRNPH3, HNRNPK, HNRNPKP3, HNRNPL, HNRNPM, HNRNPR, HNRNPU, HNRNPU-AS1, HNRNPUL1, HNRNPUL2, HNRNPUL2-BSCL2, HNRPDL, HNRPLL, HOGA1, HOMER1, HOMER2, HOMER3, HOMEZ, HOOK1, HOOK2, HOOK3, HOPX, HORMAD1, HORMAD2, HOTAIR, HOTAIRM1, HOTTIP, HOXA-AS3, HOXA-AS5, HOXA1, HOXA10, HOXA10-HOXA9, HOXA11, HOXA13, HOXA2, HOXA3, HOXA4, HOXA5, HOXA6, HOXA7, HOXA9, HOXB-AS3, HOXB-AS5, HOXB1, HOXB13, HOXB2, HOXB3, HOXB4, HOXB5, HOXB6, HOXB7, HOXB8, HOXB9, HOXC10, HOXC11, HOXC12, HOXC13, HOXC4, HOXC5, HOXC6, HOXC8, HOXC9, HOXD-AS1, HOXD-AS2, HOXD1, HOXD10, HOXD11, HOXD12, HOXD13, HOXD3, HOXD4, HOXD8, HOXD9, HP, HP07349, HP1BP3, HPCA, HPCAL1, HPCAL4, HPD, HPDL, HPGD, HPGDS, HPN, HPR, HPRT1, HPS1, HPS3, HPS4, HPS5, HPS6, HPSE, HPSE2, HPVC1, HPX, HPYR1, HR, HRAS, HRASLS, HRASLS2, HRASLS5, HRC, HRCT1, HRG, HRH1, HRH2, HRH3, HRH4, HRK, HRNR, HRSP12, HS1BP3, HS2ST1, HS3ST1, HS3ST2, HS3ST3A1, HS3ST3B1, HS3ST4, HS3ST5, HS3ST6, HS6ST1, HS6ST2, HS6ST3, HSBP1, HSBP1L1, HSCB, HSD11B1, HSD11B1L, HSD11B2, HSD17B1, HSD17B10, HSD17B11, HSD17B12, HSD17B13, HSD17B14, HSD17B2, HSD17B3, HSD17B4, HSD17B6, HSD17B7, HSD17B7P2, HSD17B8, HSD3B1, HSD3B2, HSD3B7, HSD3BP4, HSD52, HSDL1, HSDL2, HSF1, HSF2, HSF2BP, HSF4, HSF5, HSFX1, HSFX2, HSFY1, HSFY1P1, HSFY2, HSH2D, HSP90AA1, HSP90AA4P, HSP90AA6P, HSP90AB1, HSP90AB2P, HSP90AB3P, HSP90AB4P, HSP90B1, HSP90B3P, HSPA12A, HSPA12B, HSPA13, HSPA14, HSPA1A, HSPA1B, HSPA1L, HSPA2, HSPA4, HSPA4L, HSPA5, HSPA6, HSPA7, HSPA8, HSPA9, HSPB1, HSPB11, HSPB2, HSPB2-C11orf52, HSPB3, HSPB6, HSPB7, HSPB8, HSPB9, HSPBAP1, HSPBP1, HSPC072, HSPD1, HSPE1, HSPE1-MOB4, HSPG2, HSPH1, HTA, HTATIP2, HTATSF1, HTN1, HTN3, HTR1A, HTR1B, HTR1D, HTR1E, HTR1F, HTR2A, HTR2B, HTR2C, HTR3A, HTR3B, HTR3C, HTR3D, HTR3E, HTR4, HTR5A, HTR6, HTR7, HTR7P1, HTRA1, HTRA2, HTRA3, HTRA4, HTT, HTT-AS1, HULC, HUNK, HUS1, HUS1B, HUWE1, HVCN1, HYAL1, HYAL2, HYAL3, HYAL4, HYALP1, HYDIN, HYI, HYLS1, HYMAI, HYOU1, IAH1, IAPP, IARS, IARS2, IBA57, IBSP, IBTK, ICA1, ICA1L, ICAM1, ICAM2, ICAM3, ICAM4, ICAM5, ICK, ICMT, ICOS, ICOSLG, ICT1, ID1, ID2, ID2B, ID3, ID4, IDAS, IDE, IDH1, IDH2, IDH3A, IDH3B, IDH3G, IDI1, IDI2, IDI2-AS1, IDO1, IDO2, IDS, IDUA, IER2, IER3, IER3IP1, IER5, IER5L, IFFO1, IFFO2, IFI16, IFI27, IFI27L1, IFI27L2, IFI30, IFI35, IFI44, IFI44L, IFI6, IFIH1, IFIT1, IFIT1B, IFIT2, IFIT3, IFIT5, IFITM1, IFITM10, IFITM2, IFITM3, IFITM4P, IFITM5, IFLTD1, IFNA1, IFNA10, IFNA13, IFNA14, IFNA16, IFNA17, IFNA2, IFNA21, IFNA22P, IFNA4, IFNA5, IFNA6, IFNA7, IFNA8, IFNAR1, IFNAR2, IFNB1, IFNE, IFNG, IFNGR1, IFNGR2, IFNK, IFNW1, IFRD1, IFRD2, IFT122, IFT140, IFT172, IFT20, IFT27, IFT43, IFT46, IFT52, IFT57, IFT74, IFT80, IFT81, IFT88, IGBP1, IGBP1P1, IGDCC3, IGDCC4, IGF1, IGF1R, IGF2, IGF2-AS1, IGF2BP1, IGF2BP2, IGF2BP3, IGF2R, IGFALS, IGFBP1, IGFBP2, IGFBP3, IGFBP4, IGFBP5, IGFBP6, IGFBP7, IGFBPL1, IGFL1, IGFL2, IGFL3, IGFL4, IGFLR1, IGFN1, IGHMBP2, IGIP, IGJ, IGLL1, IGLL3P, IGLL5, IGLON5, IGSF1, IGSF10, IGSF11, IGSF11-AS1, IGSF21, IGSF22, IGSF23, IGSF3, IGSF5, IGSF6, IGSF8, IGSF9, IGSF9B, IHH, IK, IKBIP, IKBKAP, IKBKB, IKBKE, IKBKG, IKZF1, IKZF2, IKZF3, IKZF4, IKZF5, IL10, IL10RA, IL10RB, IL11, IL11RA, IL12A, IL12B, IL12RB1, IL12RB2, IL13, IL13RA1, IL13RA2, IL15, IL15RA, IL16, IL17A, IL17B, IL17C, IL17D, IL17F, IL17RA, IL17RB, IL17RC, IL17RD, IL17RE, IL17REL, IL18, IL18BP, IL18R1, IL18RAP, IL19, IL1A, IL1B, IL1F10, IL1R1, IL1R2, IL1RAP, IL1RAPL1, IL1RAPL2, IL1RL1, IL1RL2, IL1RN, IL2, IL20, IL20RA, IL20RB, IL21, IL21R, IL22, IL22RA1, IL22RA2, IL23A, IL23R, IL24, IL25, IL26, IL27, IL27RA, IL28A, IL28B, IL28RA, IL29, IL2RA, IL2RB, IL2RG, IL3, IL31, IL31RA, IL32, IL33, IL34, IL36A, IL36B, IL36G, IL36RN, IL37, IL3RA, IL4, IL4I1, IL4R, IL5, IL5RA, IL6, IL6R, IL6ST, IL7, IL7R, IL8, IL9, IL9R, ILDR1, ILDR2, ILF2, ILF3, ILK, ILKAP, ILVBL, IMMP1L, IMMP2L, IMMT, IMP3, IMP4, IMPA1, IMPA2, IMPACT, IMPAD1, IMPDH1, IMPDH2, IMPG1, IMPG2, INA, INADL, INCA1, INCENP, INE1, INE2, INF2, ING1, ING2, ING3, ING4, ING5, INGX, INHA, INHBA, INHBB, INHBC, INHBE, INMT, INMT-FAM188B, INO80, INO80B, INO80B-WBP1, INO80C, INO80D, INO80E, INPP1, INPP4A, INPP4B, INPP5A, INPP5B, INPP5D, INPP5E, INPP5F, INPP5J, INPP5K, INPPL1, INS, INS-IGF2, INSC, INSIG1, INSIG2, INSL3, INSL4, INSL5, INSL6, INSM1, INSM2, INSR, INSRR, INTS1, INTS10, INTS12, INTS2, INTS3, INTS4, INTS4L1, INTS4L2, INTS5, INTS6, INTS7, INTS8, INTS9, INTU, INVS, IP6K1, IP6K2, IP6K3, IPCEF1, IPMK, IPO11, IPO13, IPO4, IPO5, IPO7, IPO8, IPO9, IPP, IPPK, IPW, IQCA1, IQCB1, IQCC, IQCD, IQCE, IQCF1, IQCF2, IQCF3, IQCF4, IQCF5, IQCF6, IQCG, IQCH, IQCJ, IQCJ-SCHIP1, IQCK, IQGAP1, IQGAP2, IQGAP3, IQSEC1, IQSEC2, IQSEC3, IQUB, IRAK1, IRAK1BP1, IRAK2, IRAK3, IRAK4, IREB2, IRF1, IRF2, IRF2BP1, IRF2BP2, IRF2BPL, IRF3, IRF4, IRF5, IRF6, IRF7, IRF8, IRF9, IRGC, IRGM, IRGQ, IRS1, IRS2, IRS4, IRX1, IRX2, IRX3, IRX4, IRX5, IRX6, ISCA1, ISCA2, ISCU, ISG15, ISG20, ISG20L2, ISL1, ISL2, ISLR, ISLR2, ISM1, ISM2, ISOC1, ISOC2, ISPD, IST1, ISX, ISY1, ISY1-RAB43, ISYNA1, ITCH, ITFG1, ITFG2, ITFG3, ITGA1, ITGA10, ITGA11, ITGA2, ITGA2B, ITGA3, ITGA4, ITGA5, ITGA6, ITGA7, ITGA8, ITGA9, ITGAD, ITGAE, ITGAL, ITGAM, ITGAV, ITGAX, ITGB1, ITGB1BP1, ITGB1BP2, ITGB1BP3, ITGB2, ITGB3, ITGB3BP, ITGB4, ITGB5, ITGB6, ITGB7, ITGB8, ITGBL1, ITIH1, ITIH2, ITIH3, ITIH4, ITIH5, ITIH6, ITK, ITLN1, ITLN2, ITM2A, ITM2B, ITM2C, ITPA, ITPK1, ITPK1-AS1, ITPKA, ITPKB, ITPKC, ITPR1, ITPR2, ITPR3, ITPRIP, ITPRIPL1, ITPRIPL2, ITSN1, ITSN2, IVD, IVL, IVNS1ABP, IWS1, IYD, IZUMO1, IZUMO2, IZUMO4, JAG1, JAG2, JAGN1, JAK1, JAK2, JAK3, JAKMIP1, JAKMIP2, JAKMIP3, JAM2, JAM3, JARID2, JAZF1, JAZF1-AS1, JDP2, JHDM1D, JKAMP, JMJD1C, JMJD4, JMJD5, JMJD6, JMJD7, JMJD7-PLA2G4B, JMJD8, JMY, JOSD1, JOSD2, JPH1, JPH2, JPH3, JPH4, JPX, JRK, JRKL, JSRP1, JTB, JUN, JUNB, JUND, JUP, KAAG1, KAL1, KALRN, KANK1, KANK2, KANK3, KANK4, KANSL1, KANSL1-AS1, KANSL1L, KANSL2, KANSL3, KARS, KAT2A, KAT2B, KAT5, KAT6A, KAT6B, KAT7, KAT8, KATNA1, KATNAL1, KATNAL2, KATNB1, KAZALD1, KAZN, KBTBD10, KBTBD11, KBTBD12, KBTBD13, KBTBD2, KBTBD3, KBTBD4, KBTBD5, KBTBD6, KBTBD7, KBTBD8, KC6, KCMF1, KCNA1, KCNA10, KCNA2, KCNA3, KCNA4, KCNA5, KCNA6, KCNA7, KCNAB1, KCNAB2, KCNAB3, KCNB1, KCNB2, KCNC1, KCNC2, KCNC3, KCNC4, KCND1, KCND2, KCND3, KCNE1, KCNE1L, KCNE2, KCNE3, KCNE4, KCNF1, KCNG1, KCNG2, KCNG3, KCNG4, KCNH1, KCNH2, KCNH3, KCNH4, KCNH5, KCNH6, KCNH7, KCNH8, KCNIP1, KCNIP2, KCNIP3, KCNIP4, KCNIP4-IT1, KCNJ1, KCNJ10, KCNJ11, KCNJ12, KCNJ13, KCNJ14, KCNJ15, KCNJ16, KCNJ18, KCNJ2, KCNJ2-AS1, KCNJ3, KCNJ4, KCNJ5, KCNJ6, KCNJ8, KCNJ9, KCNK1, KCNK10, KCNK12, KCNK13, KCNK15, KCNK16, KCNK17, KCNK18, KCNK2, KCNK3, KCNK4, KCNK5, KCNK6, KCNK7, KCNK9, KCNMA1, KCNMB1, KCNMB2, KCNMB3, KCNMB4, KCNN1, KCNN2, KCNN3, KCNN4, KCNQ1, KCNQ1DN, KCNQ1OT1, KCNQ2, KCNQ3, KCNQ4, KCNQ5, KCNRG, KCNS1, KCNS2, KCNS3, KCNT1, KCNT2, KCNU1, KCNV1, KCNV2, KCP, KCTD1, KCTD10, KCTD11, KCTD12, KCTD13, KCTD14, KCTD15, KCTD16, KCTD17, KCTD18, KCTD19, KCTD2, KCTD20, KCTD21, KCTD3, KCTD4, KCTD5, KCTD6, KCTD7, KCTD8, KCTD9, KDELC1, KDELC2, KDELR1, KDELR2, KDELR3, KDM1A, KDM1B, KDM2A, KDM2B, KDM3A, KDM3B, KDM4A, KDM4B, KDM4C, KDM4D, KDM4DL, KDM5A, KDM5B, KDM5B-AS1, KDM5C, KDM5D, KDM6A, KDM6B, KDR, KDSR, KEAP1, KEL, KERA, KGFLP1, KGFLP2, KHDC1, KHDC1L, KHDRBS1, KHDRBS2, KHDRBS3, KHK, KHNYN, KHSRP, KIAA0020, KIAA0040, KIAA0087, KIAA0090, KIAA0100, KIAA0101, KIAA0125, KIAA0141, KIAA0146, KIAA0182, KIAA0195, KIAA0196, KIAA0226, KIAA0226L, KIAA0232, KIAA0240, KIAA0247, KIAA0284, KIAA0317, KIAA0319, KIAA0319L, KIAA0355, KIAA0368, KIAA0391, KIAA0408, KIAA0415, KIAA0430, KIAA0494, KIAA0513, KIAA0528, KIAA0556, KIAA0564, KIAA0586, KIAA0664, KIAA0664L3, KIAA0748, KIAA0753, KIAA0754, KIAA0825, KIAA0889, KIAA0895, KIAA0895L, KIAA0907, KIAA0913, KIAA0922, KIAA0930, KIAA0947, KIAA1009, KIAA1024, KIAA1033, KIAA1045, KIAA1107, KIAA1109, KIAA1143, KIAA1147, KIAA1161, KIAA1191, KIAA1199, KIAA1210, KIAA1211, KIAA1217, KIAA1239, KIAA1244, KIAA1257, KIAA1274, KIAA1279, KIAA1324, KIAA1324L, KIAA1328, KIAA1377, KIAA1383, KIAA1407, KIAA1429, KIAA1430, KIAA1432, KIAA1456, KIAA1462, KIAA1467, KIAA1468, KIAA1522, KIAA1524, KIAA1530, KIAA1549, KIAA1586, KIAA1598, KIAA1609, KIAA1614, KIAA1644, KIAA1656, KIAA1671, KIAA1683, KIAA1704, KIAA1715, KIAA1731, KIAA1737, KIAA1751, KIAA1755, KIAA1797, KIAA1804, KIAA1826, KIAA1841, KIAA1875, KIAA1908, KIAA1919, KIAA1958, KIAA1967, KIAA1984, KIAA2013, KIAA2018, KIAA2022, KIAA2026, KIDINS220, KIF11, KIF12, KIF13A, KIF13B, KIF14, KIF15, KIF16B, KIF17, KIF18A, KIF18B, KIF19, KIF1A, KIF1B, KIF1C, KIF20A, KIF20B, KIF21A, KIF21B, KIF22, KIF23, KIF24, KIF25, KIF26A, KIF26B, KIF27, KIF2A, KIF2B, KIF2C, KIF3A, KIF3B, KIF3C, KIF4A, KIF4B, KIF5A, KIF5B, KIF5C, KIF6, KIF7, KIF9, KIFAP3, KIFC1, KIFC2, KIFC3, KIN, KIR2DL1, KIR2DL2, KIR2DL3, KIR2DL4, KIR2DL5A, KIR2DL5B, KIR2DS1, KIR2DS2, KIR2DS3, KIR2DS4, KIR2DS5, KIR3DL1, KIR3DL2, KIR3DL3, KIR3DS1, KIR3DX1, KIRREL, KIRREL2, KIRREL3, KIRREL3-AS3, KISS1, KISS1R, KIT, KITLG, KL, KLB, KLC1, KLC2, KLC3, KLC4, KLF1, KLF10, KLF11, KLF12, KLF13, KLF14, KLF15, KLF16, KLF17, KLF2, KLF3, KLF4, KLF5, KLF6, KLF7, KLF8, KLF9, KLHDC1, KLHDC10, KLHDC2, KLHDC3, KLHDC4, KLHDC5, KLHDC7A, KLHDC7B, KLHDC8A, KLHDC8B, KLHDC9, KLHL1, KLHL10, KLHL11, KLHL12, KLHL13, KLHL14, KLHL15, KLHL17, KLHL18, KLHL2, KLHL20, KLHL21, KLHL22, KLHL23, KLHL24, KLHL25, KLHL26, KLHL28, KLHL29, KLHL3, KLHL30, KLHL31, KLHL32, KLHL33, KLHL34, KLHL35, KLHL36, KLHL38, KLHL4, KLHL5, KLHL6, KLHL7, KLHL7-AS1, KLHL8, KLHL9, KLK1, KLK10, KLK11, KLK12, KLK13, KLK14, KLK15, KLK2, KLK3, KLK4, KLK5, KLK6, KLK7, KLK8, KLK9, KLKB1, KLKP1, KLLN, KLRAP1, KLRB1, KLRC1, KLRC2, KLRC3, KLRC4, KLRC4-KLRK1, KLRD1, KLRF1, KLRF2, KLRG1, KLRG2, KLRK1, KMO, KNCN, KNDC1, KNG1, KNTC1, KPNA1, KPNA2, KPNA3, KPNA4, KPNA5, KPNA6, KPNA7, KPNB1, KPRP, KPTN, KRAS, KRBA1, KRBA2, KRBOX1, KRCC1, KREMEN1, KREMEN2, KRI1, KRIT1, KRR1, KRT1, KRT10, KRT12, KRT13, KRT14, KRT15, KRT16, KRT16P2, KRT16P3, KRT17, KRT18, KRT18P55, KRT19, KRT19P2, KRT2, KRT20, KRT222, KRT23, KRT24, KRT25, KRT26, KRT27, KRT28, KRT3, KRT31, KRT32, KRT33A, KRT33B, KRT34, KRT35, KRT36, KRT37, KRT38, KRT39, KRT4, KRT40, KRT42P, KRT5, KRT6A, KRT6B, KRT6C, KRT7, KRT71, KRT72, KRT73, KRT74, KRT75, KRT76, KRT77, KRT78, KRT79, KRT8, KRT80, KRT81, KRT82, KRT83, KRT84, KRT85, KRT86, KRT8P41, KRT9, KRTAP1-1, KRTAP1-3, KRTAP1-5, KRTAP10-1, KRTAP10-10, KRTAP10-11, KRTAP10-12, KRTAP10-2, KRTAP10-3, KRTAP10-4, KRTAP10-5, KRTAP10-6, KRTAP10-7, KRTAP10-8, KRTAP10-9, KRTAP11-1, KRTAP12-1, KRTAP12-2, KRTAP12-3, KRTAP12-4, KRTAP13-1, KRTAP13-2, KRTAP13-3, KRTAP13-4, KRTAP15-1, KRTAP16-1, KRTAP17-1, KRTAP19-1, KRTAP19-2, KRTAP19-3, KRTAP19-4, KRTAP19-5, KRTAP19-6, KRTAP19-7, KRTAP19-8, KRTAP2-1, KRTAP2-2, KRTAP2-4, KRTAP20-1, KRTAP20-2, KRTAP20-3, KRTAP20-4, KRTAP21-1, KRTAP21-2, KRTAP21-3, KRTAP22-1, KRTAP22-2, KRTAP23-1, KRTAP24-1, KRTAP25-1, KRTAP26-1, KRTAP27-1, KRTAP3-1, KRTAP3-2, KRTAP3-3, KRTAP4-1, KRTAP4-11, KRTAP4-12, KRTAP4-2, KRTAP4-3, KRTAP4-4, KRTAP4-5, KRTAP4-6, KRTAP4-7, KRTAP4-8, KRTAP4-9, KRTAP5-1, KRTAP5-10, KRTAP5-11, KRTAP5-2, KRTAP5-3, KRTAP5-4, KRTAP5-5, KRTAP5-6, KRTAP5-7, KRTAP5-8, KRTAP5-9, KRTAP6-1, KRTAP6-2, KRTAP6-3, KRTAP7-1, KRTAP8-1, KRTAP9-1, KRTAP9-2, KRTAP9-3, KRTAP9-4, KRTAP9-8, KRTAP9-9, KRTCAP2, KRTCAP3, KRTDAP, KSR1, KSR2, KTI12, KTN1, KTN1-AS1, KXD1, KY, KYNU, L1CAM, L1TD1, L2HGDH, L3MBTL1, L3MBTL2, L3MBTL3, L3MBTL4, LACC1, LACE1, LACRT, LACTB, LACTB2, LAD1, LAG3, LAGE3, LAIR1, LAIR2, LALBA, LAMA1, LAMA2, LAMA3, LAMA4, LAMA5, LAMB1, LAMB2, LAMB2P1, LAMB3, LAMB4, LAMC1, LAMC2, LAMC3, LAMP1, LAMP2, LAMP3, LAMP5, LAMTOR1, LAMTOR2, LAMTOR3, LANCL1, LANCL2, LANCL3, LAP3, LAPTM4A, LAPTM4B, LAPTM5, LARGE, LARP1, LARP1B, LARP4, LARP4B, LARP6, LARP7, LARS, LARS2, LAS1L, LASP1, LAT, LAT2, LATS1, LATS2, LAX1, LAYN, LBH, LBP, LBR, LBX1, LBX2, LCA5, LCA5L, LCAT, LCE1A, LCE1B, LCE1C, LCE1D, LCE1E, LCE1F, LCE2A, LCE2B, LCE2C, LCE2D, LCE3A, LCE3B, LCE3C, LCE3D, LCE3E, LCE4A, LCE5A, LCE6A, LCK, LCLAT1, LCMT1, LCMT2, LCN1, LCN10, LCN12, LCN15, LCN2, LCN6, LCN8, LCN9, LCNL1, LCOR, LCORL, LCP1, LCP2, LCT, LCTL, LDB1, LDB2, LDB3, LDHA, LDHAL6A, LDHAL6B, LDHB, LDHC, LDHD, LDLR, LDLRAD1, LDLRAD2, LDLRAD3, LDLRAP1, LDOC1, LDOC1L, LEAP2, LECT1, LECT2, LEF1, LEFTY1, LEFTY2, LEKR1, LELP1, LEMD1, LEMD2, LEMD3, LENEP, LENG1, LENG8, LENG9, LEO1, LEP, LEPR, LEPRE1, LEPREL1, LEPREL2, LEPREL4, LEPROT, LEPROTL1, LETM1, LETM2, LETMD1, LEUTX, LFNG, LGALS1, LGALS12, LGALS13, LGALS14, LGALS16, LGALS17A, LGALS2, LGALS3, LGALS3BP, LGALS4, LGALS7, LGALS7B, LGALS8, LGALS8-AS1, LGALS9, LGALS9B, LGALS9C, LGALSL, LGI1, LGI2, LGI3, LGI4, LGMN, LGR4, LGR5, LGR6, LGSN, LHB, LHCGR, LHFP, LHFPL1, LHFPL2, LHFPL3, LHFPL4, LHFPL5, LHPP, LHX1, LHX2, LHX3, LHX4, LHX5, LHX6, LHX8, LHX9, LIAS, LIF, LIFR, LIG1, LIG3, LIG4, LILRA1, LILRA2, LILRA3, LILRA4, LILRA5, LILRA6, LILRB1, LILRB2, LILRB3, LILRB4, LILRB5, LILRP2, LIM2, LIMA1, LIMCH1, LIMD1, LIMD2, LIME1, LIMK1, LIMK2, LIMS1, LIMS2, LIMS3, LIMS3-LOC440895, LIMS3L, LIN28A, LIN28B, LIN37, LIN52, LIN54, LIN7A, LIN7B, LIN7C, LIN9, LINC00028, LINC00029, LINC00032, LINC00051, LINC00052, LINC00085, LINC00086, LINC00087, LINC00092, LINC00094, LINC00102, LINC00111, LINC00112, LINC00113, LINC00114, LINC00115, LINC00116, LINC00152, LINC00158, LINC00159, LINC00160, LINC00161, LINC00162, LINC00163, LINC00167, LINC00173, LINC00174, LINC00176, LINC00184, LINC00189, LINC00200, LINC00202, LINC00204A, LINC00204B, LINC00207, LINC00208, LINC00221, LINC00222, LINC00226, LINC00229, LINC00230A, LINC00230B, LINC00235, LINC00238, LINC00239, LINC00240, LINC00242, LINC00244, LINC00246A, LINC00246B, LINC00251, LINC00254, LINC00256A, LINC00256B, LINC00260, LINC00261, LINC00263, LINC00264, LINC00265, LINC00266-1, LINC00271, LINC00272, LINC00273, LINC00277, LINC00281, LINC00282, LINC00284, LINC00290, LINC00293, LINC00294, LINC00299, LINC00301, LINC00303, LINC00304, LINC00305, LINC00307, LINC00308, LINC00309, LINC00310, LINC00311, LINC00312, LINC00313, LINC00314, LINC00315, LINC00317, LINC00319, LINC00320, LINC00323, LINC00324, LINC00326, LINC00327, LINC00330, LINC00336, LINC00338, LINC00339, LINC00340, LINC00341, LINC00346, LINC00347, LINC00410, LINC00421, LINC00426, LINC00442, LINC00460, LINC00461, LINC00466, LINC00467, LINC00469, LINC00470, LINC00471, LINC00472, LINC00473, LINC00474, LINC00475, LINC00476, LINC00477, LINC00478, LINC00479, LINC00482, LINC00483, LINC00485, LINC00486, LINC00487, LINC00488, LINC00493, LINC00494, LINC00511, LINC00514, LINC00515, LINC00518, LINC00520, LINC00521, LINC00523, LINC00525, LINC00526, LINC00535, LINC00536, LINC00538, LINC00547, LINC00548, LINC00550, LINC00552, LINC00574, LINC00575, LINGO1, LINGO2, LINGO3, LINGO4, LINS, LIPA, LIPC, LIPE, LIPF, LIPG, LIPH, LIPI, LIPJ, LIPK, LIPM, LIPN, LIPT1, LIPT2, LITAF, LIX1, LIX1L, LLGL1, LLGL2, LLPH, LMAN1, LMAN1L, LMAN2, LMAN2L, LMBR1, LMBR1L, LMBRD1, LMBRD2, LMCD1, LMF1, LMF2, LMLN, LMNA, LMNB1, LMNB2, LMO1, LMO2, LMO3, LMO4, LMO7, LMOD1, LMOD2, LMOD3, LMTK2, LMTK3, LMX1A, LMX1B, LNP1, LNPEP, LNX1, LNX2, LOC100009676, LOC100093631, LOC100093698, LOC100101266, LOC100124692, LOC100125556, LOC100126784, LOC100127888, LOC100127983, LOC100128023, LOC100128054, LOC100128071, LOC100128076, LOC100128098, LOC100128126, LOC100128164, LOC100128176, LOC100128191, LOC100128239, LOC100128252, LOC100128264, LOC100128288, LOC100128292, LOC100128338, LOC100128361, LOC100128398, LOC100128420, LOC100128496, LOC100128505, LOC100128511, LOC100128531, LOC100128554, LOC100128568, LOC100128573, LOC100128590, LOC100128593, LOC100128640, LOC100128675, LOC100128682, LOC100128714, LOC100128750, LOC100128787, LOC100128788, LOC100128811, LOC100128822, LOC100128881, LOC100128946, LOC100128993, LOC100129027, LOC100129034, LOC100129046, LOC100129055, LOC100129083, LOC100129138, LOC100129148, LOC100129175, LOC100129196, LOC100129213, LOC100129216, LOC100129250, LOC100129269, LOC100129316, LOC100129345, LOC100129361, LOC100129387, LOC100129407, LOC100129427, LOC100129480, LOC100129515, LOC100129518, LOC100129520, LOC100129534, LOC100129550, LOC100129617, LOC100129620, LOC100129636, LOC100129662, LOC100129716, LOC100129722, LOC100129726, LOC100129794, LOC100129845, LOC100129858, LOC100129917, LOC100129924, LOC100129931, LOC100129935, LOC100129961, LOC100130000, LOC100130015, LOC100130093, LOC100130155, LOC100130197, LOC100130231, LOC100130238, LOC100130264, LOC100130275, LOC100130298, LOC100130301, LOC100130331, LOC100130348, LOC100130357, LOC100130417, LOC100130451, LOC100130452, LOC100130480, LOC100130522, LOC100130557, LOC100130581, LOC100130673, LOC100130691, LOC100130700, LOC100130705, LOC100130744, LOC100130776, LOC100130849, LOC100130855, LOC100130872, LOC100130880, LOC100130890, LOC100130894, LOC100130899, LOC100130950, LOC100130954, LOC100130964, LOC100130987, LOC100130992, LOC100131047, LOC100131060, LOC100131067, LOC100131089, LOC100131094, LOC100131096, LOC100131138, LOC100131176, LOC100131193, LOC100131208, LOC100131234, LOC100131257, LOC100131289, LOC100131320, LOC100131347, LOC100131366, LOC100131434, LOC100131496, LOC100131551, LOC100131564, LOC100131626, LOC100131635, LOC100131655, LOC100131691, LOC100131726, LOC100131733, LOC100131825, LOC100132062, LOC100132077, LOC100132078, LOC100132111, LOC100132146, LOC100132163, LOC100132215, LOC100132247, LOC100132273, LOC100132287, LOC100132352, LOC100132354, LOC100132356, LOC100132396, LOC100132526, LOC100132707, LOC100132724, LOC100132735, LOC100132741, LOC100132774, LOC100132781, LOC100132831, LOC100132832, LOC100132891, LOC100132987, LOC100133050, LOC100133091, LOC100133123, LOC100133161, LOC100133267, LOC100133286, LOC100133308, LOC100133315, LOC100133331, LOC100133445, LOC100133461, LOC100133612, LOC100133669, LOC100133920, LOC100133957, LOC100133985, LOC100133991, LOC100134015, LOC100134229, LOC100134259, LOC100134317, LOC100134368, LOC100134713, LOC100134868, LOC100144595, LOC100144597, LOC100144602, LOC100144603, LOC100144604, LOC100169752, LOC100170939, LOC100188947, LOC100189589, LOC100190938, LOC100190940, LOC100190986, LOC100192204, LOC100192378, LOC100192426, LOC100216001, LOC100216479, LOC100216545, LOC100216546, LOC100233156, LOC100233209, LOC100240734, LOC100240735, LOC100268168, LOC100270679, LOC100270746, LOC100270804, LOC100271702, LOC100271722, LOC100271832, LOC100271836, LOC100272216, LOC100272217, LOC100272228, LOC100286793, LOC100286844, LOC100286922, LOC100286938, LOC100286979, LOC100287010, LOC100287015, LOC100287036, LOC100287042, LOC100287177, LOC100287216, LOC100287225, LOC100287314, LOC100287482, LOC100287559, LOC100287616, LOC100287632, LOC100287704, LOC100287718, LOC100287722, LOC100287765, LOC100287792, LOC100287814, LOC100287834, LOC100287846, LOC100287879, LOC100287944, LOC100288069, LOC100288077, LOC100288079, LOC100288122, LOC100288123, LOC100288181, LOC100288198, LOC100288255, LOC100288346, LOC100288428, LOC100288432, LOC100288524, LOC100288570, LOC100288615, LOC100288637, LOC100288748, LOC100288778, LOC100288814, LOC100288842, LOC100288846, LOC100288911, LOC100288974, LOC100289019, LOC100289092, LOC100289178, LOC100289187, LOC100289211, LOC100289230, LOC100289255, LOC100289341, LOC100289361, LOC100289473, LOC100289495, LOC100289509, LOC100289511, LOC100289561, LOC100289650, LOC100289656, LOC100289673, LOC100292680, LOC100293534, LOC100294145, LOC100294362, LOC100302401, LOC100302640, LOC100302650, LOC100303749, LOC100306951, LOC100306975, LOC100329109, LOC100329135, LOC100335030, LOC100379224, LOC100422737, LOC100498859, LOC100499177, LOC100499183, LOC100499194, LOC100499227, LOC100499405, LOC100499466, LOC100499467, LOC100499484, LOC100499489, LOC100500773, LOC100500938, LOC100505474, LOC100505478, LOC100505483, LOC100505495, LOC100505536, LOC100505540, LOC100505545, LOC100505549, LOC100505576, LOC100505583, LOC100505619, LOC100505622, LOC100505624, LOC100505633, LOC100505648, LOC100505658, LOC100505659, LOC100505666, LOC100505676, LOC100505678, LOC100505679, LOC100505681, LOC100505687, LOC100505695, LOC100505696, LOC100505702, LOC100505715, LOC100505716, LOC100505718, LOC100505738, LOC100505746, LOC100505761, LOC100505768, LOC100505776, LOC100505782, LOC100505783, LOC100505795, LOC100505806, LOC100505812, LOC100505815, LOC100505817, LOC100505826, LOC100505835, LOC100505839, LOC100505841, LOC100505854, LOC100505865, LOC100505875, LOC100505876, LOC100505894, LOC100505912, LOC100505918, LOC100505933, LOC100505964, LOC100505967, LOC100505978, LOC100505989, LOC100506012, LOC100506013, LOC100506023, LOC100506025, LOC100506033, LOC100506035, LOC100506046, LOC100506050, LOC100506054, LOC100506068, LOC100506071, LOC100506083, LOC100506085, LOC100506100, LOC100506122, LOC100506123, LOC100506124, LOC100506134, LOC100506136, LOC100506172, LOC100506178, LOC100506190, LOC100506195, LOC100506207, LOC100506229, LOC100506233, LOC100506241, LOC100506274, LOC100506305, LOC100506314, LOC100506321, LOC100506334, LOC100506343, LOC100506368, LOC100506384, LOC100506385, LOC100506388, LOC100506393, LOC100506394, LOC100506409, LOC100506421, LOC100506422, LOC100506433, LOC100506451, LOC100506462, LOC100506469, LOC100506472, LOC100506474, LOC100506497, LOC100506540, LOC100506548, LOC100506585, LOC100506599, LOC100506649, LOC100506650, LOC100506655, LOC100506660, LOC100506668, LOC100506686, LOC100506688, LOC100506710, LOC100506713, LOC100506714, LOC100506730, LOC100506733, LOC100506746, LOC100506757, LOC100506776, LOC100506779, LOC100506795, LOC100506801, LOC100506804, LOC100506810, LOC100506835, LOC100506844, LOC100506866, LOC100506874, LOC100506888, LOC100506895, LOC100506930, LOC100506939, LOC100506963, LOC100506990, LOC100506994, LOC100507003, LOC100507032, LOC100507034, LOC100507043, LOC100507050, LOC100507053, LOC100507055, LOC100507062, LOC100507066, LOC100507086, LOC100507091, LOC100507096, LOC100507117, LOC100507127, LOC100507140, LOC100507156, LOC100507173, LOC100507178, LOC100507194, LOC100507203, LOC100507205, LOC100507206, LOC100507217, LOC100507218, LOC100507240, LOC100507244, LOC100507246, LOC100507250, LOC100507254, LOC100507266, LOC100507299, LOC100507300, LOC100507331, LOC100507334, LOC100507341, LOC100507346, LOC100507351, LOC100507362, LOC100507373, LOC100507377, LOC100507387, LOC100507389, LOC100507391, LOC100507392, LOC100507401, LOC100507404, LOC100507410, LOC100507412, LOC100507421, LOC100507423, LOC100507424, LOC100507433, LOC100507443, LOC100507462, LOC100507463, LOC100507466, LOC100507470, LOC100507472, LOC100507489, LOC100507495, LOC100507501, LOC100507537, LOC100507547, LOC100507557, LOC100507564, LOC100507567, LOC100507577, LOC100507582, LOC100507584, LOC100507588, LOC100507589, LOC100507600, LOC100507605, LOC100507629, LOC100507632, LOC100507634, LOC100507651, LOC100508120, LOC100509575, LOC100509894, LOC100526771, LOC100527964, LOC100616530, LOC100616668, LOC100628307, LOC100630918, LOC100630923, LOC100631378, LOC100652730, LOC100652739, LOC100652759, LOC100652768, LOC100652770, LOC100652791, LOC100652846, LOC100652909, LOC100652999, LOC100653515, LOC100859930, LOC100861402, LOC113230, LOC115110, LOC116437, LOC120824, LOC126536, LOC127841, LOC139201, LOC143188, LOC143666, LOC144481, LOC144486, LOC144571, LOC144742, LOC145216, LOC145474, LOC145663, LOC145783, LOC145820, LOC145837, LOC145845, LOC146336, LOC146481, LOC146513, LOC146880, LOC147093, LOC147646, LOC147670, LOC147727, LOC147804, LOC148145, LOC148189, LOC148413, LOC148696, LOC148709, LOC148824, LOC149086, LOC149134, LOC149373, LOC149773, LOC149837, LOC149950, LOC150185, LOC150197, LOC150381, LOC150527, LOC150568, LOC150622, LOC150776, LOC150935, LOC151009, LOC151171, LOC151174, LOC151300, LOC151475, LOC151484, LOC151534, LOC151658, LOC152024, LOC152217, LOC152225, LOC152578, LOC152742, LOC153469, LOC153684, LOC153910, LOC154092, LOC154449, LOC154761, LOC154822, LOC154860, LOC154872, LOC155060, LOC157273, LOC157381, LOC157627, LOC158257, LOC158376, LOC158434, LOC158435, LOC158572, LOC158696, LOC170425, LOC1720, LOC200261, LOC200726, LOC200772, LOC201477, LOC201617, LOC201651, LOC202181, LOC202781, LOC219347, LOC219731, LOC220729, LOC220906, LOC221122, LOC221442, LOC253039, LOC253044, LOC253573, LOC253962, LOC254099, LOC254100, LOC254128, LOC254312, LOC254559, LOC254896, LOC255025, LOC255130, LOC255167, LOC255411, LOC255480, LOC255512, LOC255654, LOC256021, LOC256880, LOC257358, LOC257396, LOC282980, LOC282997, LOC283033, LOC283038, LOC283050, LOC283070, LOC283089, LOC283104, LOC283116, LOC283143, LOC283174, LOC283177, LOC283194, LOC283214, LOC283299, LOC283332, LOC283335, LOC283392, LOC283403, LOC283404, LOC283440, LOC283481, LOC283547, LOC283553, LOC283585, LOC283587, LOC283624, LOC283663, LOC283683, LOC283688, LOC283692, LOC283693, LOC283710, LOC283731, LOC283738, LOC283761, LOC283788, LOC283856, LOC283867, LOC283888, LOC283914, LOC283922, LOC284009, LOC284023, LOC284080, LOC284100, LOC284215, LOC284260, LOC284276, LOC284294, LOC284344, LOC284379, LOC284385, LOC284395, LOC284408, LOC284412, LOC284440, LOC284454, LOC284551, LOC284576, LOC284578, LOC284581, LOC284632, LOC284648, LOC284661, LOC284688, LOC284751, LOC284757, LOC284788, LOC284798, LOC284801, LOC284837, LOC284865, LOC284889, LOC284933, LOC284950, LOC284998, LOC285000, LOC285033, LOC285074, LOC285084, LOC285103, LOC285205, LOC285326, LOC285359, LOC285370, LOC285375, LOC285401, LOC285419, LOC285441, LOC285456, LOC285484, LOC285501, LOC285540, LOC285547, LOC285548, LOC285577, LOC285593, LOC285626, LOC285627, LOC285629, LOC285692, LOC285696, LOC285740, LOC285758, LOC285762, LOC285768, LOC285796, LOC285819, LOC285847, LOC285878, LOC285889, LOC285954, LOC285965, LOC285972, LOC286002, LOC286059, LOC286083, LOC286094, LOC286114, LOC286135, LOC286177, LOC286184, LOC286186, LOC286189, LOC286190, LOC286238, LOC286297, LOC286359, LOC286367, LOC286370, LOC286437, LOC286442, LOC286467, LOC338579, LOC338588, LOC338651, LOC338739, LOC338758, LOC338799, LOC338817, LOC338963, LOC339166, LOC339240, LOC339290, LOC339298, LOC339442, LOC339505, LOC339524, LOC339529, LOC339535, LOC339568, LOC339593, LOC339622, LOC339666, LOC339685, LOC339788, LOC339803, LOC339807, LOC339822, LOC339862, LOC339874, LOC339894, LOC339926, LOC339975, LOC340017, LOC340037, LOC340073, LOC340074, LOC340094, LOC340107, LOC340113, LOC340357, LOC340508, LOC340515, LOC340544, LOC341056, LOC344595, LOC344887, LOC344967, LOC347411, LOC348120, LOC348761, LOC349160, LOC349196, LOC374443, LOC375010, LOC375190, LOC375196, LOC375295, LOC386597, LOC386758, LOC387646, LOC387647, LOC387723, LOC387895, LOC388152, LOC388242, LOC388276, LOC388387, LOC388499, LOC388553, LOC388588, LOC388630, LOC388692, LOC388796, LOC388813, LOC388849, LOC388906, LOC388942, LOC388946, LOC388948, LOC389023, LOC389033, LOC389043, LOC389247, LOC389332, LOC389458, LOC389493, LOC389634, LOC389641, LOC389705, LOC389765, LOC389791, LOC389831, LOC389834, LOC389906, LOC390660, LOC390705, LOC390858, LOC390940, LOC391322, LOC392196, LOC392232, LOC392364, LOC399708, LOC399715, LOC399744, LOC399753, LOC399815, LOC399829, LOC399939, LOC399940, LOC400027, LOC400043, LOC400084, LOC400236, LOC400238, LOC400456, LOC400548, LOC400550, LOC400558, LOC400604, LOC400620, LOC400643, LOC400654, LOC400655, LOC400657, LOC400680, LOC400684, LOC400685, LOC400752, LOC400794, LOC400891, LOC400927, LOC400940, LOC400958, LOC401010, LOC401052, LOC401074, LOC401093, LOC401109, LOC401127, LOC401134, LOC401164, LOC401177, LOC401242, LOC401320, LOC401321, LOC401324, LOC401397, LOC401431, LOC401463, LOC401497, LOC401557, LOC401588, LOC401980, LOC402160, LOC402779, LOC407835, LOC415056, LOC439949, LOC439950, LOC439990, LOC439994, LOC440028, LOC440040, LOC440041, LOC440117, LOC440131, LOC440173, LOC440288, LOC440297, LOC440300, LOC440335, LOC440354, LOC440356, LOC440434, LOC440461, LOC440518, LOC440563, LOC440600, LOC440700, LOC440704, LOC440894, LOC440895, LOC440896, LOC440900, LOC440905, LOC440910, LOC440925, LOC440944, LOC440970, LOC441009, LOC441025, LOC441177, LOC441204, LOC441242, LOC441454, LOC441455, LOC441461, LOC441495, LOC441601, LOC441666, LOC442028, LOC442132, LOC442421, LOC442459, LOC442497, LOC493754, LOC494127, LOC494141, LOC494558, LOC503519, LOC541471, LOC541473, LOC550112, LOC550113, LOC550643, LOC553103, LOC554201, LOC554206, LOC554223, LOC572558, LOC574538, LOC595101, LOC606724, LOC613037, LOC613038, LOC619207, LOC63930, LOC641298, LOC641364, LOC641365, LOC641367, LOC641515, LOC641518, LOC641746, LOC642236, LOC642361, LOC642366, LOC642426, LOC642826, LOC642846, LOC642852, LOC642929, LOC643037, LOC643201, LOC643339, LOC643387, LOC643401, LOC643406, LOC643441, LOC643486, LOC643529, LOC643542, LOC643623, LOC643648, LOC643650, LOC643669, LOC643714, LOC643723, LOC643733, LOC643770, LOC643802, LOC643837, LOC643923, LOC643955, LOC644100, LOC644145, LOC644172, LOC644189, LOC644242, LOC644248, LOC644554, LOC644649, LOC644656, LOC644669, LOC644714, LOC644838, LOC644936, LOC644961, LOC644990, LOC645166, LOC645206, LOC645212, LOC645249, LOC645355, LOC645431, LOC645434, LOC645513, LOC645591, LOC645638, LOC645676, LOC645752, LOC645949, LOC646168, LOC646214, LOC646268, LOC646278, LOC646324, LOC646329, LOC646471, LOC646498, LOC646508, LOC646576, LOC646626, LOC646627, LOC646719, LOC646736, LOC646743, LOC646762, LOC646813, LOC646851, LOC646862, LOC646903, LOC646938, LOC646999, LOC647012, LOC647107, LOC647323, LOC647589, LOC647859, LOC647946, LOC647979, LOC648691, LOC648740, LOC648809, LOC648987, LOC649133, LOC649330, LOC649395, LOC650226, LOC650293, LOC650368, LOC650623, LOC652276, LOC653061, LOC653075, LOC653160, LOC653486, LOC653501, LOC653513, LOC653566, LOC653653, LOC653712, LOC653786, LOC654342, LOC654433, LOC678655, LOC723809, LOC727677, LOC727710, LOC727849, LOC727896, LOC727915, LOC727924, LOC727982, LOC728012, LOC728024, LOC728040, LOC728066, LOC728084, LOC728175, LOC728190, LOC728218, LOC728228, LOC728323, LOC728342, LOC728369, LOC728373, LOC728377, LOC728379, LOC728392, LOC728393, LOC728400, LOC728405, LOC728407, LOC728431, LOC728437, LOC728463, LOC728537, LOC728554, LOC728558, LOC728606, LOC728613, LOC728640, LOC728643, LOC728716, LOC728723, LOC728724, LOC728730, LOC728739, LOC728743, LOC728752, LOC728758, LOC728819, LOC728855, LOC728875, LOC728978, LOC728989, LOC729013, LOC729020, LOC729041, LOC729059, LOC729080, LOC729121, LOC729156, LOC729176, LOC729177, LOC729178, LOC729234, LOC729264, LOC729444, LOC729506, LOC729513, LOC729603, LOC729609, LOC729668, LOC729678, LOC729683, LOC729737, LOC729739, LOC729799, LOC729852, LOC729862, LOC729911, LOC729950, LOC729966, LOC729970, LOC729987, LOC730091, LOC730101, LOC730102, LOC730159, LOC730227, LOC730441, LOC730668, LOC730755, LOC730811, LOC731223, LOC731275, LOC731424, LOC731779, LOC731789, LOC732275, LOC79015, LOC80054, LOC81691, LOC84856, LOC84931, LOC84989, LOC90246, LOC90499, LOC90784, LOC90834, LOC91149, LOC91450, LOC91948, LOC92249, LOC93432, LOC93622, LOC96610, LOH12CR1, LOH12CR2, LONP1, LONP2, LONRF1, LONRF2, LONRF3, LOR, LOX, LOXHD1, LOXL1, LOXL2, LOXL3, LOXL4, LPA, LPAL2, LPAR1, LPAR2, LPAR3, LPAR4, LPAR5, LPAR6, LPCAT1, LPCAT2, LPCAT3, LPCAT4, LPGAT1, LPHN1, LPHN2, LPHN3, LPIN1, LPIN2, LPIN3, LPL, LPO, LPP, LPP-AS2, LPPR1, LPPR2, LPPR3, LPPR4, LPPR5, LPXN, LRAT, LRBA, LRCH1, LRCH2, LRCH3, LRCH4, LRFN1, LRFN2, LRFN3, LRFN4, LRFN5, LRG1, LRGUK, LRIF1, LRIG1, LRIG2, LRIG3, LRIT1, LRIT2, LRIT3, LRMP, LRP1, LRP10, LRP11, LRP12, LRP1B, LRP2, LRP2BP, LRP3, LRP4, LRP5, LRP5L, LRP6, LRP8, LRPAP1, LRPPRC, LRR1, LRRC1, LRRC10, LRRC10B, LRRC14, LRRC14B, LRRC15, LRRC16A, LRRC16B, LRRC17, LRRC18, LRRC19, LRRC2, LRRC20, LRRC23, LRRC24, LRRC25, LRRC26, LRRC27, LRRC28, LRRC29, LRRC3, LRRC30, LRRC31, LRRC32, LRRC33, LRRC34, LRRC36, LRRC37A, LRRC37A2, LRRC37A3, LRRC37A4, LRRC37B, LRRC37BP1, LRRC38, LRRC39, LRRC3B, LRRC3C, LRRC4, LRRC40, LRRC41, LRRC42, LRRC43, LRRC45, LRRC46, LRRC47, LRRC48, LRRC49, LRRC4B, LRRC4C, LRRC52, LRRC55, LRRC56, LRRC57, LRRC58, LRRC59, LRRC6, LRRC61, LRRC66, LRRC69, LRRC7, LRRC70, LRRC71, LRRC72, LRRC73, LRRC8A, LRRC8B, LRRC8C, LRRC8D, LRRC8E, LRRCC1, LRRD1, LRRFIP1, LRRFIP2, LRRIQ1, LRRIQ3, LRRIQ4, LRRK1, LRRK2, LRRN1, LRRN2, LRRN3, LRRN4, LRRN4CL, LRRTM1, LRRTM2, LRRTM3, LRRTM4, LRSAM1, LRTM1, LRTM2, LRTOMT, LRWD1, LSAMP, LSAMP-AS3, LSG1, LSM1, LSM10, LSM11, LSM12, LSM14A, LSM14B, LSM2, LSM3, LSM4, LSM5, LSM6, LSM7, LSMD1, LSP1, LSR, LSS, LST1, LTA, LTA4H, LTB, LTB4R, LTB4R2, LTBP1, LTBP2, LTBP3, LTBP4, LTBR, LTC4S, LTF, LTK, LTN1, LTV1, LUC7L, LUC7L2, LUC7L3, LUM, LURAP1, LURAP1L, LUST, LUZP1, LUZP2, LUZP4, LUZP6, LXN, LY6D, LY6E, LY6G5B, LY6G5C, LY6G6C, LY6G6D, LY6G6E, LY6G6F, LY6H, LY6K, LY75, LY75-CD302, LY86, LY86-AS1, LY9, LY96, LYAR, LYG1, LYG2, LYL1, LYN, LYNX1, LYPD1, LYPD2, LYPD3, LYPD4, LYPD5, LYPD6, LYPD6B, LYPLA1, LYPLA2, LYPLAL1, LYRM1, LYRM2, LYRM4, LYRM5, LYRM7, LYSMD1, LYSMD2, LYSMD3, LYSMD4, LYST, LYVE1, LYZ, LYZL1, LYZL2, LYZL4, LYZL6, LZIC, LZTFL1, LZTR1, LZTS1, LZTS2, M1, M6PR, MAB21L1, MAB21L2, MAB21L3, MACC1, MACF1, MACROD1, MACROD2, MACROD2-AS1, MAD1L1, MAD2L1, MAD2L1BP, MAD2L2, MADCAM1, MADD, MAEA, MAEL, MAF, MAF1, MAFA, MAFB, MAFF, MAFG, MAFG-AS1, MAFIP, MAFK, MAG, MAGEA1, MAGEA10, MAGEA10-MAGEA5, MAGEA11, MAGEA12, MAGEA2, MAGEA2B, MAGEA3, MAGEA4, MAGEA5, MAGEA6, MAGEA8, MAGEA9, MAGEA9B, MAGEB1, MAGEB10, MAGEB16, MAGEB18, MAGEB2, MAGEB3, MAGEB4, MAGEB6, MAGEC1, MAGEC2, MAGEC3, MAGED1, MAGED2, MAGED4, MAGED4B, MAGEE1, MAGEE2, MAGEF1, MAGEH1, MAGEL2, MAGI1, MAGI2, MAGI2-AS3, MAGI3, MAGIX, MAGOH, MAGOHB, MAGT1, MAK, MAK16, MAL, MAL2, MALAT1, MALL, MALSU1, MALT1, MAMDC2, MAMDC4, MAML1, MAML2, MAML3, MAMLD1, MAMSTR, MAN1A1, MAN1A2, MAN1B1, MAN1C1, MAN2A1, MAN2A2, MAN2B1, MAN2B2, MAN2C1, MANBA, MANBAL, MANEA, MANEAL, MANF, MANSC1, MANSC4, MAOA, MAOB, MAP1A, MAP1B, MAP1LC3A, MAP1LC3B, MAP1LC3B2, MAP1LC3C, MAP1S, MAP2, MAP2K1, MAP2K2, MAP2K3, MAP2K4, MAP2K5, MAP2K6, MAP2K7, MAP3K1, MAP3K10, MAP3K11, MAP3K12, MAP3K13, MAP3K14, MAP3K15, MAP3K2, MAP3K3, MAP3K4, MAP3K5, MAP3K6, MAP3K7, MAP3K8, MAP3K9, MAP4, MAP4K1, MAP4K2, MAP4K3, MAP4K4, MAP4K5, MAP6, MAP6D1, MAP7, MAP7D1, MAP7D2, MAP7D3, MAP9, MAPK1, MAPK10, MAPK11, MAPK12, MAPK13, MAPK14, MAPK15, MAPK1IP1L, MAPK3, MAPK4, MAPK6, MAPK7, MAPK8, MAPK8IP1, MAPK8IP2, MAPK8IP3, MAPK9, MAPKAP1, MAPKAPK2, MAPKAPK3, MAPKAPK5, MAPKBP1, MAPRE1, MAPRE2, MAPRE3, MAPT, MAPT-AS1, MAPT-IT1, 1-Mar, 2-Mar, 1-Mar.1, 10-Mar, 11-Mar, 2-Mar.1, 3-Mar, 4-Mar, 5-Mar, 6-Mar, 7-Mar, 8-Mar, 9-Mar, MARCKS, MARCKSL1, MARCO, MARK1, MARK2, MARK2P9, MARK3, MARK4, MARS, MARS2, MARVELD1, MARVELD2, MARVELD3, MAS1, MAS1L, MASP1, MASP2, MAST1, MAST2, MAST3, MAST4, MASTL, MAT1A, MAT2A, MAT2B, MATK, MATL2963, MATN1, MATN2, MATN3, MATN4, MATR3, MAU2, MAVS, MAX, MAZ, MB, MB21D1, MB21D2, MBD1, MBD2, MBD3, MBD3L1, MBD3L2, MBD3L3, MBD3L4, MBD3L5, MBD4, MBD5, MBD6, MBIP, MBL1P, MBL2, MBLAC1, MBLAC2, MBNL1, MBNL2, MBNL3, MBOAT1, MBOAT2, MBOAT4, MBOAT7, MBP, MBTD1, MBTPS1, MBTPS2, MC1R, MC2R, MC3R, MC4R, MC5R, MCAM, MCART1, MCART2, MCART3P, MCART6, MCAT, MCC, MCCC1, MCCC2, MCCD1, MCEE, MCF2, MCF2L, MCF2L-AS1, MCF2L2, MCFD2, MCHR1, MCHR2, MCL1, MCM10, MCM2, MCM3, MCM3AP, MCM3AP-AS1, MCM4, MCM5, MCM6, MCM7, MCM8, MCM9, MCMBP, MCOLN1, MCOLN2, MCOLN3, MCPH1, MCRS1, MCTP1, MCTP2, MCTS1, MCU, MDC1, MDFI, MDFIC, MDGA1, MDGA2, MDH1, MDH1B, MDH2, MDK, MDM1, MDM2, MDM4, MDN1, MDP1, MDS2, ME1, ME2, ME3, MEA1, MEAF6, MECOM, MECP2, MECR, MED1, MED10, MED11, MED12, MED12L, MED13, MED13L, MED14, MED15, MED16, MED17, MED18, MED19, MED20, MED21, MED22, MED23, MED24, MED25, MED26, MED27, MED28, MED29, MED30, MED31, MED4, MED6, MED7, MED8, MED9, MEF2A, MEF2B, MEF2BNB, MEF2BNB-MEF2B, MEF2C, MEF2D, MEFV, MEG3, MEG8, MEGF10, MEGF11, MEGF6, MEGF8, MEGF9, MEI1, MEIG1, MEIS1, MEIS2, MEIS3, MEIS3P1, MELK, MEMO1, MEN1, MEOX1, MEOX2, MEP1A, MEP1B, MEPCE, MEPE, MERTK, MESDC1, MESDC2, MESP1, MESP2, MEST, MESTIT1, MET, METAP1, METAP1D, METAP2, METRN, METRNL, METTL1, METTL10, METTL11A, METTL11B, METTL12, METTL13, METTL14, METTL15, METTL16, METTL17, METTL18, METTL19, METTL20, METTL21A, METTL21B, METTL21C, METTL21CP1, METTL21D, METTL22, METTL23, METTL24, METTL2A, METTL2B, METTL3, METTL4, METTL5, METTL6, METTL7A, METTL7B, METTL8, METTL9, MEX3A, MEX3B, MEX3C, MEX3D, MFAP1, MFAP2, MFAP3, MFAP3L, MFAP4, MFAP5, MFF, MFGE8, MFHAS1, MFI2, MFI2-AS1, MFN1, MFN2, MFNG, MFRP, MFSD1, MFSD10, MFSD11, MFSD12, MFSD2A, MFSD2B, MFSD3, MFSD4, MFSD5, MFSD6, MFSD6L, MFSD7, MFSD8, MFSD9, MGA, MGAM, MGAT1, MGAT2, MGAT3, MGAT4A, MGAT4B, MGAT4C, MGAT5, MGAT5B, MGC12916, MGC12982, MGC14436, MGC15885, MGC16025, MGC16121, MGC16142, MGC16275, MGC16703, MGC21881, MGC23270, MGC23284, MGC27345, MGC27382, MGC2752, MGC2889, MGC34034, MGC3771, MGC39372, MGC39584, MGC4473, MGC45800, MGC45922, MGC57346, MGC70870, MGC72080, MGEA5, MGLL, MGMT, MGP, MGRN1, MGST1, MGST2, MGST3, MIA, MIA-RAB4B, MIA2, MIA3, MIAT, MIB1, MIB2, MICA, MICAL1, MICAL2, MICAL3, MICALCL, MICALL1, MICALL2, MICB, MICU1, MID1, MID1IP1, MID2, MIDN, MIEN1, MIER1, MIER2, MIER3, MIF, MIF4GD, MIIP, MILR1, MIMT1, MINA, MINK1, MINOS1, MINPP1, MIOS, MIOX, MIP, MIPEP, MIPOL1, MIR1-1, MIR1-2, MIR100, MIR100HG, MIR101-1, MIR101-2, MIR103A1, MIR103A2, MIR103B1, MIR103B2, MIR105-1, MIR105-2, MIR106A, MIR106B, MIR107, MIR10A, MIR10B, MIR1178, MIR1179, MIR1180, MIR1181, MIR1182, MIR1184-1, MIR1184-2, MIR1184-3, MIR1185-1, MIR1185-2, MIR1193, MIR1197, MIR1200, MIR1203, MIR1204, MIR1205, MIR1206, MIR1207, MIR1208, MIR122, MIR1224, MIR1225, MIR1226, MIR1227, MIR1228, MIR1229, MIR1231, MIR1233-1, MIR1233-2, MIR1234, MIR1236, MIR1237, MIR1238, MIR124-1, MIR124-2, MIR124-3, MIR1243, MIR1244-1, MIR1244-2, MIR1244-3, MIR1245A, MIR1245B, MIR1246, MIR1247, MIR1248, MIR1249, MIR1250, MIR1251, MIR1252, MIR1253, MIR1256, MIR1257, MIR1258, MIR125A, MIR125B1, MIR125B2, MIR126, MIR1260A, MIR1260B, MIR1262, MIR1264, MIR1265, MIR1266, MIR127, MIR1270-1, MIR1270-2, MIR1272, MIR1275, MIR1276, MIR1277, MIR1278, MIR1279, MIR128-1, MIR128-2, MIR1280, MIR1281, MIR1282, MIR1283-1, MIR1283-2, MIR1284, MIR1286, MIR1287, MIR1288, MIR1289-2, MIR129-1, MIR129-2, MIR1291, MIR1292, MIR1293, MIR1295A, MIR1296, MIR1297, MIR1298, MIR1301, MIR1304, MIR1305, MIR1306, MIR1307, MIR130A, MIR130B, MIR132, MIR1322, MIR1323, MIR1324, MIR133A1, MIR133A2, MIR133B, MIR134, MIR1343, MIR135A1, MIR135A2, MIR135B, MIR136, MIR137, MIR137HG, MIR138-1, MIR138-2, MIR139, MIR140, MIR141, MIR142, MIR143, MIR143HG, MIR144, MIR145, MIR1468, MIR1469, MIR146A, MIR146B, MIR1470, MIR1471, MIR147A, MIR147B, MIR148A, MIR148B, MIR149, MIR150, MIR152, MIR153-1, MIR153-2, MIR1537, MIR1538, MIR1539, MIR154, MIR155, MIR155HG, MIR15A, MIR15B, MIR16-1, MIR16-2, MIR17, MIR17HG, MIR181A1, MIR181A2, MIR181A2HG, MIR181B1, MIR181B2, MIR181C, MIR181D, MIR182, MIR1827, MIR183, MIR184, MIR185, MIR186, MIR187, MIR188, MIR18A, MIR18B, MIR1908, MIR1909, MIR190A, MIR190B, MIR191, MIR1910, MIR1911, MIR1912, MIR1913, MIR1914, MIR1915, MIR192, MIR193A, MIR193B, MIR194-1, MIR194-2, MIR195, MIR196A1, MIR196A2, MIR196B, MIR197, MIR1972-1, MIR1972-2, MIR1973, MIR1976, MIR198, MIR199A1, MIR199A2, MIR199B, MIR19A, MIR19B1, MIR19B2, MIR200A, MIR200B, MIR200C, MIR202, MIR203, MIR204, MIR205, MIR2052, MIR2053, MIR2054, MIR205HG, MIR206, MIR208A, MIR208B, MIR20A, MIR20B, MIR21, MIR210, MIR210HG, MIR211, MIR2110, MIR2113, MIR2114, MIR2116, MIR2117, MIR212, MIR214, MIR215, MIR216A, MIR216B, MIR217, MIR218-1, MIR218-2, MIR219-1, MIR219-2, MIR22, MIR221, MIR222, MIR223, MIR2276, MIR2277, MIR2278, MIR22HG, MIR2355, MIR2392, MIR23A, MIR23B, MIR23C, MIR24-1, MIR24-2, MIR2467, MIR25, MIR2681, MIR2682, MIR26A1, MIR26A2, MIR26B, MIR27A, MIR27B, MIR2861, MIR2909, MIR296, MIR2964A, MIR298, MIR299, MIR29A, MIR29B1, MIR29B2, MIR29C, MIR300, MIR301A, MIR301B, MIR302A, MIR302B, MIR302C, MIR302D, MIR302F, MIR3064, MIR3065, MIR3074, MIR30A, MIR30B, MIR30C1, MIR30C2, MIR30D, MIR30E, MIR31, MIR3115, MIR3117, MIR3119-1, MIR3119-2, MIR3120, MIR3121, MIR3122, MIR3123, MIR3124, MIR3125, MIR3126, MIR3127, MIR3128, MIR3129, MIR3130-1, MIR3130-2, MIR3131, MIR3132, MIR3134, MIR3136, MIR3138, MIR3140, MIR3141, MIR3142, MIR3143, MIR3145, MIR3146, MIR3147, MIR3148, MIR3150A, MIR3150B, MIR3151, MIR3152, MIR3153, MIR3154, MIR3155A, MIR3155B, MIR3156-1, MIR3156-2, MIR3156-3, MIR3157, MIR3158-1, MIR3158-2, MIR3160-1, MIR3160-2, MIR3162, MIR3165, MIR3167, MIR3169, MIR3170, MIR3173, MIR3175, MIR3176, MIR3177, MIR3178, MIR3179-1, MIR3179-2, MIR3179-3, MIR3180-1, MIR3180-2, MIR3180-3, MIR3180-4, MIR3180-5, MIR3182, MIR3183, MIR3184, MIR3185, MIR3186, MIR3187, MIR3188, MIR3189, MIR3190, MIR3191, MIR3192, MIR3193, MIR3194, MIR3196, MIR3197, MIR3198-1, MIR3198-2, MIR3199-1, MIR3199-2, MIR31HG, MIR32, MIR3200, MIR3201, MIR3202-1, MIR3202-2, MIR320A, MIR320B1, MIR320B2, MIR320C1, MIR320C2, MIR320D1, MIR320D2, MIR320E, MIR323A, MIR323B, MIR324, MIR326, MIR328, MIR329-1, MIR329-2, MIR330, MIR331, MIR335, MIR337, MIR338, MIR339, MIR33A, MIR33B, MIR340, MIR345, MIR346, MIR34A, MIR34B, MIR34C, MIR3529, MIR3545, MIR3591, MIR3605, MIR3606, MIR3607, MIR3609, MIR3610, MIR3612, MIR3613, MIR3614, MIR3615, MIR3616, MIR3618, MIR3619, MIR362, MIR3620, MIR3621, MIR3622A, MIR3622B, MIR363, MIR3646, MIR3648, MIR3649, MIR3650, MIR3651, MIR3652, MIR3653, MIR3654, MIR3655, MIR3656, MIR3658, MIR3659, MIR365A, MIR365B, MIR3660, MIR3661, MIR3662, MIR3663, MIR3664, MIR3665, MIR3666, MIR3668, MIR367, MIR3671, MIR3675, MIR3676, MIR3677, MIR3678, MIR3679, MIR3680-1, MIR3682, MIR3684, MIR3685, MIR3687, MIR3688-1, MIR3688-2, MIR3689A, MIR3689B, MIR3689C, MIR3689D1, MIR3689D2, MIR3689E, MIR3689F, MIR369, MIR3690, MIR3691, MIR3692, MIR3714, MIR371A, MIR371B, MIR372, MIR373, MIR374A, MIR374B, MIR374C, MIR375, MIR376A1, MIR376A2, MIR376B, MIR376C, MIR377, MIR378C, MIR378D1, MIR378D2, MIR378E, MIR378F, MIR379, MIR380, MIR381, MIR382, MIR383, MIR384, MIR3907, MIR3908, MIR3909, MIR3910-1, MIR3910-2, MIR3911, MIR3912, MIR3913-1, MIR3913-2, MIR3914-1, MIR3914-2, MIR3916, MIR3917, MIR3918, MIR3919, MIR3920, MIR3921, MIR3922, MIR3924, MIR3925, MIR3926-1, MIR3926-2, MIR3928, MIR3935, MIR3936, MIR3938, MIR3939, MIR3940, MIR3941, MIR3942, MIR3943, MIR3944, MIR3945, MIR3960, MIR3973, MIR3974, MIR3975, MIR3976, MIR3977, MIR3978, MIR409, MIR410, MIR411, MIR412, MIR421, MIR423, MIR424, MIR425, MIR4251, MIR4252, MIR4253, MIR4254, MIR4255, MIR4256, MIR4257, MIR4258, MIR4260, MIR4261, MIR4262, MIR4263, MIR4264, MIR4265, MIR4266, MIR4267, MIR4268, MIR4269, MIR4270, MIR4271, MIR4272, MIR4273, MIR4274, MIR4275, MIR4276, MIR4277, MIR4278, MIR4279, MIR4280, MIR4281, MIR4282, MIR4283-1, MIR4283-2, MIR4284, MIR4285, MIR4287, MIR4288, MIR4289, MIR429, MIR4290, MIR4291, MIR4292, MIR4294, MIR4295, MIR4296, MIR4297, MIR4298, MIR4299, MIR4300, MIR4301, MIR4302, MIR4303, MIR4304, MIR4305, MIR4306, MIR4307, MIR4308, MIR4309, MIR431, MIR4310, MIR4311, MIR4312, MIR4313, MIR4314, MIR4315-1, MIR4315-2, MIR4316, MIR4317, MIR4318, MIR4319, MIR432, MIR4320, MIR4321, MIR4322, MIR4323, MIR4324, MIR4325, MIR4326, MIR4327, MIR4328, MIR4329, MIR433, MIR4330, MIR4417, MIR4420, MIR4422, MIR4423, MIR4424, MIR4426, MIR4427, MIR4429, MIR4432, MIR4434, MIR4435-1, MIR4435-2, MIR4436A, MIR4436B1, MIR4437, MIR4439, MIR4440, MIR4441, MIR4442, MIR4443, MIR4444-1, MIR4446, MIR4449, MIR4450, MIR4451, MIR4453, MIR4454, MIR4456, MIR4457, MIR4458, MIR4460, MIR4461, MIR4462, MIR4464, MIR4465, MIR4466, MIR4467, MIR4468, MIR4469, MIR4470, MIR4471, MIR4472-1, MIR4472-2, MIR4473, MIR4474, MIR4475, MIR4476, MIR4478, MIR4479, MIR448, MIR4480, MIR4482-1, MIR4483, MIR4484, MIR4485, MIR4486, MIR4488, MIR4489, MIR4490, MIR4491, MIR4492, MIR4493, MIR4497, MIR4498, MIR4499, MIR449A, MIR449B, MIR449C, MIR4500, MIR4500HG, MIR4503, MIR4505, MIR4508, MIR4509-1, MIR4509-2, MIR4509-3, MIR450A1, MIR450A2, MIR450B, MIR4510, MIR4511, MIR4513, MIR4514, MIR4515, MIR4516, MIR4517, MIR4518, MIR4519, MIR451A, MIR451B, MIR452, MIR4520A, MIR4520B, MIR4521, MIR4522, MIR4523, MIR4524A, MIR4526, MIR4529, MIR4530, MIR4531, MIR4532, MIR4533, MIR4534, MIR4535, MIR4536-1, MIR454, MIR4540, MIR455, MIR4632, MIR4633, MIR4634, MIR4635, MIR4636, MIR4637, MIR4638, MIR4639, MIR4640, MIR4641, MIR4642, MIR4643, MIR4644, MIR4645, MIR4646, MIR4647, MIR4648, MIR4649, MIR4650-1, MIR4650-2, MIR4651, MIR4652, MIR4653, MIR4654, MIR4655, MIR4656, MIR4657, MIR4658, MIR4659A, MIR4659B, MIR4660, MIR4661, MIR4663, MIR4664, MIR4665, MIR4666A, MIR4667, MIR4668, MIR4669, MIR4670, MIR4671, MIR4672, MIR4673, MIR4674, MIR4675, MIR4676, MIR4677, MIR4678, MIR4679-1, MIR4679-2, MIR4680, MIR4681, MIR4682, MIR4683, MIR4684, MIR4685, MIR4686, MIR4687, MIR4688, MIR4689, MIR4690, MIR4691, MIR4692, MIR4693, MIR4694, MIR4695, MIR4696, MIR4697, MIR4698, MIR4699, MIR4700, MIR4701, MIR4703, MIR4705, MIR4706, MIR4707, MIR4708, MIR4709, MIR4710, MIR4711, MIR4712, MIR4713, MIR4714, MIR4715, MIR4716, MIR4717, MIR4718, MIR4719, MIR4720, MIR4721, MIR4722, MIR4723, MIR4724, MIR4725, MIR4726, MIR4727, MIR4728, MIR4729, MIR4730, MIR4731, MIR4732, MIR4733, MIR4734, MIR4735, MIR4736, MIR4737, MIR4738, MIR4739, MIR4740, MIR4741, MIR4742, MIR4743, MIR4744, MIR4745, MIR4746, MIR4747, MIR4748, MIR4749, MIR4750, MIR4751, MIR4752, MIR4753, MIR4754, MIR4755, MIR4756, MIR4757, MIR4758, MIR4759, MIR4760, MIR4761, MIR4762, MIR4763, MIR4764, MIR4765, MIR4766, MIR4767, MIR4768, MIR4769, MIR4770, MIR4772, MIR4773-1, MIR4773-2, MIR4774, MIR4775, MIR4776-1, MIR4776-2, MIR4777, MIR4778, MIR4779, MIR4780, MIR4781, MIR4782, MIR4783, MIR4784, MIR4785, MIR4786, MIR4787, MIR4788, MIR4789, MIR4790, MIR4791, MIR4792, MIR4793, MIR4794, MIR4795, MIR4796, MIR4797, MIR4798, MIR4799, MIR4800, MIR4801, MIR4802, MIR4803, MIR4804, MIR483, MIR484, MIR485, MIR486, MIR487A, MIR487B, MIR488, MIR489, MIR490, MIR491, MIR492, MIR493, MIR494, MIR495, MIR496, MIR497, MIR497HG, MIR498, MIR499A, MIR499B, MIR500A, MIR500B, MIR501, MIR502, MIR503, MIR504, MIR5047, MIR505, MIR506, MIR507, MIR508, MIR509-1, MIR509-2, MIR509-3, MIR5095, MIR510, MIR511-1, MIR511-2, MIR512-1, MIR512-2, MIR514A1, MIR514A2, MIR514A3, MIR514B, MIR515-1, MIR515-2, MIR516A1, MIR516A2, MIR516B1, MIR516B2, MIR517A, MIR517B, MIR517C, MIR518A1, MIR518A2, MIR518B, MIR518C, MIR518D, MIR518E, MIR518F, MIR519A1, MIR519A2, MIR519B, MIR519C, MIR519D, MIR519E, MIR520A, MIR520B, MIR520C, MIR520D, MIR520E, MIR520F, MIR520G, MIR520H, MIR521-1, MIR521-2, MIR522, MIR523, MIR524, MIR525, MIR526A1, MIR526A2, MIR526B, MIR527, MIR532, MIR539, MIR541, MIR542, MIR543, MIR545, MIR548A1, MIR548A2, MIR548A3, MIR548AA1, MIR548AA2, MIR548AC, MIR548AD, MIR548AE2, MIR548AI, MIR548AJ2, MIR548AL, MIR548AN, MIR548B, MIR548C, MIR548D1, MIR548D2, MIR548F1, MIR548F2, MIR548F3, MIR548F4, MIR548F5, MIR548G, MIR548H2, MIR548H3, MIR548H4, MIR548I1, MIR548I2, MIR548I3, MIR548I4, MIR548J, MIR548K, MIR548M, MIR548N, MIR548O2, MIR548Q, MIR548T, MIR548W, MIR548X, MIR548Y, MIR548Z, MIR549, MIR550A1, MIR550A2, MIR550A3, MIR550B1, MIR550B2, MIR551A, MIR551B, MIR553, MIR554, MIR555, MIR556, MIR557, MIR558, MIR559, MIR561, MIR563, MIR564, MIR567, MIR568, MIR569, MIR570, MIR572, MIR573, MIR574, MIR575, MIR577, MIR578, MIR580, MIR581, MIR583, MIR585, MIR586, MIR589, MIR590, MIR591, MIR592, MIR593, MIR595, MIR596, MIR597, MIR598, MIR599, MIR600, MIR600HG, MIR601, MIR602, MIR603, MIR604, MIR605, MIR608, MIR609, MIR610, MIR611, MIR612, MIR613, MIR614, MIR615, MIR617, MIR618, MIR620, MIR621, MIR622, MIR623, MIR624, MIR626, MIR627, MIR628, MIR629, MIR630, MIR631, MIR632, MIR634, MIR635, MIR636, MIR637, MIR638, MIR639, MIR641, MIR642A, MIR642B, MIR643, MIR644A, MIR645, MIR647, MIR648, MIR650, MIR651, MIR653, MIR654, MIR655, MIR656, MIR657, MIR658, MIR659, MIR660, MIR661, MIR662, MIR663A, MIR663B, MIR664, MIR665, MIR668, MIR670, MIR671, MIR675, MIR676, MIR7-1, MIR7-2, MIR7-3, MIR7-3HG, MIR708, MIR711, MIR718, MIR744, MIR758, MIR759, MIR760, MIR761, MIR762, MIR764, MIR765, MIR766, MIR767, MIR769, MIR770, MIR802, MIR873, MIR874, MIR875, MIR876, MIR877, MIR885, MIR888, MIR889, MIR890, MIR891A, MIR891B, MIR892A, MIR892B, MIR9-1, MIR9-2, MIR9-3, MIR920, MIR921, MIR922, MIR92A1, MIR92A2, MIR92B, MIR93, MIR933, MIR934, MIR935, MIR936, MIR937, MIR938, MIR939, MIR940, MIR941-1, MIR941-2, MIR941-3, MIR941-4, MIR942, MIR943, MIR944, MIR96, MIR98, MIR99A, MIR99B, MIRLET7A1, MIRLET7A2, MIRLET7A3, MIRLET7B, MIRLET7BHG, MIRLET7C, MIRLET7D, MIRLET7E, MIRLET7F1, MIRLET7F2, MIRLET7G, MIRLET7I, MIS12, MIS18A, MIS18BP1, MITD1, MITF, MIXL1, MKI67, MKI67IP, MKKS, MKL1, MKL2, MKLN1, MKNK1, MKNK2, MKRN1, MKRN2, MKRN3, MKRN7P, MKRN9P, MKS1, MKX, MLANA, MLC1, MLEC, MLF1, MLF1IP, MLF2, MLH1, MLH3, MLIP, MLK7-AS1, MLKL, MLL, MLL2, MLL3, MLL4, MLL5, MLLT1, MLLT10, MLLT10P1, MLLT11, MLLT3, MLLT4, MLLT4-AS1, MLLT6, MLN, MLNR, MLPH, MLST8, MLX, MLXIP, MLXIPL, MLYCD, MMAA, MMAB, MMACHC, MMADHC, MMD, MMD2, MME, MMEL1, MMGT1, MMP1, MMP10, MMP11, MMP12, MMP13, MMP14, MMP15, MMP16, MMP17, MMP19, MMP2, MMP20, MMP21, MMP23A, MMP23B, MMP24, MMP25, MMP26, MMP27, MMP28, MMP3, MMP7, MMP8, MMP9, MMRN1, MMRN2, MMS19, MMS22L, MN1, MNAT1, MND1, MNDA, MNF1, MNS1, MNT, MNX1, MOAP1, MOB1A, MOB1B, MOB2, MOB3A, MOB3B, MOB3C, MOB4, MOBP, MOCOS, MOCS1, MOCS2, MOCS3, MOG, MOGAT1, MOGAT2, MOGAT3, MOGS, MOK, MON1A, MON1B, MON2, MORC1, MORC2, MORC2-AS1, MORC3, MORC4, MORF4L1, MORF4L2, MORN1, MORN2, MORN3, MORN4, MORN5, MOS, MOSPD1, MOSPD2, MOSPD3, MOV10, MOV10L1, MOXD1, MOXD2P, MPDU1, MPDZ, MPEG1, MPG, MPHOSPH10, MPHOSPH6, MPHOSPH8, MPHOSPH9, MPI, MPL, MPND, MPO, MPP1, MPP2, MPP3, MPP4, MPP5, MPP6, MPP7, MPPE1, MPPED1, MPPED2, MPRIP, MPST, MPV17, MPV17L, MPV17L2, MPZ, MPZL1, MPZL2, MPZL3, MR1, MRAP, MRAP2, MRAS, MRC1, MRC2, MRE11A, MREG, MRFAP1, MRFAP1L1, MRGPRD, MRGPRE, MRGPRF, MRGPRG, MRGPRX1, MRGPRX2, MRGPRX3, MRGPRX4, MRI1, MRM1, MRO, MRP63, MRPL1, MRPL10, MRPL11, MRPL12, MRPL13, MRPL14, MRPL15, MRPL16, MRPL17, MRPL18, MRPL19, MRPL2, MRPL20, MRPL21, MRPL22, MRPL23, MRPL23-AS1, MRPL24, MRPL27, MRPL28, MRPL3, MRPL30, MRPL32, MRPL33, MRPL34, MRPL35, MRPL36, MRPL37, MRPL38, MRPL39, MRPL4, MRPL40, MRPL41, MRPL42, MRPL42P5, MRPL43, MRPL44, MRPL45, MRPL45P2, MRPL46, MRPL47, MRPL48, MRPL49, MRPL50, MRPL51, MRPL52, MRPL53, MRPL54, MRPL55, MRPL9, MRPS10, MRPS11, MRPS12, MRPS14, MRPS15, MRPS16, MRPS17, MRPS18A, MRPS18B, MRPS18C, MRPS2, MRPS21, MRPS22, MRPS23, MRPS24, MRPS25, MRPS26, MRPS27, MRPS28, MRPS30, MRPS31, MRPS33, MRPS34, MRPS35, MRPS36, MRPS5, MRPS6, MRPS7, MRPS9, MRRF, MRS2, MRS2P2, MRTO4, MRVI1, MRVI1-AS1, MS4A1, MS4A10, MS4A12, MS4A13, MS4A14, MS4A15, MS4A2, MS4A3, MS4A4A, MS4A5, MS4A6A, MS4A6E, MS4A7, MS4A8B, MSC, MSGN1, MSH2, MSH3, MSH4, MSH5, MSH5-SAPCD1, MSH6, MSI1, MSI2, MSL1, MSL2, MSL3, MSL3P1, MSLN, MSLNL, MSMB, MSMO1, MSMP, MSN, MSR1, MSRA, MSRB2, MSRB3, MSS51, MST1, MST1P2, MST1P9, MST1R, MST4, MSTN, MSTO1, MSTO2P, MSX1, MSX2, MSX2P1, MT1A, MT1B, MT1DP, MT1E, MT1F, MT1G, MT1H, MT1IP, MT1JP, MT1L, MT1M, MT1X, MT2A, MT3, MT4, MTA1, MTA2, MTA3, MTAP, MTBP, MTCH1, MTCH2, MTCP1, MTCP1NB, MTDH, MTERF, MTERFD1, MTERFD2, MTERFD3, MTF1, MTF2, MTFMT, MTFP1, MTFR1, MTG1, MTHFD1, MTHFD1L, MTHFD2, MTHFD2L, MTHFR, MTHFS, MTHFSD, MTIF2, MTIF3, MTL5, MTM1, MTMR1, MTMR10, MTMR11, MTMR12, MTMR14, MTMR2, MTMR3, MTMR4, MTMR6, MTMR7, MTMR8, MTMR9, MTMR9LP, MTNR1A, MTNR1B, MTO1, MTOR, MTPAP, MTPN, MTR, MTRF1, MTRF1L, MTRNR2L1, MTRNR2L10, MTRNR2L2, MTRNR2L3, MTRNR2L4, MTRNR2L5, MTRNR2L6, MTRNR2L7, MTRNR2L8, MTRR, MTSS1, MTSS1L, MTTP, MTUS1, MTUS2, MTVR2, MTX1, MTX2, MTX3, MUC1, MUC12, MUC13, MUC15, MUC16, MUC17, MUC2, MUC20, MUC21, MUC22, MUC4, MUC5B, MUC6, MUC7, MUCL1, MUDENG, MUL1, MUM1, MUM1L1, MURC, MUS81, MUSK, MUSTN1, MUT, MUTED, MUTED-TXNDC5, MUTYH, MVD, MVK, MVP, MX1, MX2, MXD1, MXD3, MXD4, MXI1, MXRA5, MXRA7, MXRA8, MYADM, MYADML, MYADML2, MYB, MYBBP1A, MYBL1, MYBL2, MYBPC1, MYBPC2, MYBPC3, MYBPH, MYBPHL, MYC, MYCBP, MYCBP2, MYCBPAP, MYCL1, MYCN, MYCNOS, MYCT1, MYD88, MYEF2, MYEOV, MYEOV2, MYF5, MYF6, MYH1, MYH10, MYH11, MYH13, MYH14, MYH15, MYH16, MYH2, MYH3, MYH4, MYH6, MYH7, MYH7B, MYH8, MYH9, MYL1, MYL10, MYL12A, MYL12B, MYL2, MYL3, MYL4, MYL5, MYL6, MYL6B, MYL7, MYL9, MYLIP, MYLK, MYLK-AS1, MYLK2, MYLK3, MYLK4, MYLPF, MYNN, MYO10, MYO15A, MYO15B, MYO16, MYO18A, MYO18B, MYO19, MYO1A, MYO1B, MYO1C, MYO1D, MYO1E, MYO1F, MYO1G, MYO1H, MYO3A, MYO3B, MYO5A, MYO5B, MYO5C, MYO6, MYO7A, MYO7B, MYO9A, MYO9B, MYOC, MYOCD, MYOD1, MYOF, MYOG, MYOM1, MYOM2, MYOM3, MYOT, MYOZ1, MYOZ2, MYOZ3, MYPN, MYPOP, MYRIP, MYSM1, MYT1, MYT1L, MYZAP, MZB1, MZF1, MZT1, MZT2A, MZT2B, N4BP1, N4BP2, N4BP2L1, N4BP2L2, N4BP3, N6AMT1, N6AMT2, NAA10, NAA11, NAA15, NAA16, NAA20, NAA25, NAA30, NAA35, NAA38, NAA40, NAA50, NAA60, NAAA, NAALAD2, NAALADL1, NAALADL2, NAB1, NAB2, NACA, NACA2, NACAD, NACAP1, NACC1, NACC2, NADK, NADKD1, NADSYN1, NAE1, NAF1, NAGA, NAGK, NAGLU, NAGPA, NAGS, NAIF1, NAIP, NALCN, NAMPT, NANOG, NANOGNB, NANOS1, NANOS2, NANOS3, NANP, NANS, NAP1L1, NAP1L2, NAP1L3, NAP1L4, NAP1L5, NAP1L6, NAPA, NAPB, NAPEPLD, NAPG, NAPRT1, NAPSA, NAPSB, NARF, NARFL, NARG2, NARS, NARS2, NASP, NAT1, NAT10, NAT14, NAT16, NAT2, NAT6, NAT8, NAT8B, NAT8L, NAT9, NAV1, NAV2, NAV2-AS4, NAV3, NBAS, NBEA, NBEAL1, NBEAL2, NBEAP1, NBL1, NBLA00301, NBN, NBPF1, NBPF10, NBPF11, NBPF14, NBPF15, NBPF16, NBPF22P, NBPF24, NBPF3, NBPF4, NBPF6, NBPF7, NBPF9, NBR1, NBR2, NCALD, NCAM1, NCAM2, NCAN, NCAPD2, NCAPD3, NCAPG, NCAPG2, NCAPH, NCAPH2, NCBP1, NCBP2, NCCRP1, NCDN, NCEH1, NCF1, NCF1B, NCF1C, NCF2, NCF4, NCK1, NCK2, NCKAP1, NCKAP1L, NCKAP5, NCKAP5L, NCKIPSD, NCL, NCLN, NCOA1, NCOA2, NCOA3, NCOA4, NCOA5, NCOA6, NCOA7, NCOR1, NCOR1P1, NCOR2, NCR1, NCR2, NCR3, NCRNA00185, NCRUPAR, NCS1, NCSTN, NDC80, NDE1, NDEL1, NDFIP1, NDFIP2, NDN, NDNF, NDNL2, NDOR1, NDP, NDRG1, NDRG2, NDRG3, NDRG4, NDST1, NDST2, NDST3, NDST4, NDUFA1, NDUFA10, NDUFA11, NDUFA12, NDUFA13, NDUFA2, NDUFA3, NDUFA4, NDUFA4L2, NDUFA5, NDUFA6, NDUFA7, NDUFA8, NDUFA9, NDUFAB1, NDUFAF1, NDUFAF2, NDUFAF3, NDUFAF4, NDUFB1, NDUFB10, NDUFB11, NDUFB2, NDUFB3, NDUFB4, NDUFB5, NDUFB6, NDUFB7, NDUFB8, NDUFB9, NDUFC1, NDUFC2, NDUFC2-KCTD14, NDUFS1, NDUFS2, NDUFS3, NDUFS4, NDUFS5, NDUFS6, NDUFS7, NDUFS8, NDUFV1, NDUFV2, NDUFV3, NEAT1, NEB, NEBL, NECAB1, NECAB2, NECAB3, NECAP1, NECAP2, NEDD1, NEDD4, NEDD4L, NEDD8, NEDD8-MDP1, NEDD9, NEFH, NEFL, NEFM, NEGR1, NEGR1-IT1, NEIL1, NEIL2, NEIL3, NEK1, NEK10, NEK11, NEK2, NEK3, NEK4, NEK5, NEK6, NEK7, NEK8, NEK9, NELF, NELL1, NELL2, NEMF, NENF, NEO1, NES, NET1, NETO1, NETO2, NEU1, NEU2, NEU3, NEU4, NEURL, NEURL1B, NEURL2, NEURL3, NEURL4, NEUROD1, NEUROD2, NEUROD4, NEUROD6, NEUROG1, NEUROG2, NEUROG3, NEXN, NF1, NF1P2, NF2, NFAM1, NFASC, NFAT5, NFATC1, NFATC2, NFATC2IP, NFATC3, NFATC4, NFE2, NFE2L1, NFE2L2, NFE2L3, NFIA, NFIB, NFIC, NFIL3, NFIX, NFKB1, NFKB2, NFKBIA, NFKBIB, NFKBID, NFKBIE, NFKBIL1, NFKBIZ, NFRKB, NFS1, NFU1, NFX1, NFXL1, NFYA, NFYB, NFYC, NGB, NGDN, NGEF, NGF, NGFR, NGFRAP1, NGLY1, NGRN, NHEG1, NHEJ1, NHLH1, NHLH2, NHLRC1, NHLRC2, NHLRC3, NHLRC4, NHP2, NHP2L1, NHS, NHSL1, NHSL2, NICN1, NID1, NID2, NIF3L1, NIM1, NIN, NINJ1, NINJ2, NINL, NIP7, NIPA1, NIPA2, NIPAL1, NIPAL2, NIPAL3, NIPAL4, NIPBL, NIPSNAP1, NIPSNAP3A, NIPSNAP3B, NISCH, NIT1, NIT2, NKAIN1, NKAIN2, NKAIN3, NKAIN4, NKAP, NKAPL, NKAPP1, NKD1, NKD2, NKG7, NKIRAS1, NKIRAS2, NKPD1, NKRF, NKTR, NKX1-2, NKX2-1, NKX2-2, NKX2-3, NKX2-4, NKX2-5, NKX2-6, NKX2-8, NKX3-1, NKX3-2, NKX6-1, NKX6-2, NKX6-3, NLE1, NLGN1, NLGN2, NLGN3, NLGN4X, NLGN4Y, NLK, NLN, NLRC3, NLRC4, NLRC5, NLRP1, NLRP10, NLRP11, NLRP12, NLRP13, NLRP14, NLRP2, NLRP3, NLRP4, NLRP5, NLRP6, NLRP7, NLRP8, NLRP9, NLRX1, NMB, NMBR, NMD3, NME1, NME1-NME2, NME2, NME3, NME4, NME5, NME6, NME7, NME9, NMI, NMNAT1, NMNAT2, NMNAT3, NMRAL1, NMS, NMT1, NMT2, NMU, NMUR1, NMUR2, NNAT, NNMT, NNT, NOA1, NOB1, NOBOX, NOC2L, NOC3L, NOC4L, NOD1, NOD2, NODAL, NOG, NOL10, NOL11, NOL12, NOL3, NOL4, NOL6, NOL7, NOL8, NOL9, NOLC1, NOM1, NOMO1, NOMO2, NOMO3, NONO, NOP10, NOP14, NOP14-AS1, NOP16, NOP2, NOP56, NOP58, NOS1, NOS1AP, NOS2, NOS3, NOSIP, NOSTRIN, NOTCH1, NOTCH2, NOTCH2NL, NOTCH3, NOTCH4, NOTO, NOTUM, NOV, NOVA1, NOVA2, NOX1, NOX3, NOX4, NOX5, NOXA1, NOXO1, NOXRED1, NPAS1, NPAS2, NPAS3, NPAS4, NPAT, NPB, NPBWR1, NPBWR2, NPC1, NPC1L1, NPC2, NPDC1, NPEPL1, NPEPPS, NPFF, NPFFR1, NPFFR2, NPHP1, NPHP3, NPHP3-ACAD11, NPHP3-AS1, NPHP4, NPHS1, NPHS2, NPIP, NPIPL3, NPL, NPLOC4, NPM1, NPM2, NPM3, NPNT, NPPA, NPPA-AS1, NPPB, NPPC, NPR1, NPR2, NPR3, NPRL2, NPRL3, NPS, NPSR1, NPTN, NPTX1, NPTX2, NPTXR, NPVF, NPW, NPY, NPY1R, NPY2R, NPY5R, NPY6R, NQO1, NQO2, NR0B1, NR0B2, NR1D1, NR1D2, NR1H2, NR1H3, NR1H4, NR1I2, NR1I3, NR2C1, NR2C2, NR2C2AP, NR2E1, NR2E3, NR2F1, NR2F2, NR2F6, NR3C1, NR3C2, NR4A1, NR4A2, NR4A3, NR5A1, NR5A2, NR6A1, NRADDP, NRAP, NRARP, NRAS, NRBF2, NRBP1, NRBP2, NRCAM, NRD1, NREP, NRF1, NRG1, NRG2, NRG3, NRG4, NRGN, NRIP1, NRIP2, NRIP3, NRK, NRL, NRM, NRN1, NRN1L, NRON, NRP1, NRP2, NRSN1, NRSN2, NRTN, NRXN1, NRXN2, NRXN3, NS3BP, NSA2, NSD1, NSDHL, NSF, NSFL1C, NSFP1, NSL1, NSMAF, NSMCE1, NSMCE2, NSMCE4A, NSRP1, NSUN2, NSUN3, NSUN4, NSUN5, NSUN5P1, NSUN5P2, NSUN6, NSUN7, NT5C, NT5C1A, NT5C1B, NT5C1B-RDH14, NT5C2, NT5C3, NT5C3L, NT5DC1, NT5DC2, NT5DC3, NT5E, NT5M, NTAN1, NTF3, NTF4, NTHL1, NTM, NTN1, NTN3, NTN4, NTN5, NTNG1, NTNG2, NTPCR, NTRK1, NTRK2, NTRK3, NTS, NTSR1, NTSR2, NUAK1, NUAK2, NUB1, NUBP1, NUBP2, NUBPL, NUCB1, NUCB2, NUCKS1, NUDC, NUDCD1, NUDCD2, NUDCD3, NUDT1, NUDT10, NUDT11, NUDT12, NUDT13, NUDT14, NUDT15, NUDT16, NUDT16L1, NUDT16P1, NUDT17, NUDT18, NUDT19, NUDT2, NUDT21, NUDT22, NUDT3, NUDT4, NUDT4P1, NUDT5, NUDT6, NUDT7, NUDT8, NUDT9, NUDT9P1, NUF2, NUFIP1, NUFIP2, NUMA1, NUMB, NUMBL, NUP107, NUP133, NUP153, NUP155, NUP160, NUP188, NUP205, NUP210, NUP210L, NUP210P1, NUP214, NUP35, NUP37, NUP43, NUP50, NUP54, NUP62, NUP62CL, NUP85, NUP88, NUP93, NUP98, NUPL1, NUPL2, NUPR1, NUS1, NUSAP1, NUTF2, NVL, NWD1, NXF1, NXF2, NXF2B, NXF3, NXF4, NXF5, NXN, NXNL1, NXNL2, NXPH1, NXPH2, NXPH3, NXPH4, NXT1, NXT2, NYAP1, NYAP2, NYNRIN, NYX, O3FAR1, OAF, OAS1, OAS2, OAS3, OASL, OAT, OAZ1, OAZ2, OAZ3, OBFC1, OBFC2A, OBFC2B, OBP2A, OBP2B, OBSCN, OBSL1, OC90, OCA2, OCEL1, OCIAD1, OCIAD2, OCLM, OCLN, OCM, OCM2, OCRL, ODAM, ODC1, ODF1, ODF2, ODF2L, ODF3, ODF3B, ODF3L1, ODF3L2, ODF4, ODZ1, ODZ2, ODZ3, ODZ4, OFD1, OGDH, OGDHL, OGFOD1, OGFOD2, OGFR, OGFRL1, OGG1, OGN, OGT, OIP5, OIP5-AS1, OIT3, OLA1, OLAH, OLFM1, OLFM2, OLFM3, OLFM4, OLFML1, OLFML2A, OLFML2B, OLFML3, OLIG1, OLIG2, OLIG3, OLR1, OMA1, OMD, OMG, OMP, ONECUT1, ONECUT2, ONECUT3, OOEP, OPA1, OPA3, OPALIN, OPCML, OPHN1, OPLAH, OPN1LW, OPN1MW, OPN1MW2, OPN1SW, OPN3, OPN4, OPN5, OPRD1, OPRK1, OPRL1, OPRM1, OPTC, OPTN, OR10A2, OR10A3, OR10A4, OR10A5, OR10A6, OR10A7, OR10AD1, OR10AG1, OR10C1, OR10G2, OR10G3, OR10G4, OR10G7, OR10G8, OR10G9, OR10H1, OR10H2, OR10H3, OR10H4, OR10H5, OR10J1, OR10J3, OR10J5, OR10K1, OR10K2, OR10P1, OR10Q1, OR10R2, OR10S1, OR10T2, OR10V1, OR10V2P, OR10W1, OR10X1, OR10Z1, OR11A1, OR11G2, OR11H1, OR11H12, OR11H2, OR11H4, OR11H6, OR11L1, OR12D2, OR12D3, OR13A1, OR13C2, OR13C3, OR13C4, OR13C5, OR13C8, OR13C9, OR13D1, OR13F1, OR13G1, OR13H1, OR13J1, OR14A16, OR14C36, OR14I1, OR14J1, OR1A1, OR1A2, OR1B1, OR1C1, OR1D2, OR1D4, OR1D5, OR1E1, OR1E2, OR1F1, OR1F2P, OR1G1, OR1I1, OR1J1, OR1J2, OR1J4, OR1K1, OR1L1, OR1L3, OR1L4, OR1L6, OR1L8, OR1M1, OR1N1, OR1N2, OR1Q1, OR1S1, OR1S2, OR2A1, OR2A12, OR2A14, OR2A2, OR2A20P, OR2A25, OR2A4, OR2A42, OR2A5, OR2A7, OR2A9P, OR2AE1, OR2AG1, OR2AG2, OR2AK2, OR2AT4, OR2B11, OR2B2, OR2B3, OR2B6, OR2C1, OR2C3, OR2D2, OR2D3, OR2F1, OR2F2, OR2G2, OR2G3, OR2G6, OR2H1, OR2H2, OR2J2, OR2J3, OR2K2, OR2L13, OR2L1P, OR2L2, OR2L3, OR2L8, OR2M1P, OR2M2, OR2M3, OR2M4, OR2M5, OR2M7, OR2S2, OR2T1, OR2T10, OR2T11, OR2T12, OR2T2, OR2T27, OR2T29, OR2T3, OR2T33, OR2T34, OR2T35, OR2T4, OR2T5, OR2T6, OR2T8, OR2V2, OR2W1, OR2W3, OR2W5, OR2Y1, OR2Z1, OR3A1, OR3A2, OR3A3, OR3A4P, OR4A15, OR4A16, OR4A47, OR4A5, OR4B1, OR4C11, OR4C12, OR4C13, OR4C15, OR4C16, OR4C3, OR4C45, OR4C46, OR4C6, OR4D1, OR4D10, OR4D11, OR4D2, OR4D5, OR4D6, OR4D9, OR4E2, OR4F15, OR4F16, OR4F17, OR4F21, OR4F29, OR4F3, OR4F4, OR4F5, OR4F6, OR4K1, OR4K13, OR4K14, OR4K15, OR4K17, OR4K2, OR4K5, OR4L1, OR4M1, OR4M2, OR4N2, OR4N3P, OR4N4, OR4N5, OR4P4, OR4Q3, OR4S1, OR4S2, OR4X1, OR4X2, OR51A2, OR51A4, OR51A7, OR51B2, OR51B4, OR51B5, OR51B6, OR51D1, OR51E1, OR51E2, OR51F1, OR51F2, OR51G1, OR51G2, OR51I1, OR51I2, OR51L1, OR51M1, OR51Q1, OR51S1, OR51T1, OR51V1, OR52A1, OR52A5, OR52B2, OR52B4, OR52B6, OR52D1, OR52E2, OR52E4, OR52E6, OR52E8, OR52H1, OR52I1, OR52I2, OR52J3, OR52K1, OR52K2, OR52L1, OR52M1, OR52N1, OR52N2, OR52N4, OR52N5, OR52R1, OR52W1, OR56A1, OR56A3, OR56A4, OR56A5, OR56B1, OR56B4, OR5A1, OR5A2, OR5AC2, OR5AK2, OR5AK4P, OR5AN1, OR5AP2, OR5AR1, OR5AS1, OR5AU1, OR5B12, OR5B17, OR5B2, OR5B21, OR5B3, OR5C1, OR5D13, OR5D14, OR5D16, OR5D18, OR5E1P, OR5F1, OR5H1, OR5H14, OR5H15, OR5H2, OR5H6, OR5I1, OR5J2, OR5K1, OR5K2, OR5K3, OR5K4, OR5L1, OR5L2, OR5M1, OR5M10, OR5M11, OR5M3, OR5M8, OR5M9, OR5P2, OR5P3, OR5R1, OR5T1, OR5T2, OR5T3, OR5V1, OR5W2, OR6A2, OR6B1, OR6B2, OR6B3, OR6C1, OR6C2, OR6C3, OR6C4, OR6C6, OR6C65, OR6C68, OR6C70, OR6C74, OR6C75, OR6C76, OR6F1, OR6K2, OR6K3, OR6K6, OR6M1, OR6N1, OR6N2, OR6P1, OR6Q1, OR6S1, OR6T1, OR6V1, OR6W1P, OR6X1, OR6Y1, OR7A10, OR7A17, OR7A5, OR7C1, OR7C2, OR7D2, OR7D4, OR7E12P, OR7E14P, OR7E156P, OR7E24, OR7E2P, OR7E37P, OR7E5P, OR7E91P, OR7G1, OR7G2, OR7G3, OR8A1, OR8B12, OR8B2, OR8B3, OR8B4, OR8B8, OR8D1, OR8D2, OR8D4, OR8G1, OR8G2, OR8G5, OR8H1, OR8H2, OR8H3, OR8I2, OR8J1, OR8J3, OR8K1, OR8K3, OR8K5, OR8S1, OR8U1, OR8U8, OR9A2, OR9A4, OR9G1, OR9G4, OR9G9, OR9I1, OR9K2, OR9Q1, OR9Q2, ORAI1, ORAI2, ORAI3, ORAOV1, ORC1, ORC2, ORC3, ORC4, ORC5, ORC6, ORM1, ORM2, ORMDL1, ORMDL2, ORMDL3, OS9, OSBP, OSBP2, OSBPL10, OSBPL11, OSBPL1A, OSBPL2, OSBPL3, OSBPL5, OSBPL6, OSBPL7, OSBPL8, OSBPL9, OSCAR, OSCP1, OSGEP, OSGEPL1, OSGIN1, OSGIN2, OSM, OSMR, OSR1, OSR2, OST4, OSTBETA, OSTC, OSTCP1, OSTF1, OSTM1, OSTN, OSTalpha, OTC, OTOA, OTOF, OTOGL, OTOL1, OTOP1, OTOP2, OTOP3, OTOR, OTOS, OTP, OTUB1, OTUB2, OTUD1, OTUD3, OTUD4, OTUD5, OTUD6A, OTUD6B, OTUD7A, OTUD7B, OTX1, OTX2, OTX2OS1, OVCA2, OVCH1, OVCH2, OVGP1, OVOL1, OVOL2, OXA1L, OXCT1, OXCT2, OXER1, OXGR1, OXNAD1, OXR1, OXSM, OXSR1, OXT, OXTR, P2RX1, P2RX2, P2RX3, P2RX4, P2RX5, P2RX5-TAX1BP3, P2RX6, P2RX6P, P2RX7, P2RY1, P2RY10, P2RY11, P2RY12, P2RY13, P2RY14, P2RY2, P2RY4, P2RY6, P2RY8, P4HA1, P4HA2, P4HA3, P4HB, P4HTM, PA2G4, PA2G4P4, PAAF1, PABPC1, PABPC1L, PABPC1L2A, PABPC1L2B, PABPC1P2, PABPC3, PABPC4, PABPC4L, PABPC5, PABPN1, PABPN1L, PACRG, PACRGL, PACS1, PACS2, PACSIN1, PACSIN2, PACSIN3, PADI1, PADI2, PADI3, PADI4, PADI6, PAEP, PAF1, PAFAH1B1, PAFAH1B2, PAFAH1B3, PAFAH2, PAG1, PAGE1, PAGE2, PAGE2B, PAGE3, PAGE4, PAGE5, PAH, PAICS, PAIP1, PAIP2, PAIP2B, PAK1, PAK1IP1, PAK2, PAK3, PAK4, PAK6, PAK7, PALB2, PALLD, PALM, PALM2, PALM2-AKAP2, PALM3, PALMD, PAM, PAM16, PAMR1, PAN2, PAN3, PAN3-AS1, PANK1, PANK2, PANK3, PANK4, PANX1, PANX2, PANX3, PAOX, PAPD4, PAPD5, PAPD7, PAPL, PAPLN, PAPOLA, PAPOLB, PAPOLG, PAPPA, PAPPA2, PAPSS1, PAPSS2, PAQR3, PAQR4, PAQR5, PAQR6, PAQR7, PAQR8, PAQR9, PAR-SN, PAR1, PAR4, PAR5, PARD3, PARD3B, PARD6A, PARD6B, PARD6G, PARG, PARK2, PARK7, PARL, PARM1, PARN, PARP1, PARP10, PARP11, PARP12, PARP14, PARP15, PARP16, PARP2, PARP3, PARP4, PARP6, PARP8, PARP9, PARPBP, PARS2, PART1, PARVA, PARVB, PARVG, PASD1, PASK, PATE1, PATE2, PATE3, PATE4, PATL1, PATL2, PATZ1, PAWR, PAX1, PAX2, PAX3, PAX4, PAX5, PAX6, PAX7, PAX8, PAX9, PAXIP1, PBK, PBLD, PBOV1, PBRM1, PBX1, PBX2, PBX3, PBX4, PBXIP1, PC, PCA3, PCAT1, PCBD1, PCBD2, PCBP1, PCBP1-AS1, PCBP2, PCBP3, PCBP4, PCCA, PCCB, PCDH1, PCDH10, PCDH11X, PCDH11Y, PCDH12, PCDH15, PCDH17, PCDH18, PCDH19, PCDH20, PCDH7, PCDH8, PCDH9, PCDHA1, PCDHA10, PCDHA11, PCDHA12, PCDHA13, PCDHA2, PCDHA3, PCDHA4, PCDHA5, PCDHA6, PCDHA7, PCDHA8, PCDHA9, PCDHAC1, PCDHAC2, PCDHB1, PCDHB10, PCDHB11, PCDHB12, PCDHB13, PCDHB14, PCDHB15, PCDHB16, PCDHB17, PCDHB18, PCDHB19P, PCDHB2, PCDHB3, PCDHB4, PCDHB5, PCDHB6, PCDHB7, PCDHB8, PCDHB9, PCDHGA1, PCDHGA10, PCDHGA11, PCDHGA12, PCDHGA2, PCDHGA3, PCDHGA4, PCDHGA5, PCDHGA6, PCDHGA7, PCDHGA8, PCDHGA9, PCDHGB1, PCDHGB2, PCDHGB3, PCDHGB4, PCDHGB5, PCDHGB6, PCDHGB7, PCDHGB8P, PCDHGC3, PCDHGC4, PCDHGC5, PCDP1, PCF11, PCGEM1, PCGF1, PCGF2, PCGF3, PCGF5, PCGF6, PCID2, PCIF1, PCK1, PCK2, PCLO, PCM1, PCMT1, PCMTD1, PCMTD2, PCNA, PCNA-AS1, PCNAP1, PCNP, PCNT, PCNX, PCNXL2, PCNXL3, PCOLCE, PCOLCE2, PCP2, PCP4, PCP4L1, PCSK1, PCSK1N, PCSK2, PCSK4, PCSK5, PCSK6, PCSK7, PCSK9, PCTP, PCYOX1, PCYOX1L, PCYT1A, PCYT1B, PCYT2, PDAP1, PDC, PDCD1, PDCD10, PDCD11, PDCD1LG2, PDCD2, PDCD2L, PDCD4, PDCD5, PDCD6, PDCD6IP, PDCD7, PDCL, PDCL2, PDCL3, PDDC1, PDE10A, PDE11A, PDE12, PDE1A, PDE1B, PDE1C, PDE2A, PDE3A, PDE3B, PDE4A, PDE4B, PDE4C, PDE4D, PDE4DIP, PDE5A, PDE6A, PDE6B, PDE6C, PDE6D, PDE6G, PDE6H, PDE7A, PDE7B, PDE8A, PDE8B, PDE9A, PDF, PDGFA, PDGFB, PDGFC, PDGFD, PDGFRA, PDGFRB, PDGFRL, PDHA1, PDHA2, PDHB, PDHX, PDIA2, PDIA3, PDIA3P, PDIA4, PDIA5, PDIA6, PDIK1L, PDILT, PDK1, PDK2, PDK3, PDK4, PDLIM1, PDLIM2, PDLIM3, PDLIM4, PDLIM5, PDLIM7, PDP1, PDP2, PDPK1, PDPN, PDPR, PDRG1, PDS5A, PDS5B, PDSS1, PDSS2, PDX1, PDXDC1, PDXDC2P, PDXK, PDXP, PDYN, PDZD11, PDZD2, PDZD3, PDZD4, PDZD7, PDZD8, PDZD9, PDZK1, PDZK1IP1, PDZK1P1, PDZRN3, PDZRN4, PEA15, PEAK1, PEAR1, PEBP1, PEBP4, PECAM1, PECR, PEF1, PEG10, PEG3, PEG3-AS1, PELI1, PELI2, PELI3, PELO, PELP1, PEMT, PENK, PEPD, PER1, PER2, PER3, PER4, PERP, PES1, PET112, PET117, PEX1, PEX10, PEX11A, PEX11B, PEX11G, PEX12, PEX13, PEX14, PEX16, PEX19, PEX2, PEX26, PEX3, PEX5, PEX5L, PEX6, PEX7, PF4, PF4V1, PFAS, PFDN1, PFDN2, PFDN4, PFDN5, PFDN6, PFKFB1, PFKFB2, PFKFB3, PFKFB4, PFKL, PFKM, PFKP, PFN1, PFN1P2, PFN2, PFN3, PFN4, PGA3, PGA4, PGA5, PGAM1, PGAM2, PGAM4, PGAM5, PGAP1, PGAP2, PGAP3, PGBD1, PGBD2, PGBD3, PGBD4, PGBD5, PGC, PGCP1, PGD, PGF, PGGT1B, PGK1, PGK2, PGLS, PGLYRP1, PGLYRP2, PGLYRP3, PGLYRP4, PGM1, PGM2, PGM2L1, PGM3, PGM5, PGM5P2, PGP, PGPEP1, PGPEP1L, PGR, PGRMC1, PGRMC2, PGS1, PHACTR1, PHACTR2, PHACTR3, PHACTR4, PHAX, PHB, PHB2, PHC1, PHC2, PHC3, PHEX, PHF1, PHF10, PHF11, PHF12, PHF13, PHF14, PHF15, PHF16, PHF17, PHF19, PHF2, PHF20, PHF20L1, PHF21A, PHF21B, PHF23, PHF2P1, PHF3, PHF5A, PHF6, PHF7, PHF8, PHGDH, PHGR1, PHIP, PHKA1, PHKA2, PHKB, PHKG1, PHKG2, PHLDA1, PHLDA2, PHLDA3, PHLDB1, PHLDB2, PHLDB3, PHLPP1, PHLPP2, PHOSPHO1, PHOSPHO2, PHOSPHO2-KLHL23, PHOX2A, PHOX2B, PHPT1, PHRF1, PHTF1, PHTF2, PHYH, PHYHD1, PHYHIP, PHYHIPL, PI15, PI16, PI3, PI4K2A, PI4K2B, PI4KA, PI4KAP1, PI4KAP2, PI4KB, PIAS1, PIAS2, PIAS3, PIAS4, PIBF1, PICALM, PICK1, PID1, PIDD, PIEZO1, PIEZO2, PIF1, PIGA, PIGB, PIGC, PIGF, PIGG, PIGH, PIGK, PIGL, PIGM, PIGN, PIGO, PIGP, PIGQ, PIGR, PIGS, PIGT, PIGU, PIGV, PIGW, PIGX, PIGY, PIGZ, PIH1D1, PIH1D2, PIK3AP1, PIK3C2A, PIK3C2B, PIK3C2G, PIK3C3, PIK3CA, PIK3CB, PIK3CD, PIK3CG, PIK3IP1, PIK3R1, PIK3R2, PIK3R3, PIK3R4, PIK3R5, PIK3R6, PIKFYVE, PILRA, PILRB, PIM1, PIM2, PIM3, PIN1, PIN1P1, PIN4, PINK1, PINX1, PION, PIP, PIP4K2A, PIP4K2B, PIP4K2C, PIP5K1A, PIP5K1B, PIP5K1C, PIP5K1P1, PIP5KL1, PIPOX, PIPSL, PIR, PIR-FIGF, PIRT, PISD, PISRT1, PITHD1, PITPNA, PITPNB, PITPNC1, PITPNM1, PITPNM2, PITPNM3, PITRM1, PITX1, PITX2, PITX3, PIWIL1, PIWIL2, PIWIL3, PIWIL4, PJA1, PJA2, PKD1, PKD1L1, PKD1L2, PKD1L3, PKD1P1, PKD2, PKD2L1, PKD2L2, PKDCC, PKDREJ, PKHD1, PKHD1L1, PKI55, PKIA, PKIB, PKIG, PKLR, PKM2, PKMYT1, PKN1, PKN2, PKN3, PKNOX1, PKNOX2, PKP1, PKP2, PKP3, PKP4, PLA1A, PLA2G10, PLA2G12A, PLA2G12B, PLA2G15, PLA2G16, PLA2G1B, PLA2G2A, PLA2G2C, PLA2G2D, PLA2G2E, PLA2G2F, PLA2G3, PLA2G4A, PLA2G4B, PLA2G4C, PLA2G4D, PLA2G4E, PLA2G4F, PLA2G5, PLA2G6, PLA2G7, PLA2R1, PLAA, PLAC1, PLAC1L, PLAC2, PLAC4, PLAC8, PLAC8L1, PLAC9, PLAG1, PLAGL1, PLAGL2, PLAT, PLAU, PLAUR, PLB1, PLBD1, PLBD2, PLCB1, PLCB2, PLCB3, PLCB4, PLCD1, PLCD3, PLCD4, PLCE1, PLCG1, PLCG2, PLCH1, PLCH2, PLCL1, PLCL2, PLCXD1, PLCXD2, PLCXD3, PLCZ1, PLD1, PLD2, PLD3, PLD4, PLD5, PLD6, PLDN, PLEC, PLEK, PLEK2, PLEKHA1, PLEKHA2, PLEKHA3, PLEKHA4, PLEKHA5, PLEKHA6, PLEKHA7, PLEKHA8, PLEKHA8P1, PLEKHB1, PLEKHB2, PLEKHD1, PLEKHF1, PLEKHF2, PLEKHG1, PLEKHG2, PLEKHG3, PLEKHG4, PLEKHG4B, PLEKHG5, PLEKHG6, PLEKHG7, PLEKHH1, PLEKHH2, PLEKHH3, PLEKHJ1, PLEKHM1, PLEKHM1P, PLEKHM2, PLEKHM3, PLEKHN1, PLEKHO1, PLEKHO2, PLG, PLGLA, PLGLB1, PLGLB2, PLIN1, PLIN2, PLIN3, PLIN4, PLIN5, PLK1, PLK1S1, PLK2, PLK3, PLK4, PLK5, PLLP, PLN, PLOD1, PLOD2, PLOD3, PLP1, PLP2, PLRG1, PLS1, PLS3, PLSCR1, PLSCR2, PLSCR3, PLSCR4, PLSCR5, PLTP, PLVAP, PLXDC1, PLXDC2, PLXNA1, PLXNA2, PLXNA3, PLXNA4, PLXNB1, PLXNB2, PLXNB3, PLXNC1, PLXND1, PM20D1, PM20D2, PMAIP1, PMCH, PMCHL1, PMCHL2, PMEL, PMEPA1, PMF1, PMF1-BGLAP, PMFBP1, PML, PMM1, PMM2, PMP2, PMP22, PMPCA, PMPCB, PMS1, PMS2, PMS2CL, PMS2L2, PMS2P1, PMS2P3, PMS2P4, PMS2P5, PMVK, PNCK, PNISR, PNKD, PNKP, PNLDC1, PNLIP, PNLIPRP1, PNLIPRP2, PNLIPRP3, PNMA1, PNMA2, PNMA3, PNMA5, PNMA6A, PNMA6C, PNMA6D, PNMAL1, PNMAL2, PNMT, PNN, PNO1, PNOC, PNP, PNPLA1, PNPLA2, PNPLA3, PNPLA4, PNPLA5, PNPLA6, PNPLA7, PNPLA8, PNPO, PNPT1, PNRC1, PNRC2, POC1A, POC1B, POC1B-GALNT4, POC5, PODN, PODNL1, PODXL, PODXL2, POF1B, POFUT1, POFUT2, POGK, POGLUT1, POGZ, POLA1, POLA2, POLB, POLD1, POLD2, POLD3, POLD4, POLDIP2, POLDIP3, POLE, POLE2, POLE3, POLE4, POLG, POLG2, POLH, POLI, POLK, POLL, POLM, POLN, POLQ, POLR1A, POLR1B, POLR1C, POLR1D, POLR1E, POLR2A, POLR2B, POLR2C, POLR2D, POLR2E, POLR2F, POLR2G, POLR2H, POLR2I, POLR2J, POLR2J2, POLR2J3, POLR2J4, POLR2K, POLR2L, POLR2M, POLR3A, POLR3B, POLR3C, POLR3D, POLR3E, POLR3F, POLR3G, POLR3GL, POLR3H, POLR3K, POLRMT, POM121, POM121C, POM121L10P, POM121L12, POM121L1P, POM121L2, POM121L4P, POM121L8P, POM121L9P, POMC, POMGNT1, POMP, POMT1, POMT2, POMZP3, PON1, PON2, PON3, POP1, POP4, POP5, POP7, POPDC2, POPDC3, POR, PORCN, POSTN, POT1, POTEA, POTEB, POTEC, POTED, POTEE, POTEF, POTEG, POTEH, POTEKP, POTEM, POU1F1, POU2AF1, POU2F1, POU2F2, POU2F3, POU3F1, POU3F2, POU3F3, POU3F4, POU4F1, POU4F2, POU4F3, POU5F1, POU5F1B, POU5F1P3, POU5F1P4, POU5F2, POU6F1, POU6F2, PP12613, PP14571, PP2D1, PP7080, PPA1, PPA2, PPAN, PPAN-P2RY11, PPAP2A, PPAP2B, PPAP2C, PPAPDC1A, PPAPDC1B, PPAPDC2, PPAPDC3, PPARA, PPARD, PPARG, PPARGC1A, PPARGC1B, PPAT, PPBP, PPBPL2, PPCDC, PPCS, PPDPF, PPEF1, PPEF2, PPFIA1, PPFIA2, PPFIA3, PPFIA4, PPFIBP1, PPFIBP2, PPHLN1, PPIA, PPIAL4A, PPIAL4B, PPIAL4C, PPIAL4D, PPIAL4E, PPIAL4F, PPIAL4G, PPIB, PPIC, PPID, PPIE, PPIEL, PPIF, PPIG, PPIH, PPIL1, PPIL2, PPIL3, PPIL4, PPIL6, PPIP5K1, PPIP5K2, PPL, PPM1A, PPM1B, PPM1D, PPM1E, PPM1F, PPM1G, PPM1H, PPM1J, PPM1K, PPM1L, PPM1M, PPM1N, PPME1, PPOX, PPP1CA, PPP1CB, PPP1CC, PPP1R10, PPP1R11, PPP1R12A, PPP1R12B, PPP1R12C, PPP1R13B, PPP1R13L, PPP1R14A, PPP1R14B, PPP1R14C, PPP1R14D, PPP1R15A, PPP1R15B, PPP1R16A, PPP1R16B, PPP1R17, PPP1R18, PPP1R1A, PPP1R1B, PPP1R1C, PPP1R2, PPP1R21, PPP1R26, PPP1R27, PPP1R2P3, PPP1R2P9, PPP1R32, PPP1R35, PPP1R36, PPP1R37, PPP1R3A, PPP1R3B, PPP1R3C\n",
      "Label Column: PPP1R3D\n"
     ]
    }
   ],
   "source": [
    "print(f'Feature Columns: {\", \".join(features)}\\nLabel Column: {labels}')"
   ]
  },
  {
   "cell_type": "markdown",
   "id": "0123b66e",
   "metadata": {},
   "source": [
    "We have balanced the unbalanced data to have a good accuracy rate."
   ]
  },
  {
   "cell_type": "markdown",
   "id": "be47d9f6",
   "metadata": {},
   "source": [
    "# Split data into features and labels (X and y)"
   ]
  },
  {
   "cell_type": "code",
   "execution_count": 10,
   "id": "0d6a50e8",
   "metadata": {},
   "outputs": [
    {
     "name": "stdout",
     "output_type": "stream",
     "text": [
      "(333, 16383)\n",
      "(333,)\n",
      "(111, 16383)\n",
      "(111,)\n"
     ]
    }
   ],
   "source": [
    "X = df.drop(['class'], axis=1)\n",
    "y = df['class']\n",
    "\n",
    "X_train, X_test, y_train, y_test = train_test_split(X, y, random_state=42)\n",
    "\n",
    "print(X_train.shape)\n",
    "print(y_train.shape)\n",
    "print(X_test.shape)\n",
    "print(y_test.shape)"
   ]
  },
  {
   "cell_type": "code",
   "execution_count": 11,
   "id": "652457ba",
   "metadata": {},
   "outputs": [],
   "source": [
    "scaler = StandardScaler().fit(X_train)\n",
    "X_train_scaled = scaler.transform(X_train)\n",
    "X_test_scaled = scaler.transform(X_test)"
   ]
  },
  {
   "cell_type": "code",
   "execution_count": 12,
   "id": "af07e24b",
   "metadata": {},
   "outputs": [
    {
     "name": "stdout",
     "output_type": "stream",
     "text": [
      "Total samples in dataset: 444\n",
      "\n",
      "Class distribution for 333 training samples:\n",
      "Class\tCount\tPercent\n",
      "Neoplastic_Core\t  295\t88.6%\n",
      "Neoplastic_Periphery\t   38\t11.4%\n",
      "\n",
      "Class distribution for 111 testing samples:\n",
      "Class\tCount\tPercent\n",
      "Neoplastic_Core\t   91\t82.0%\n",
      "Neoplastic_Periphery\t   20\t18.0%\n"
     ]
    }
   ],
   "source": [
    "print(f'Total samples in dataset: {len(df)}\\n')\n",
    "unique, frequency = np.unique(y_train, return_counts = True)\n",
    "print(f'Class distribution for {len(y_train)} training samples:')\n",
    "print(f'Class\\tCount\\tPercent')\n",
    "for u, f in zip(unique, frequency):\n",
    "    print(f'{u:>5}\\t{f:>5}\\t{f/frequency.sum():.1%}')\n",
    "print()\n",
    "unique, frequency = np.unique(y_test, return_counts = True)\n",
    "print(f'Class distribution for {len(y_test)} testing samples:')\n",
    "print(f'Class\\tCount\\tPercent')\n",
    "for u, f in zip(unique, frequency):\n",
    "    print(f'{u:>5}\\t{f:>5}\\t{f/frequency.sum():.1%}')"
   ]
  },
  {
   "cell_type": "markdown",
   "id": "d92a96e6",
   "metadata": {},
   "source": [
    "# Decision Tree"
   ]
  },
  {
   "cell_type": "code",
   "execution_count": 13,
   "id": "4d573de4",
   "metadata": {},
   "outputs": [],
   "source": [
    "X_train, X_test, y_train, y_test = train_test_split(X, y, random_state=42)"
   ]
  },
  {
   "cell_type": "code",
   "execution_count": 14,
   "id": "c6866330",
   "metadata": {},
   "outputs": [
    {
     "data": {
      "text/plain": [
       "DecisionTreeClassifier()"
      ]
     },
     "execution_count": 14,
     "metadata": {},
     "output_type": "execute_result"
    }
   ],
   "source": [
    "tree = DecisionTreeClassifier() # decision tree algorithm\n",
    "tree.fit(X_train, y_train)"
   ]
  },
  {
   "cell_type": "code",
   "execution_count": 15,
   "id": "a45fd2c2",
   "metadata": {},
   "outputs": [
    {
     "name": "stdout",
     "output_type": "stream",
     "text": [
      "Decision tree has 15 nodes with maximum depth 5.\n",
      "Model Accuracy: 1.0\n"
     ]
    }
   ],
   "source": [
    "print(f'Decision tree has {tree.tree_.node_count} nodes with maximum depth {tree.tree_.max_depth}.') \n",
    "print(f'Model Accuracy: {tree.score(X_train, y_train)}')"
   ]
  },
  {
   "cell_type": "markdown",
   "id": "954882b9",
   "metadata": {},
   "source": [
    "We have got 100 % model accuracy and the Decision tree has 15 nodes with maximum depth 5 which is perfect. "
   ]
  },
  {
   "cell_type": "code",
   "execution_count": 16,
   "id": "83edd900",
   "metadata": {},
   "outputs": [
    {
     "name": "stdout",
     "output_type": "stream",
     "text": [
      "                      precision    recall  f1-score   support\n",
      "\n",
      "     Neoplastic_Core       0.90      0.97      0.93        91\n",
      "Neoplastic_Periphery       0.77      0.50      0.61        20\n",
      "\n",
      "            accuracy                           0.88       111\n",
      "           macro avg       0.83      0.73      0.77       111\n",
      "        weighted avg       0.87      0.88      0.87       111\n",
      "\n"
     ]
    }
   ],
   "source": [
    "y_pred = tree.predict(X_test) \n",
    "print(classification_report(y_test,y_pred))"
   ]
  },
  {
   "cell_type": "markdown",
   "id": "034e1f8d",
   "metadata": {},
   "source": [
    "We have got 88 % accuracy match between the true (unseen) and predicted cells classification of the Neoplastic_Core and the Neoplastic_Peripher Cells. We can call it good enough knowing that this result is pefore optimization."
   ]
  },
  {
   "cell_type": "markdown",
   "id": "b7bccafc",
   "metadata": {},
   "source": [
    "# Decision Tree Paramaters Optimization Using Grid Search Cross Validation Algorithm"
   ]
  },
  {
   "cell_type": "code",
   "execution_count": 17,
   "id": "2edb9d03",
   "metadata": {},
   "outputs": [],
   "source": [
    "param_grid = {'max_depth': [25, 50, 100, 200, 300],\n",
    "              'min_samples_leaf': [10, 20],\n",
    "              'max_leaf_nodes': [25, 50, 100, 200, 300, 400, 500]}"
   ]
  },
  {
   "cell_type": "code",
   "execution_count": 18,
   "id": "d54bafc5",
   "metadata": {},
   "outputs": [
    {
     "data": {
      "text/plain": [
       "GridSearchCV(cv=5, estimator=DecisionTreeClassifier(), n_jobs=-1,\n",
       "             param_grid={'max_depth': [25, 50, 100, 200, 300],\n",
       "                         'max_leaf_nodes': [25, 50, 100, 200, 300, 400, 500],\n",
       "                         'min_samples_leaf': [10, 20]})"
      ]
     },
     "execution_count": 18,
     "metadata": {},
     "output_type": "execute_result"
    }
   ],
   "source": [
    "gs_dt = GridSearchCV(DecisionTreeClassifier(), param_grid, cv=5, n_jobs=-1)\n",
    "gs_dt.fit(X_train, y_train)"
   ]
  },
  {
   "cell_type": "code",
   "execution_count": 19,
   "id": "bc60274b",
   "metadata": {},
   "outputs": [
    {
     "name": "stdout",
     "output_type": "stream",
     "text": [
      "The best model is: \n",
      "DecisionTreeClassifier(max_depth=25, max_leaf_nodes=25, min_samples_leaf=10)\n"
     ]
    }
   ],
   "source": [
    "print(f'The best model is: \\n{gs_dt.best_estimator_}')"
   ]
  },
  {
   "cell_type": "code",
   "execution_count": 20,
   "id": "2cbfaadf",
   "metadata": {},
   "outputs": [
    {
     "name": "stdout",
     "output_type": "stream",
     "text": [
      "Decision tree has 11 nodes with maximum depth 4.\n",
      "Model Accuracy: 0.972972972972973\n"
     ]
    }
   ],
   "source": [
    "tree_opt = gs_dt.best_estimator_\n",
    "print(f'Decision tree has {tree_opt.tree_.node_count} nodes with maximum depth {tree_opt.tree_.max_depth}.') \n",
    "print(f'Model Accuracy: {tree_opt.score(X_train, y_train)}')"
   ]
  },
  {
   "cell_type": "code",
   "execution_count": 21,
   "id": "3cdf6a71",
   "metadata": {},
   "outputs": [
    {
     "name": "stdout",
     "output_type": "stream",
     "text": [
      "                      precision    recall  f1-score   support\n",
      "\n",
      "     Neoplastic_Core       0.90      0.98      0.94        91\n",
      "Neoplastic_Periphery       0.83      0.50      0.62        20\n",
      "\n",
      "            accuracy                           0.89       111\n",
      "           macro avg       0.87      0.74      0.78       111\n",
      "        weighted avg       0.89      0.89      0.88       111\n",
      "\n"
     ]
    }
   ],
   "source": [
    "y_pred = tree_opt.predict(X_test) \n",
    "print(classification_report(y_test,y_pred))"
   ]
  },
  {
   "cell_type": "markdown",
   "id": "c0e365c6",
   "metadata": {},
   "source": [
    "We have got 89 % accuracy match between the true (unseen) and predicted cells classification of the Neoplastic_Core and the Neoplastic_Peripher Cells which is little better than out standard classification model (88%). We can call our optimized model is good enough after solving our data unbalanced problem by upsampling the minority class and optimizing our decision tree model using grid search cross validation algorithm."
   ]
  },
  {
   "cell_type": "code",
   "execution_count": null,
   "id": "f6936c6a",
   "metadata": {},
   "outputs": [],
   "source": []
  }
 ],
 "metadata": {
  "kernelspec": {
   "display_name": "Python 3 (ipykernel)",
   "language": "python",
   "name": "python3"
  },
  "language_info": {
   "codemirror_mode": {
    "name": "ipython",
    "version": 3
   },
   "file_extension": ".py",
   "mimetype": "text/x-python",
   "name": "python",
   "nbconvert_exporter": "python",
   "pygments_lexer": "ipython3",
   "version": "3.9.7"
  }
 },
 "nbformat": 4,
 "nbformat_minor": 5
}
