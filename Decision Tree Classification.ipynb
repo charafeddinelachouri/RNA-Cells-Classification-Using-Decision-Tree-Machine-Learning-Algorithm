{
 "cells": [
  {
   "cell_type": "markdown",
   "id": "29a294fd",
   "metadata": {},
   "source": [
    "# Decision Tree Algorithm with parameters optimization to classify Neoplastic Astrocytes cells from the neoplastic periphery and the tumor core using the database \"S1_Originaldata.csv\""
   ]
  },
  {
   "cell_type": "code",
   "execution_count": 1,
   "id": "bb48dae9",
   "metadata": {},
   "outputs": [
    {
     "name": "stdout",
     "output_type": "stream",
     "text": [
      "       1/2-SBSRNA4        A1BG    A1BG-AS1        A1CF       A2LD1  \\\n",
      "count   444.000000  444.000000  444.000000  444.000000  444.000000   \n",
      "mean      0.281286    1.300646    0.218221    0.043053    0.169951   \n",
      "std       1.448833    2.474125    1.103586    0.567969    1.023480   \n",
      "min       0.000000    0.000000    0.000000    0.000000    0.000000   \n",
      "25%       0.000000    0.000000    0.000000    0.000000    0.000000   \n",
      "50%       0.000000    0.000000    0.000000    0.000000    0.000000   \n",
      "75%       0.000000    0.000000    0.000000    0.000000    0.000000   \n",
      "max       9.515390    9.235368    8.587576    8.715006    9.315997   \n",
      "\n",
      "              A2M       A2ML1       A2MP1  A4GALT       A4GNT  ...  \\\n",
      "count  444.000000  444.000000  444.000000   444.0  444.000000  ...   \n",
      "mean     0.966699    0.308724    0.034910     0.0    0.019368  ...   \n",
      "std      2.856530    1.524655    0.468207     0.0    0.342199  ...   \n",
      "min      0.000000    0.000000    0.000000     0.0    0.000000  ...   \n",
      "25%      0.000000    0.000000    0.000000     0.0    0.000000  ...   \n",
      "50%      0.000000    0.000000    0.000000     0.0    0.000000  ...   \n",
      "75%      0.000000    0.000000    0.000000     0.0    0.000000  ...   \n",
      "max     14.432504    9.786054    7.939351     0.0    7.044394  ...   \n",
      "\n",
      "         PPP1R2P3  PPP1R2P9     PPP1R32     PPP1R35     PPP1R36     PPP1R37  \\\n",
      "count  444.000000     444.0  444.000000  444.000000  444.000000  444.000000   \n",
      "mean     0.129347       0.0    0.186652    1.500870    0.168991    0.059058   \n",
      "std      0.482201       0.0    1.083458    2.676177    1.034354    0.502183   \n",
      "min      0.000000       0.0    0.000000    0.000000    0.000000    0.000000   \n",
      "25%      0.000000       0.0    0.000000    0.000000    0.000000    0.000000   \n",
      "50%      0.000000       0.0    0.000000    0.000000    0.000000    0.000000   \n",
      "75%      0.000000       0.0    0.000000    2.762115    0.000000    0.000000   \n",
      "max      3.053072       0.0    8.149755   10.759567    8.607547    7.653209   \n",
      "\n",
      "       PPP1R3A     PPP1R3B     PPP1R3C     PPP1R3D  \n",
      "count    444.0  444.000000  444.000000  444.000000  \n",
      "mean       0.0    0.274012    0.578264    0.138385  \n",
      "std        0.0    1.252474    2.071382    0.950394  \n",
      "min        0.0    0.000000    0.000000    0.000000  \n",
      "25%        0.0    0.000000    0.000000    0.000000  \n",
      "50%        0.0    0.000000    0.000000    0.000000  \n",
      "75%        0.0    0.000000    0.000000    0.000000  \n",
      "max        0.0   10.029919   11.223894    9.566267  \n",
      "\n",
      "[8 rows x 16383 columns]\n",
      "class\n",
      "Neoplastic_Core         386\n",
      "Neoplastic_Periphery     58\n",
      "dtype: int64\n"
     ]
    }
   ],
   "source": [
    "import numpy as np\n",
    "import pandas as pd\n",
    "from time import time\n",
    "import time\n",
    "\n",
    "%matplotlib inline\n",
    "import pandas as pd\n",
    "import numpy as np\n",
    "import matplotlib as mpl\n",
    "import matplotlib.pyplot as plt\n",
    "import matplotlib.colors as colors\n",
    "from mpl_toolkits.axes_grid1 import make_axes_locatable\n",
    "from pandas import set_option\n",
    "from sklearn.metrics import confusion_matrix\n",
    "\n",
    "from sklearn.metrics import accuracy_score\n",
    "from sklearn.metrics import f1_score\n",
    "from sklearn.metrics import recall_score\n",
    "from sklearn.metrics import precision_score\n",
    "from sklearn.metrics import classification_report\n",
    "\n",
    "from sklearn import model_selection\n",
    "from sklearn.linear_model import LogisticRegression\n",
    "from sklearn.neighbors import KNeighborsClassifier\n",
    "from sklearn.discriminant_analysis import LinearDiscriminantAnalysis\n",
    "from sklearn.naive_bayes import GaussianNB\n",
    "from sklearn.svm import SVC\n",
    "from sklearn.preprocessing import StandardScaler\n",
    "from sklearn.neural_network import MLPClassifier\n",
    "from sklearn.ensemble import RandomForestRegressor\n",
    "from sklearn.cluster import KMeans\n",
    "from sklearn.ensemble import RandomForestClassifier\n",
    "from sklearn.tree import DecisionTreeClassifier\n",
    "from sklearn.model_selection import train_test_split\n",
    "from sklearn.model_selection import GridSearchCV\n",
    "from sklearn.metrics import plot_confusion_matrix\n",
    "\n",
    "import seaborn as sns; sns.set() \n",
    "\n",
    "import pandas as pd\n",
    "from sklearn.cluster import KMeans\n",
    "from sklearn import metrics\n",
    "import re\n",
    "from numpy import random\n",
    "import seaborn as sb\n",
    "import matplotlib.pyplot as plt\n",
    "from sklearn.tree import export_graphviz\n",
    "import graphviz\n",
    "\n",
    "### Set path to the data set\n",
    "#dataset_path = \"GSE75688_GEO_processed_Breast_Cancer_TestPG_T1.csv\"\n",
    "## Load data\n",
    "#data = pd.read_csv(dataset_path,header=0,index_col=0)\n",
    "\n",
    "rc={'lines.linewidth': 2, 'axes.labelsize': 14, 'axes.titlesize': 14}\n",
    "sns.set(rc=rc)\n",
    "\n",
    "set_option(\"display.max_rows\", 10)\n",
    "pd.options.mode.chained_assignment = None\n",
    "\n",
    "filename = 'S1_Originaldata.csv'\n",
    "df = pd.read_csv(filename)\n",
    "print(df.describe())\n",
    "print(df.groupby('class').size())"
   ]
  },
  {
   "cell_type": "code",
   "execution_count": 2,
   "id": "4289b9da",
   "metadata": {},
   "outputs": [
    {
     "data": {
      "text/html": [
       "<div>\n",
       "<style scoped>\n",
       "    .dataframe tbody tr th:only-of-type {\n",
       "        vertical-align: middle;\n",
       "    }\n",
       "\n",
       "    .dataframe tbody tr th {\n",
       "        vertical-align: top;\n",
       "    }\n",
       "\n",
       "    .dataframe thead th {\n",
       "        text-align: right;\n",
       "    }\n",
       "</style>\n",
       "<table border=\"1\" class=\"dataframe\">\n",
       "  <thead>\n",
       "    <tr style=\"text-align: right;\">\n",
       "      <th></th>\n",
       "      <th>class</th>\n",
       "      <th>1/2-SBSRNA4</th>\n",
       "      <th>A1BG</th>\n",
       "      <th>A1BG-AS1</th>\n",
       "      <th>A1CF</th>\n",
       "      <th>A2LD1</th>\n",
       "      <th>A2M</th>\n",
       "      <th>A2ML1</th>\n",
       "      <th>A2MP1</th>\n",
       "      <th>A4GALT</th>\n",
       "      <th>...</th>\n",
       "      <th>PPP1R2P3</th>\n",
       "      <th>PPP1R2P9</th>\n",
       "      <th>PPP1R32</th>\n",
       "      <th>PPP1R35</th>\n",
       "      <th>PPP1R36</th>\n",
       "      <th>PPP1R37</th>\n",
       "      <th>PPP1R3A</th>\n",
       "      <th>PPP1R3B</th>\n",
       "      <th>PPP1R3C</th>\n",
       "      <th>PPP1R3D</th>\n",
       "    </tr>\n",
       "  </thead>\n",
       "  <tbody>\n",
       "    <tr>\n",
       "      <th>317</th>\n",
       "      <td>Neoplastic_Core</td>\n",
       "      <td>0.0</td>\n",
       "      <td>0.000000</td>\n",
       "      <td>0.000000</td>\n",
       "      <td>0.0</td>\n",
       "      <td>0.0</td>\n",
       "      <td>0.000000</td>\n",
       "      <td>0.0</td>\n",
       "      <td>0.0</td>\n",
       "      <td>0</td>\n",
       "      <td>...</td>\n",
       "      <td>0.000000</td>\n",
       "      <td>0</td>\n",
       "      <td>0.0</td>\n",
       "      <td>0.000000</td>\n",
       "      <td>0.0</td>\n",
       "      <td>0.000000</td>\n",
       "      <td>0</td>\n",
       "      <td>8.834526</td>\n",
       "      <td>0.000000</td>\n",
       "      <td>0.0</td>\n",
       "    </tr>\n",
       "    <tr>\n",
       "      <th>11</th>\n",
       "      <td>Neoplastic_Core</td>\n",
       "      <td>0.0</td>\n",
       "      <td>4.578715</td>\n",
       "      <td>0.000000</td>\n",
       "      <td>0.0</td>\n",
       "      <td>0.0</td>\n",
       "      <td>0.000000</td>\n",
       "      <td>0.0</td>\n",
       "      <td>0.0</td>\n",
       "      <td>0</td>\n",
       "      <td>...</td>\n",
       "      <td>0.000000</td>\n",
       "      <td>0</td>\n",
       "      <td>0.0</td>\n",
       "      <td>0.000000</td>\n",
       "      <td>0.0</td>\n",
       "      <td>0.000000</td>\n",
       "      <td>0</td>\n",
       "      <td>0.000000</td>\n",
       "      <td>0.000000</td>\n",
       "      <td>0.0</td>\n",
       "    </tr>\n",
       "    <tr>\n",
       "      <th>200</th>\n",
       "      <td>Neoplastic_Core</td>\n",
       "      <td>0.0</td>\n",
       "      <td>4.255600</td>\n",
       "      <td>0.000000</td>\n",
       "      <td>0.0</td>\n",
       "      <td>0.0</td>\n",
       "      <td>0.000000</td>\n",
       "      <td>0.0</td>\n",
       "      <td>0.0</td>\n",
       "      <td>0</td>\n",
       "      <td>...</td>\n",
       "      <td>1.490638</td>\n",
       "      <td>0</td>\n",
       "      <td>0.0</td>\n",
       "      <td>4.111965</td>\n",
       "      <td>0.0</td>\n",
       "      <td>0.000000</td>\n",
       "      <td>0</td>\n",
       "      <td>0.000000</td>\n",
       "      <td>0.000000</td>\n",
       "      <td>0.0</td>\n",
       "    </tr>\n",
       "    <tr>\n",
       "      <th>336</th>\n",
       "      <td>Neoplastic_Core</td>\n",
       "      <td>0.0</td>\n",
       "      <td>6.986824</td>\n",
       "      <td>0.000000</td>\n",
       "      <td>0.0</td>\n",
       "      <td>0.0</td>\n",
       "      <td>0.000000</td>\n",
       "      <td>0.0</td>\n",
       "      <td>0.0</td>\n",
       "      <td>0</td>\n",
       "      <td>...</td>\n",
       "      <td>0.000000</td>\n",
       "      <td>0</td>\n",
       "      <td>0.0</td>\n",
       "      <td>0.000000</td>\n",
       "      <td>0.0</td>\n",
       "      <td>0.000000</td>\n",
       "      <td>0</td>\n",
       "      <td>0.000000</td>\n",
       "      <td>0.000000</td>\n",
       "      <td>0.0</td>\n",
       "    </tr>\n",
       "    <tr>\n",
       "      <th>209</th>\n",
       "      <td>Neoplastic_Core</td>\n",
       "      <td>0.0</td>\n",
       "      <td>4.255480</td>\n",
       "      <td>5.902656</td>\n",
       "      <td>0.0</td>\n",
       "      <td>0.0</td>\n",
       "      <td>0.000000</td>\n",
       "      <td>0.0</td>\n",
       "      <td>0.0</td>\n",
       "      <td>0</td>\n",
       "      <td>...</td>\n",
       "      <td>0.000000</td>\n",
       "      <td>0</td>\n",
       "      <td>0.0</td>\n",
       "      <td>5.217210</td>\n",
       "      <td>0.0</td>\n",
       "      <td>0.000000</td>\n",
       "      <td>0</td>\n",
       "      <td>0.000000</td>\n",
       "      <td>7.739253</td>\n",
       "      <td>0.0</td>\n",
       "    </tr>\n",
       "    <tr>\n",
       "      <th>194</th>\n",
       "      <td>Neoplastic_Core</td>\n",
       "      <td>0.0</td>\n",
       "      <td>0.000000</td>\n",
       "      <td>6.259303</td>\n",
       "      <td>0.0</td>\n",
       "      <td>0.0</td>\n",
       "      <td>0.000000</td>\n",
       "      <td>0.0</td>\n",
       "      <td>0.0</td>\n",
       "      <td>0</td>\n",
       "      <td>...</td>\n",
       "      <td>0.000000</td>\n",
       "      <td>0</td>\n",
       "      <td>0.0</td>\n",
       "      <td>5.727270</td>\n",
       "      <td>0.0</td>\n",
       "      <td>3.385459</td>\n",
       "      <td>0</td>\n",
       "      <td>0.000000</td>\n",
       "      <td>0.000000</td>\n",
       "      <td>0.0</td>\n",
       "    </tr>\n",
       "    <tr>\n",
       "      <th>79</th>\n",
       "      <td>Neoplastic_Core</td>\n",
       "      <td>0.0</td>\n",
       "      <td>0.000000</td>\n",
       "      <td>0.000000</td>\n",
       "      <td>0.0</td>\n",
       "      <td>0.0</td>\n",
       "      <td>0.000000</td>\n",
       "      <td>0.0</td>\n",
       "      <td>0.0</td>\n",
       "      <td>0</td>\n",
       "      <td>...</td>\n",
       "      <td>0.000000</td>\n",
       "      <td>0</td>\n",
       "      <td>0.0</td>\n",
       "      <td>0.000000</td>\n",
       "      <td>0.0</td>\n",
       "      <td>0.000000</td>\n",
       "      <td>0</td>\n",
       "      <td>0.000000</td>\n",
       "      <td>0.000000</td>\n",
       "      <td>0.0</td>\n",
       "    </tr>\n",
       "    <tr>\n",
       "      <th>40</th>\n",
       "      <td>Neoplastic_Core</td>\n",
       "      <td>0.0</td>\n",
       "      <td>0.000000</td>\n",
       "      <td>0.000000</td>\n",
       "      <td>0.0</td>\n",
       "      <td>0.0</td>\n",
       "      <td>0.000000</td>\n",
       "      <td>0.0</td>\n",
       "      <td>0.0</td>\n",
       "      <td>0</td>\n",
       "      <td>...</td>\n",
       "      <td>0.000000</td>\n",
       "      <td>0</td>\n",
       "      <td>0.0</td>\n",
       "      <td>0.000000</td>\n",
       "      <td>0.0</td>\n",
       "      <td>0.000000</td>\n",
       "      <td>0</td>\n",
       "      <td>0.000000</td>\n",
       "      <td>0.000000</td>\n",
       "      <td>0.0</td>\n",
       "    </tr>\n",
       "    <tr>\n",
       "      <th>130</th>\n",
       "      <td>Neoplastic_Core</td>\n",
       "      <td>0.0</td>\n",
       "      <td>0.000000</td>\n",
       "      <td>0.000000</td>\n",
       "      <td>0.0</td>\n",
       "      <td>0.0</td>\n",
       "      <td>3.542372</td>\n",
       "      <td>0.0</td>\n",
       "      <td>0.0</td>\n",
       "      <td>0</td>\n",
       "      <td>...</td>\n",
       "      <td>0.000000</td>\n",
       "      <td>0</td>\n",
       "      <td>0.0</td>\n",
       "      <td>0.000000</td>\n",
       "      <td>0.0</td>\n",
       "      <td>0.000000</td>\n",
       "      <td>0</td>\n",
       "      <td>0.000000</td>\n",
       "      <td>0.000000</td>\n",
       "      <td>0.0</td>\n",
       "    </tr>\n",
       "    <tr>\n",
       "      <th>196</th>\n",
       "      <td>Neoplastic_Core</td>\n",
       "      <td>0.0</td>\n",
       "      <td>4.864268</td>\n",
       "      <td>3.831479</td>\n",
       "      <td>0.0</td>\n",
       "      <td>0.0</td>\n",
       "      <td>0.000000</td>\n",
       "      <td>0.0</td>\n",
       "      <td>0.0</td>\n",
       "      <td>0</td>\n",
       "      <td>...</td>\n",
       "      <td>0.000000</td>\n",
       "      <td>0</td>\n",
       "      <td>0.0</td>\n",
       "      <td>4.492405</td>\n",
       "      <td>0.0</td>\n",
       "      <td>0.000000</td>\n",
       "      <td>0</td>\n",
       "      <td>0.000000</td>\n",
       "      <td>3.212965</td>\n",
       "      <td>0.0</td>\n",
       "    </tr>\n",
       "  </tbody>\n",
       "</table>\n",
       "<p>10 rows × 16384 columns</p>\n",
       "</div>"
      ],
      "text/plain": [
       "               class  1/2-SBSRNA4      A1BG  A1BG-AS1  A1CF  A2LD1       A2M  \\\n",
       "317  Neoplastic_Core          0.0  0.000000  0.000000   0.0    0.0  0.000000   \n",
       "11   Neoplastic_Core          0.0  4.578715  0.000000   0.0    0.0  0.000000   \n",
       "200  Neoplastic_Core          0.0  4.255600  0.000000   0.0    0.0  0.000000   \n",
       "336  Neoplastic_Core          0.0  6.986824  0.000000   0.0    0.0  0.000000   \n",
       "209  Neoplastic_Core          0.0  4.255480  5.902656   0.0    0.0  0.000000   \n",
       "194  Neoplastic_Core          0.0  0.000000  6.259303   0.0    0.0  0.000000   \n",
       "79   Neoplastic_Core          0.0  0.000000  0.000000   0.0    0.0  0.000000   \n",
       "40   Neoplastic_Core          0.0  0.000000  0.000000   0.0    0.0  0.000000   \n",
       "130  Neoplastic_Core          0.0  0.000000  0.000000   0.0    0.0  3.542372   \n",
       "196  Neoplastic_Core          0.0  4.864268  3.831479   0.0    0.0  0.000000   \n",
       "\n",
       "     A2ML1  A2MP1  A4GALT  ...  PPP1R2P3  PPP1R2P9  PPP1R32   PPP1R35  \\\n",
       "317    0.0    0.0       0  ...  0.000000         0      0.0  0.000000   \n",
       "11     0.0    0.0       0  ...  0.000000         0      0.0  0.000000   \n",
       "200    0.0    0.0       0  ...  1.490638         0      0.0  4.111965   \n",
       "336    0.0    0.0       0  ...  0.000000         0      0.0  0.000000   \n",
       "209    0.0    0.0       0  ...  0.000000         0      0.0  5.217210   \n",
       "194    0.0    0.0       0  ...  0.000000         0      0.0  5.727270   \n",
       "79     0.0    0.0       0  ...  0.000000         0      0.0  0.000000   \n",
       "40     0.0    0.0       0  ...  0.000000         0      0.0  0.000000   \n",
       "130    0.0    0.0       0  ...  0.000000         0      0.0  0.000000   \n",
       "196    0.0    0.0       0  ...  0.000000         0      0.0  4.492405   \n",
       "\n",
       "     PPP1R36   PPP1R37  PPP1R3A   PPP1R3B   PPP1R3C  PPP1R3D  \n",
       "317      0.0  0.000000        0  8.834526  0.000000      0.0  \n",
       "11       0.0  0.000000        0  0.000000  0.000000      0.0  \n",
       "200      0.0  0.000000        0  0.000000  0.000000      0.0  \n",
       "336      0.0  0.000000        0  0.000000  0.000000      0.0  \n",
       "209      0.0  0.000000        0  0.000000  7.739253      0.0  \n",
       "194      0.0  3.385459        0  0.000000  0.000000      0.0  \n",
       "79       0.0  0.000000        0  0.000000  0.000000      0.0  \n",
       "40       0.0  0.000000        0  0.000000  0.000000      0.0  \n",
       "130      0.0  0.000000        0  0.000000  0.000000      0.0  \n",
       "196      0.0  0.000000        0  0.000000  3.212965      0.0  \n",
       "\n",
       "[10 rows x 16384 columns]"
      ]
     },
     "execution_count": 2,
     "metadata": {},
     "output_type": "execute_result"
    }
   ],
   "source": [
    "df.sample(10)"
   ]
  },
  {
   "cell_type": "markdown",
   "id": "6aa595c7",
   "metadata": {},
   "source": [
    "Whenever we have a lot of features that means the exploratory data analysis will be fuzzy and it won't be effective"
   ]
  },
  {
   "cell_type": "code",
   "execution_count": 3,
   "id": "40f666a8",
   "metadata": {},
   "outputs": [
    {
     "data": {
      "text/plain": [
       "Neoplastic_Core         386\n",
       "Neoplastic_Periphery     58\n",
       "Name: class, dtype: int64"
      ]
     },
     "execution_count": 3,
     "metadata": {},
     "output_type": "execute_result"
    }
   ],
   "source": [
    "#Counts of classes in data\n",
    "df['class'].value_counts()"
   ]
  },
  {
   "cell_type": "markdown",
   "id": "04c12ebf",
   "metadata": {},
   "source": [
    "# Visualization of calsses counts percentages (Neoplastic_Core and Neoplastic_Periphery)"
   ]
  },
  {
   "cell_type": "code",
   "execution_count": 4,
   "id": "3a2c4487",
   "metadata": {},
   "outputs": [
    {
     "name": "stdout",
     "output_type": "stream",
     "text": [
      "Rows, Columns: (444, 16384)\n"
     ]
    },
    {
     "data": {
      "image/png": "[encoded data removed]",
      "text/plain": [
       "<Figure size 1296x648 with 1 Axes>"
      ]
     },
     "metadata": {},
     "output_type": "display_data"
    }
   ],
   "source": [
    "print(\"Rows, Columns:\",df.shape)\n",
    "Classes = df.groupby('class').size()\n",
    "labels = Classes.index.values\n",
    "sizes = Classes.values\n",
    "muestra = []\n",
    "for k in range(0,labels.size):\n",
    "  texto = labels[k]+': '+str(sizes[k])+' samples\\n({:,.2f} %)'.format((100*sizes[k]/sum(sizes)))\n",
    "  muestra.append(texto)\n",
    "colors = ['#F4D03F','#27AE60']\n",
    "bbox_props = dict(boxstyle=\"square,pad=0.3\", fc=\"w\", ec=\"k\", lw=0.72)\n",
    "kw = dict(arrowprops=dict(arrowstyle=\"-\"),bbox=bbox_props, zorder=0, va=\"center\")\n",
    "fig,ax1 = plt.subplots(figsize=(18,9),ncols=1,nrows=1)\n",
    "wedges, texts = ax1.pie(sizes, shadow=True, colors=colors, startangle=90)\n",
    "ax1.axis('equal')  # Equal aspect ratio ensures that pie is drawn as a circle.\n",
    "\n",
    "for i, p in enumerate(wedges):\n",
    "    ang = (p.theta2 - p.theta1)/2. + p.theta1\n",
    "    y = np.sin(np.deg2rad(ang))\n",
    "    x = np.cos(np.deg2rad(ang))\n",
    "    horizontalalignment = {-1: \"right\", 1: \"left\"}[int(np.sign(x))]\n",
    "    connectionstyle = \"angle,angleA=0,angleB={}\".format(ang)\n",
    "    kw[\"arrowprops\"].update({\"connectionstyle\": connectionstyle})\n",
    "    ax1.annotate(muestra[i], xy=(x, y), xytext=(1.35*np.sign(x), 1.4*y),\n",
    "                horizontalalignment=horizontalalignment, **kw)\n",
    "plt.show()"
   ]
  },
  {
   "cell_type": "code",
   "execution_count": 5,
   "id": "da1b986c",
   "metadata": {},
   "outputs": [],
   "source": [
    "def show_grid_results(model):\n",
    "    print(f'We trained {len(model.cv_results_[\"params\"])} models using grid search and chose the best one:\\n')\n",
    "    for i, d in enumerate(model.cv_results_['params']):\n",
    "        if i-1 == model.best_index_:\n",
    "            print()\n",
    "        for k, v in d.items():\n",
    "            print(f'{k}: {str(v):6}{\" \"*6}', end='')\n",
    "        print(f'{model.cv_results_[\"mean_test_score\"][i]:.8f}', end = '')\n",
    "        print(f'{\"  <-- BEST PERFORMANCE\" if i == model.best_index_ else \"\"}')\n",
    "        if i+1 == model.best_index_:\n",
    "            print()"
   ]
  },
  {
   "cell_type": "code",
   "execution_count": 6,
   "id": "d436401c",
   "metadata": {},
   "outputs": [],
   "source": [
    "def show_confusion_matrix(model, X_test, y_test):\n",
    "    class_names = model.classes_\n",
    "    fig, ax = plt.subplots(figsize=(5, 5), dpi=100)\n",
    "    ax.grid = False\n",
    "    plt.rcParams.update({'font.size': 8})\n",
    "    disp = plot_confusion_matrix(model, X_test, y_test,\n",
    "                                 display_labels=class_names,\n",
    "                                 cmap=plt.cm.Blues,\n",
    "                                 normalize=None,\n",
    "                                 ax=ax)\n",
    "    tick_marks = np.arange(len(class_names))\n",
    "    plt.xticks(tick_marks, class_names, rotation=45, ha='right')\n",
    "    disp.ax_.set_title(f'Confusion Matrix\\n{model}', size=11, y=1.05)\n",
    "    ax.tick_params(axis='both', which='major', labelsize=10)\n",
    "    plt.show();"
   ]
  },
  {
   "cell_type": "code",
   "execution_count": 7,
   "id": "f15b3052",
   "metadata": {},
   "outputs": [],
   "source": [
    "def plot_decision_tree(clf, feature_names, class_names):\n",
    "    export_graphviz(clf, out_file=\"tree_temp.dot\", feature_names=feature_names, class_names=class_names, filled = True, impurity = False)\n",
    "    with open(\"tree_temp.dot\") as f:\n",
    "        dot_graph = f.read()\n",
    "    return graphviz.Source(dot_graph)"
   ]
  },
  {
   "cell_type": "code",
   "execution_count": 8,
   "id": "d4859169",
   "metadata": {},
   "outputs": [],
   "source": [
    "def fit_and_predict_model(model, X_train, y_train, X_test):\n",
    "    start_time = time.time()\n",
    "    print('Training model ...', end='')\n",
    "    model.fit(X_train, y_train)\n",
    "    train_time = time.time() - start_time\n",
    "    eval_time = start_time - start_time\n",
    "    print(f'training completed in {train_time:.4f}s.')\n",
    "    if type(model) == 'sklearn.model_selection._search.GridSearchCV':\n",
    "        print('Making predictions with model on test data ... ', end='')\n",
    "        y_pred = model.best_estimator_.predict(X_test)\n",
    "        print('predictions completed.')\n",
    "    else:\n",
    "        print('Making predictions with model on test data ... ', end='')\n",
    "        y_pred = model.predict(X_test)\n",
    "        print('predictions completed.')\n",
    "    return y_pred, train_time, eval_time\n"
   ]
  },
  {
   "cell_type": "code",
   "execution_count": 9,
   "id": "d264c4be",
   "metadata": {},
   "outputs": [],
   "source": [
    "# Global variable to hold all results\n",
    "results = []\n",
    "# Update results for a model\n",
    "def capture_results(model_description, y_test, y_pred, train_time, eval_time):\n",
    "    r = (model_description,\n",
    "         accuracy_score(y_test, y_pred),\n",
    "         precision_score(y_test, y_pred, average='weighted'),\n",
    "         recall_score(y_test, y_pred, average='weighted'),\n",
    "         f1_score(y_test, y_pred, average='weighted'))\n",
    "    results.append(r)"
   ]
  },
  {
   "cell_type": "markdown",
   "id": "cc619d97",
   "metadata": {},
   "source": [
    "# Identify features and labels"
   ]
  },
  {
   "cell_type": "code",
   "execution_count": 10,
   "id": "1522364b",
   "metadata": {},
   "outputs": [],
   "source": [
    "features = df.columns[:-1]\n",
    "X = df[features].values\n",
    "labels = df.columns[-1]\n",
    "y = df[labels].values"
   ]
  },
  {
   "cell_type": "code",
   "execution_count": 11,
   "id": "dde28f12",
   "metadata": {
    "scrolled": true
   },
   "outputs": [
    {
     "data": {
      "image/png": "[encoded data removed]",
      "text/plain": [
       "<Figure size 432x288 with 1 Axes>"
      ]
     },
     "metadata": {},
     "output_type": "display_data"
    }
   ],
   "source": [
    "df['class'].value_counts().plot(kind='bar', title='Distribution of Samples by Class');"
   ]
  },
  {
   "cell_type": "markdown",
   "id": "be47d9f6",
   "metadata": {},
   "source": [
    "# Split data into features and labels (X and y)"
   ]
  },
  {
   "cell_type": "code",
   "execution_count": 12,
   "id": "0d6a50e8",
   "metadata": {},
   "outputs": [
    {
     "name": "stdout",
     "output_type": "stream",
     "text": [
      "(333, 16383)\n",
      "(333,)\n",
      "(111, 16383)\n",
      "(111,)\n"
     ]
    }
   ],
   "source": [
    "X = df.drop(['class'], axis=1)\n",
    "y = df['class']\n",
    "\n",
    "X_train, X_test, y_train, y_test = train_test_split(X, y, random_state=42)\n",
    "\n",
    "print(X_train.shape)\n",
    "print(y_train.shape)\n",
    "print(X_test.shape)\n",
    "print(y_test.shape)"
   ]
  },
  {
   "cell_type": "code",
   "execution_count": 13,
   "id": "652457ba",
   "metadata": {},
   "outputs": [],
   "source": [
    "scaler = StandardScaler().fit(X_train)\n",
    "X_train_scaled = scaler.transform(X_train)\n",
    "X_test_scaled = scaler.transform(X_test)"
   ]
  },
  {
   "cell_type": "code",
   "execution_count": 14,
   "id": "af07e24b",
   "metadata": {},
   "outputs": [
    {
     "name": "stdout",
     "output_type": "stream",
     "text": [
      "Total samples in dataset: 444\n",
      "\n",
      "Class distribution for 333 training samples:\n",
      "Class\tCount\tPercent\n",
      "Neoplastic_Core\t  295\t88.6%\n",
      "Neoplastic_Periphery\t   38\t11.4%\n",
      "\n",
      "Class distribution for 111 testing samples:\n",
      "Class\tCount\tPercent\n",
      "Neoplastic_Core\t   91\t82.0%\n",
      "Neoplastic_Periphery\t   20\t18.0%\n"
     ]
    }
   ],
   "source": [
    "print(f'Total samples in dataset: {len(df)}\\n')\n",
    "unique, frequency = np.unique(y_train, return_counts = True)\n",
    "print(f'Class distribution for {len(y_train)} training samples:')\n",
    "print(f'Class\\tCount\\tPercent')\n",
    "for u, f in zip(unique, frequency):\n",
    "    print(f'{u:>5}\\t{f:>5}\\t{f/frequency.sum():.1%}')\n",
    "print()\n",
    "unique, frequency = np.unique(y_test, return_counts = True)\n",
    "print(f'Class distribution for {len(y_test)} testing samples:')\n",
    "print(f'Class\\tCount\\tPercent')\n",
    "for u, f in zip(unique, frequency):\n",
    "    print(f'{u:>5}\\t{f:>5}\\t{f/frequency.sum():.1%}')"
   ]
  },
  {
   "cell_type": "markdown",
   "id": "d92a96e6",
   "metadata": {},
   "source": [
    "# Decision Tree"
   ]
  },
  {
   "cell_type": "code",
   "execution_count": 15,
   "id": "4d573de4",
   "metadata": {},
   "outputs": [
    {
     "name": "stdout",
     "output_type": "stream",
     "text": [
      "Training model ...training completed in 1.0434s.\n",
      "Making predictions with model on test data ... predictions completed.\n"
     ]
    }
   ],
   "source": [
    "dt = DecisionTreeClassifier()\n",
    "y_pred, train_time, eval_time = fit_and_predict_model(dt, X_train, y_train, X_test)\n",
    "capture_results('Decision Tree - Baseline', y_test, y_pred, train_time, eval_time)"
   ]
  },
  {
   "cell_type": "code",
   "execution_count": 16,
   "id": "a45fd2c2",
   "metadata": {},
   "outputs": [
    {
     "name": "stdout",
     "output_type": "stream",
     "text": [
      "                      precision    recall  f1-score   support\n",
      "\n",
      "     Neoplastic_Core       0.90      0.97      0.93        91\n",
      "Neoplastic_Periphery       0.77      0.50      0.61        20\n",
      "\n",
      "            accuracy                           0.88       111\n",
      "           macro avg       0.83      0.73      0.77       111\n",
      "        weighted avg       0.87      0.88      0.87       111\n",
      "\n"
     ]
    }
   ],
   "source": [
    "print(classification_report(y_test, y_pred))\n"
   ]
  },
  {
   "cell_type": "markdown",
   "id": "954882b9",
   "metadata": {},
   "source": [
    "We have got 89 % accuracy score due to few misclassifications most of it on Neoplastic_Periphery class."
   ]
  },
  {
   "cell_type": "code",
   "execution_count": 17,
   "id": "83edd900",
   "metadata": {},
   "outputs": [
    {
     "name": "stderr",
     "output_type": "stream",
     "text": [
      "C:\\Users\\h219442\\Anaconda3\\lib\\site-packages\\sklearn\\utils\\deprecation.py:87: FutureWarning: Function plot_confusion_matrix is deprecated; Function `plot_confusion_matrix` is deprecated in 1.0 and will be removed in 1.2. Use one of the class methods: ConfusionMatrixDisplay.from_predictions or ConfusionMatrixDisplay.from_estimator.\n",
      "  warnings.warn(msg, category=FutureWarning)\n"
     ]
    },
    {
     "data": {
      "image/png": "[encoded data removed]",
      "text/plain": [
       "<Figure size 500x500 with 2 Axes>"
      ]
     },
     "metadata": {},
     "output_type": "display_data"
    }
   ],
   "source": [
    "show_confusion_matrix(dt, X_test, y_test)"
   ]
  },
  {
   "cell_type": "markdown",
   "id": "034e1f8d",
   "metadata": {},
   "source": [
    "1. We have got 87 over 91 counts match between the true (unseen) and predicted cells classification of the Neoplastic_Core Cells.\n",
    "2. We have got 12 over 20 counts match between the true (unseen) and predicted cells classification of the Neoplastic_Periphery Cells."
   ]
  },
  {
   "cell_type": "markdown",
   "id": "b7bccafc",
   "metadata": {},
   "source": [
    "# Decision Tree Paramaters Optimization Using Grid Search Cross Validation Algorithm"
   ]
  },
  {
   "cell_type": "code",
   "execution_count": 18,
   "id": "2edb9d03",
   "metadata": {},
   "outputs": [],
   "source": [
    "param_grid = {'max_depth': [25, 50, 100, 200, 300],\n",
    "              'min_samples_leaf': [10, 20],\n",
    "              'max_leaf_nodes': [25, 50, 100, 200, 300, 400, 500]}"
   ]
  },
  {
   "cell_type": "code",
   "execution_count": 19,
   "id": "d54bafc5",
   "metadata": {},
   "outputs": [
    {
     "name": "stdout",
     "output_type": "stream",
     "text": [
      "Training model ...training completed in 147.1052s.\n",
      "Making predictions with model on test data ... predictions completed.\n"
     ]
    }
   ],
   "source": [
    "gs_dt = GridSearchCV(DecisionTreeClassifier(), param_grid, cv=4, n_jobs=-1)\n",
    "y_pred, train_time, eval_time = fit_and_predict_model(gs_dt, X_train, y_train, X_test)\n",
    "capture_results('Decision Tree - Optimized', y_test, y_pred, train_time, eval_time)"
   ]
  },
  {
   "cell_type": "code",
   "execution_count": 20,
   "id": "bc60274b",
   "metadata": {},
   "outputs": [
    {
     "data": {
      "text/plain": [
       "DecisionTreeClassifier(max_depth=25, max_leaf_nodes=25, min_samples_leaf=10)"
      ]
     },
     "execution_count": 20,
     "metadata": {},
     "output_type": "execute_result"
    }
   ],
   "source": [
    "gs_dt.best_estimator_"
   ]
  },
  {
   "cell_type": "code",
   "execution_count": 21,
   "id": "2cbfaadf",
   "metadata": {},
   "outputs": [
    {
     "data": {
      "text/plain": [
       "0.9368545611015491"
      ]
     },
     "execution_count": 21,
     "metadata": {},
     "output_type": "execute_result"
    }
   ],
   "source": [
    "gs_dt.best_score_"
   ]
  },
  {
   "cell_type": "code",
   "execution_count": 22,
   "id": "3cdf6a71",
   "metadata": {},
   "outputs": [
    {
     "name": "stdout",
     "output_type": "stream",
     "text": [
      "We trained 70 models using grid search and chose the best one:\n",
      "\n",
      "max_depth: 25          max_leaf_nodes: 25          min_samples_leaf: 10          0.93685456  <-- BEST PERFORMANCE\n",
      "\n",
      "max_depth: 25          max_leaf_nodes: 25          min_samples_leaf: 20          0.91878227\n",
      "max_depth: 25          max_leaf_nodes: 50          min_samples_leaf: 10          0.91878227\n",
      "max_depth: 25          max_leaf_nodes: 50          min_samples_leaf: 20          0.91878227\n",
      "max_depth: 25          max_leaf_nodes: 100         min_samples_leaf: 10          0.91878227\n",
      "max_depth: 25          max_leaf_nodes: 100         min_samples_leaf: 20          0.91878227\n",
      "max_depth: 25          max_leaf_nodes: 200         min_samples_leaf: 10          0.93685456\n",
      "max_depth: 25          max_leaf_nodes: 200         min_samples_leaf: 20          0.91878227\n",
      "max_depth: 25          max_leaf_nodes: 300         min_samples_leaf: 10          0.91878227\n",
      "max_depth: 25          max_leaf_nodes: 300         min_samples_leaf: 20          0.91878227\n",
      "max_depth: 25          max_leaf_nodes: 400         min_samples_leaf: 10          0.93685456\n",
      "max_depth: 25          max_leaf_nodes: 400         min_samples_leaf: 20          0.91878227\n",
      "max_depth: 25          max_leaf_nodes: 500         min_samples_leaf: 10          0.91878227\n",
      "max_depth: 25          max_leaf_nodes: 500         min_samples_leaf: 20          0.91878227\n",
      "max_depth: 50          max_leaf_nodes: 25          min_samples_leaf: 10          0.91878227\n",
      "max_depth: 50          max_leaf_nodes: 25          min_samples_leaf: 20          0.91878227\n",
      "max_depth: 50          max_leaf_nodes: 50          min_samples_leaf: 10          0.93685456\n",
      "max_depth: 50          max_leaf_nodes: 50          min_samples_leaf: 20          0.91878227\n",
      "max_depth: 50          max_leaf_nodes: 100         min_samples_leaf: 10          0.91878227\n",
      "max_depth: 50          max_leaf_nodes: 100         min_samples_leaf: 20          0.91878227\n",
      "max_depth: 50          max_leaf_nodes: 200         min_samples_leaf: 10          0.93685456\n",
      "max_depth: 50          max_leaf_nodes: 200         min_samples_leaf: 20          0.91878227\n",
      "max_depth: 50          max_leaf_nodes: 300         min_samples_leaf: 10          0.91878227\n",
      "max_depth: 50          max_leaf_nodes: 300         min_samples_leaf: 20          0.91878227\n",
      "max_depth: 50          max_leaf_nodes: 400         min_samples_leaf: 10          0.93685456\n",
      "max_depth: 50          max_leaf_nodes: 400         min_samples_leaf: 20          0.91878227\n",
      "max_depth: 50          max_leaf_nodes: 500         min_samples_leaf: 10          0.91878227\n",
      "max_depth: 50          max_leaf_nodes: 500         min_samples_leaf: 20          0.91878227\n",
      "max_depth: 100         max_leaf_nodes: 25          min_samples_leaf: 10          0.93685456\n",
      "max_depth: 100         max_leaf_nodes: 25          min_samples_leaf: 20          0.91878227\n",
      "max_depth: 100         max_leaf_nodes: 50          min_samples_leaf: 10          0.93685456\n",
      "max_depth: 100         max_leaf_nodes: 50          min_samples_leaf: 20          0.91878227\n",
      "max_depth: 100         max_leaf_nodes: 100         min_samples_leaf: 10          0.91878227\n",
      "max_depth: 100         max_leaf_nodes: 100         min_samples_leaf: 20          0.91878227\n",
      "max_depth: 100         max_leaf_nodes: 200         min_samples_leaf: 10          0.93685456\n",
      "max_depth: 100         max_leaf_nodes: 200         min_samples_leaf: 20          0.91878227\n",
      "max_depth: 100         max_leaf_nodes: 300         min_samples_leaf: 10          0.93685456\n",
      "max_depth: 100         max_leaf_nodes: 300         min_samples_leaf: 20          0.91878227\n",
      "max_depth: 100         max_leaf_nodes: 400         min_samples_leaf: 10          0.91878227\n",
      "max_depth: 100         max_leaf_nodes: 400         min_samples_leaf: 20          0.91878227\n",
      "max_depth: 100         max_leaf_nodes: 500         min_samples_leaf: 10          0.91878227\n",
      "max_depth: 100         max_leaf_nodes: 500         min_samples_leaf: 20          0.91878227\n",
      "max_depth: 200         max_leaf_nodes: 25          min_samples_leaf: 10          0.91878227\n",
      "max_depth: 200         max_leaf_nodes: 25          min_samples_leaf: 20          0.91878227\n",
      "max_depth: 200         max_leaf_nodes: 50          min_samples_leaf: 10          0.93685456\n",
      "max_depth: 200         max_leaf_nodes: 50          min_samples_leaf: 20          0.91878227\n",
      "max_depth: 200         max_leaf_nodes: 100         min_samples_leaf: 10          0.93685456\n",
      "max_depth: 200         max_leaf_nodes: 100         min_samples_leaf: 20          0.91878227\n",
      "max_depth: 200         max_leaf_nodes: 200         min_samples_leaf: 10          0.93685456\n",
      "max_depth: 200         max_leaf_nodes: 200         min_samples_leaf: 20          0.91878227\n",
      "max_depth: 200         max_leaf_nodes: 300         min_samples_leaf: 10          0.91878227\n",
      "max_depth: 200         max_leaf_nodes: 300         min_samples_leaf: 20          0.91878227\n",
      "max_depth: 200         max_leaf_nodes: 400         min_samples_leaf: 10          0.93685456\n",
      "max_depth: 200         max_leaf_nodes: 400         min_samples_leaf: 20          0.91878227\n",
      "max_depth: 200         max_leaf_nodes: 500         min_samples_leaf: 10          0.91878227\n",
      "max_depth: 200         max_leaf_nodes: 500         min_samples_leaf: 20          0.91878227\n",
      "max_depth: 300         max_leaf_nodes: 25          min_samples_leaf: 10          0.93685456\n",
      "max_depth: 300         max_leaf_nodes: 25          min_samples_leaf: 20          0.91878227\n",
      "max_depth: 300         max_leaf_nodes: 50          min_samples_leaf: 10          0.91878227\n",
      "max_depth: 300         max_leaf_nodes: 50          min_samples_leaf: 20          0.91878227\n",
      "max_depth: 300         max_leaf_nodes: 100         min_samples_leaf: 10          0.91878227\n",
      "max_depth: 300         max_leaf_nodes: 100         min_samples_leaf: 20          0.91878227\n",
      "max_depth: 300         max_leaf_nodes: 200         min_samples_leaf: 10          0.91878227\n",
      "max_depth: 300         max_leaf_nodes: 200         min_samples_leaf: 20          0.91878227\n",
      "max_depth: 300         max_leaf_nodes: 300         min_samples_leaf: 10          0.91878227\n",
      "max_depth: 300         max_leaf_nodes: 300         min_samples_leaf: 20          0.91878227\n",
      "max_depth: 300         max_leaf_nodes: 400         min_samples_leaf: 10          0.93685456\n",
      "max_depth: 300         max_leaf_nodes: 400         min_samples_leaf: 20          0.91878227\n",
      "max_depth: 300         max_leaf_nodes: 500         min_samples_leaf: 10          0.91878227\n",
      "max_depth: 300         max_leaf_nodes: 500         min_samples_leaf: 20          0.91878227\n"
     ]
    }
   ],
   "source": [
    "show_grid_results(gs_dt)"
   ]
  },
  {
   "cell_type": "code",
   "execution_count": 23,
   "id": "0a63e0fd",
   "metadata": {},
   "outputs": [
    {
     "name": "stdout",
     "output_type": "stream",
     "text": [
      "                      precision    recall  f1-score   support\n",
      "\n",
      "     Neoplastic_Core       0.90      0.98      0.94        91\n",
      "Neoplastic_Periphery       0.83      0.50      0.62        20\n",
      "\n",
      "            accuracy                           0.89       111\n",
      "           macro avg       0.87      0.74      0.78       111\n",
      "        weighted avg       0.89      0.89      0.88       111\n",
      "\n"
     ]
    }
   ],
   "source": [
    "print(classification_report(y_test, y_pred))"
   ]
  },
  {
   "cell_type": "markdown",
   "id": "73196a1b",
   "metadata": {},
   "source": [
    "We have got 89 % accuracy score due to few misclassifications most of it on Neoplastic_Periphery class. "
   ]
  },
  {
   "cell_type": "code",
   "execution_count": 24,
   "id": "8efebe63",
   "metadata": {},
   "outputs": [
    {
     "name": "stderr",
     "output_type": "stream",
     "text": [
      "C:\\Users\\h219442\\Anaconda3\\lib\\site-packages\\sklearn\\utils\\deprecation.py:87: FutureWarning: Function plot_confusion_matrix is deprecated; Function `plot_confusion_matrix` is deprecated in 1.0 and will be removed in 1.2. Use one of the class methods: ConfusionMatrixDisplay.from_predictions or ConfusionMatrixDisplay.from_estimator.\n",
      "  warnings.warn(msg, category=FutureWarning)\n"
     ]
    },
    {
     "data": {
      "image/png": "[encoded data removed]",
      "text/plain": [
       "<Figure size 500x500 with 2 Axes>"
      ]
     },
     "metadata": {},
     "output_type": "display_data"
    }
   ],
   "source": [
    "show_confusion_matrix(gs_dt.best_estimator_, X_test, y_test)"
   ]
  },
  {
   "cell_type": "markdown",
   "id": "23f0a98a",
   "metadata": {},
   "source": [
    "1. We have got 89 over 91 counts match between the true (unseen) and predicted cells classification of the Neoplastic_Core Cells.\n",
    "2. We have got 10 over 20 counts match between the true (unseen) and predicted cells classification of the Neoplastic_Periphery Cells.\n",
    "This leads us to say that after using the decision tree optimization based on the grid search algorithm we've got little improvment on the Neoplastic_core cells matching but on the other hand we lost the little accuracy on the Neoplastic_Periphery. Over all we can call it good enough due to the large and lot of zeros in the dataset."
   ]
  },
  {
   "cell_type": "code",
   "execution_count": null,
   "id": "07b01295",
   "metadata": {},
   "outputs": [],
   "source": []
  }
 ],
 "metadata": {
  "kernelspec": {
   "display_name": "Python 3 (ipykernel)",
   "language": "python",
   "name": "python3"
  },
  "language_info": {
   "codemirror_mode": {
    "name": "ipython",
    "version": 3
   },
   "file_extension": ".py",
   "mimetype": "text/x-python",
   "name": "python",
   "nbconvert_exporter": "python",
   "pygments_lexer": "ipython3",
   "version": "3.9.7"
  }
 },
 "nbformat": 4,
 "nbformat_minor": 5
}
